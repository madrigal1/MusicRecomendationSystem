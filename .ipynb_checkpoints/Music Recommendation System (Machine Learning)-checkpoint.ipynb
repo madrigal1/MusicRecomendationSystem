{
 "cells": [
  {
   "cell_type": "markdown",
   "metadata": {},
   "source": [
    "## Music Recommendation System (Machine Learning)"
   ]
  },
  {
   "cell_type": "markdown",
   "metadata": {},
   "source": [
    "This project is aimed upon building a music recommendation system that gives the user recommendations on music based on his music taste by analysing his previously heard music and playlist. This project is done in two ways, using 'User - to - User Recommendation' and 'Item - to - Item Recommendation'. Birch, MiniBatchKMeans and KMeans algorithms are being used along with 'Surprise' module to compute the similarity between recommendations and user's already existing playlist for evaluation"
   ]
  },
  {
   "cell_type": "markdown",
   "metadata": {},
   "source": [
    "### Obtaining Data"
   ]
  },
  {
   "cell_type": "code",
   "execution_count": 1,
   "metadata": {},
   "outputs": [],
   "source": [
    "import pandas as pd\n",
    "import numpy as np"
   ]
  },
  {
   "cell_type": "code",
   "execution_count": 2,
   "metadata": {},
   "outputs": [],
   "source": [
    "final = pd.read_csv('datasets/final/final.csv')\n",
    "metadata = pd.read_csv('datasets/final/metadata.csv')"
   ]
  },
  {
   "cell_type": "markdown",
   "metadata": {},
   "source": [
    "### Model Selection - K Means Algorithm"
   ]
  },
  {
   "cell_type": "code",
   "execution_count": 3,
   "metadata": {},
   "outputs": [],
   "source": [
    "from sklearn.cluster import KMeans\n",
    "from sklearn.utils import shuffle"
   ]
  },
  {
   "cell_type": "code",
   "execution_count": 4,
   "metadata": {},
   "outputs": [],
   "source": [
    "final = shuffle(final)"
   ]
  },
  {
   "cell_type": "code",
   "execution_count": 5,
   "metadata": {},
   "outputs": [],
   "source": [
    "X = final.loc[[i for i in range(0, 6000)]]\n",
    "Y = final.loc[[i for i in range(6000, final.shape[0])]]"
   ]
  },
  {
   "cell_type": "code",
   "execution_count": 6,
   "metadata": {},
   "outputs": [],
   "source": [
    "X = shuffle(X)\n",
    "Y = shuffle(Y)"
   ]
  },
  {
   "cell_type": "code",
   "execution_count": 7,
   "metadata": {
    "scrolled": true
   },
   "outputs": [
    {
     "data": {
      "text/html": [
       "<div>\n",
       "<style scoped>\n",
       "    .dataframe tbody tr th:only-of-type {\n",
       "        vertical-align: middle;\n",
       "    }\n",
       "\n",
       "    .dataframe tbody tr th {\n",
       "        vertical-align: top;\n",
       "    }\n",
       "\n",
       "    .dataframe thead th {\n",
       "        text-align: right;\n",
       "    }\n",
       "</style>\n",
       "<table border=\"1\" class=\"dataframe\">\n",
       "  <thead>\n",
       "    <tr style=\"text-align: right;\">\n",
       "      <th></th>\n",
       "      <th>track_id</th>\n",
       "      <th>album_title</th>\n",
       "      <th>artist_name</th>\n",
       "      <th>genre</th>\n",
       "      <th>track_title</th>\n",
       "    </tr>\n",
       "  </thead>\n",
       "  <tbody>\n",
       "    <tr>\n",
       "      <th>0</th>\n",
       "      <td>2</td>\n",
       "      <td>AWOL - A Way Of Life</td>\n",
       "      <td>AWOL</td>\n",
       "      <td>HipHop</td>\n",
       "      <td>Food</td>\n",
       "    </tr>\n",
       "    <tr>\n",
       "      <th>1</th>\n",
       "      <td>3</td>\n",
       "      <td>AWOL - A Way Of Life</td>\n",
       "      <td>AWOL</td>\n",
       "      <td>HipHop</td>\n",
       "      <td>Electric Ave</td>\n",
       "    </tr>\n",
       "    <tr>\n",
       "      <th>2</th>\n",
       "      <td>5</td>\n",
       "      <td>AWOL - A Way Of Life</td>\n",
       "      <td>AWOL</td>\n",
       "      <td>HipHop</td>\n",
       "      <td>This World</td>\n",
       "    </tr>\n",
       "    <tr>\n",
       "      <th>3</th>\n",
       "      <td>10</td>\n",
       "      <td>Constant Hitmaker</td>\n",
       "      <td>Kurt Vile</td>\n",
       "      <td>Pop</td>\n",
       "      <td>Freeway</td>\n",
       "    </tr>\n",
       "    <tr>\n",
       "      <th>4</th>\n",
       "      <td>134</td>\n",
       "      <td>AWOL - A Way Of Life</td>\n",
       "      <td>AWOL</td>\n",
       "      <td>HipHop</td>\n",
       "      <td>Street Music</td>\n",
       "    </tr>\n",
       "  </tbody>\n",
       "</table>\n",
       "</div>"
      ],
      "text/plain": [
       "   track_id           album_title artist_name   genre   track_title\n",
       "0         2  AWOL - A Way Of Life        AWOL  HipHop          Food\n",
       "1         3  AWOL - A Way Of Life        AWOL  HipHop  Electric Ave\n",
       "2         5  AWOL - A Way Of Life        AWOL  HipHop    This World\n",
       "3        10     Constant Hitmaker   Kurt Vile     Pop       Freeway\n",
       "4       134  AWOL - A Way Of Life        AWOL  HipHop  Street Music"
      ]
     },
     "execution_count": 7,
     "metadata": {},
     "output_type": "execute_result"
    }
   ],
   "source": [
    "metadata.head()"
   ]
  },
  {
   "cell_type": "code",
   "execution_count": 8,
   "metadata": {},
   "outputs": [],
   "source": [
    "metadata = metadata.set_index('track_id')"
   ]
  },
  {
   "cell_type": "code",
   "execution_count": 9,
   "metadata": {},
   "outputs": [
    {
     "ename": "KeyError",
     "evalue": "\"['label'] not found in axis\"",
     "output_type": "error",
     "traceback": [
      "\u001b[0;31m---------------------------------------------------------------------------\u001b[0m",
      "\u001b[0;31mKeyError\u001b[0m                                  Traceback (most recent call last)",
      "\u001b[0;32m/tmp/ipykernel_609730/1491535692.py\u001b[0m in \u001b[0;36m<module>\u001b[0;34m\u001b[0m\n\u001b[0;32m----> 1\u001b[0;31m \u001b[0mX\u001b[0m\u001b[0;34m.\u001b[0m\u001b[0mdrop\u001b[0m\u001b[0;34m(\u001b[0m\u001b[0;34m[\u001b[0m\u001b[0;34m'label'\u001b[0m\u001b[0;34m]\u001b[0m\u001b[0;34m,\u001b[0m \u001b[0maxis\u001b[0m\u001b[0;34m=\u001b[0m \u001b[0;36m1\u001b[0m\u001b[0;34m,\u001b[0m \u001b[0minplace\u001b[0m\u001b[0;34m=\u001b[0m \u001b[0;32mTrue\u001b[0m\u001b[0;34m)\u001b[0m\u001b[0;34m\u001b[0m\u001b[0;34m\u001b[0m\u001b[0m\n\u001b[0m",
      "\u001b[0;32m~/anaconda3/lib/python3.8/site-packages/pandas/util/_decorators.py\u001b[0m in \u001b[0;36mwrapper\u001b[0;34m(*args, **kwargs)\u001b[0m\n\u001b[1;32m    309\u001b[0m                     \u001b[0mstacklevel\u001b[0m\u001b[0;34m=\u001b[0m\u001b[0mstacklevel\u001b[0m\u001b[0;34m,\u001b[0m\u001b[0;34m\u001b[0m\u001b[0;34m\u001b[0m\u001b[0m\n\u001b[1;32m    310\u001b[0m                 )\n\u001b[0;32m--> 311\u001b[0;31m             \u001b[0;32mreturn\u001b[0m \u001b[0mfunc\u001b[0m\u001b[0;34m(\u001b[0m\u001b[0;34m*\u001b[0m\u001b[0margs\u001b[0m\u001b[0;34m,\u001b[0m \u001b[0;34m**\u001b[0m\u001b[0mkwargs\u001b[0m\u001b[0;34m)\u001b[0m\u001b[0;34m\u001b[0m\u001b[0;34m\u001b[0m\u001b[0m\n\u001b[0m\u001b[1;32m    312\u001b[0m \u001b[0;34m\u001b[0m\u001b[0m\n\u001b[1;32m    313\u001b[0m         \u001b[0;32mreturn\u001b[0m \u001b[0mwrapper\u001b[0m\u001b[0;34m\u001b[0m\u001b[0;34m\u001b[0m\u001b[0m\n",
      "\u001b[0;32m~/anaconda3/lib/python3.8/site-packages/pandas/core/frame.py\u001b[0m in \u001b[0;36mdrop\u001b[0;34m(self, labels, axis, index, columns, level, inplace, errors)\u001b[0m\n\u001b[1;32m   4904\u001b[0m                 \u001b[0mweight\u001b[0m  \u001b[0;36m1.0\u001b[0m     \u001b[0;36m0.8\u001b[0m\u001b[0;34m\u001b[0m\u001b[0;34m\u001b[0m\u001b[0m\n\u001b[1;32m   4905\u001b[0m         \"\"\"\n\u001b[0;32m-> 4906\u001b[0;31m         return super().drop(\n\u001b[0m\u001b[1;32m   4907\u001b[0m             \u001b[0mlabels\u001b[0m\u001b[0;34m=\u001b[0m\u001b[0mlabels\u001b[0m\u001b[0;34m,\u001b[0m\u001b[0;34m\u001b[0m\u001b[0;34m\u001b[0m\u001b[0m\n\u001b[1;32m   4908\u001b[0m             \u001b[0maxis\u001b[0m\u001b[0;34m=\u001b[0m\u001b[0maxis\u001b[0m\u001b[0;34m,\u001b[0m\u001b[0;34m\u001b[0m\u001b[0;34m\u001b[0m\u001b[0m\n",
      "\u001b[0;32m~/anaconda3/lib/python3.8/site-packages/pandas/core/generic.py\u001b[0m in \u001b[0;36mdrop\u001b[0;34m(self, labels, axis, index, columns, level, inplace, errors)\u001b[0m\n\u001b[1;32m   4148\u001b[0m         \u001b[0;32mfor\u001b[0m \u001b[0maxis\u001b[0m\u001b[0;34m,\u001b[0m \u001b[0mlabels\u001b[0m \u001b[0;32min\u001b[0m \u001b[0maxes\u001b[0m\u001b[0;34m.\u001b[0m\u001b[0mitems\u001b[0m\u001b[0;34m(\u001b[0m\u001b[0;34m)\u001b[0m\u001b[0;34m:\u001b[0m\u001b[0;34m\u001b[0m\u001b[0;34m\u001b[0m\u001b[0m\n\u001b[1;32m   4149\u001b[0m             \u001b[0;32mif\u001b[0m \u001b[0mlabels\u001b[0m \u001b[0;32mis\u001b[0m \u001b[0;32mnot\u001b[0m \u001b[0;32mNone\u001b[0m\u001b[0;34m:\u001b[0m\u001b[0;34m\u001b[0m\u001b[0;34m\u001b[0m\u001b[0m\n\u001b[0;32m-> 4150\u001b[0;31m                 \u001b[0mobj\u001b[0m \u001b[0;34m=\u001b[0m \u001b[0mobj\u001b[0m\u001b[0;34m.\u001b[0m\u001b[0m_drop_axis\u001b[0m\u001b[0;34m(\u001b[0m\u001b[0mlabels\u001b[0m\u001b[0;34m,\u001b[0m \u001b[0maxis\u001b[0m\u001b[0;34m,\u001b[0m \u001b[0mlevel\u001b[0m\u001b[0;34m=\u001b[0m\u001b[0mlevel\u001b[0m\u001b[0;34m,\u001b[0m \u001b[0merrors\u001b[0m\u001b[0;34m=\u001b[0m\u001b[0merrors\u001b[0m\u001b[0;34m)\u001b[0m\u001b[0;34m\u001b[0m\u001b[0;34m\u001b[0m\u001b[0m\n\u001b[0m\u001b[1;32m   4151\u001b[0m \u001b[0;34m\u001b[0m\u001b[0m\n\u001b[1;32m   4152\u001b[0m         \u001b[0;32mif\u001b[0m \u001b[0minplace\u001b[0m\u001b[0;34m:\u001b[0m\u001b[0;34m\u001b[0m\u001b[0;34m\u001b[0m\u001b[0m\n",
      "\u001b[0;32m~/anaconda3/lib/python3.8/site-packages/pandas/core/generic.py\u001b[0m in \u001b[0;36m_drop_axis\u001b[0;34m(self, labels, axis, level, errors)\u001b[0m\n\u001b[1;32m   4183\u001b[0m                 \u001b[0mnew_axis\u001b[0m \u001b[0;34m=\u001b[0m \u001b[0maxis\u001b[0m\u001b[0;34m.\u001b[0m\u001b[0mdrop\u001b[0m\u001b[0;34m(\u001b[0m\u001b[0mlabels\u001b[0m\u001b[0;34m,\u001b[0m \u001b[0mlevel\u001b[0m\u001b[0;34m=\u001b[0m\u001b[0mlevel\u001b[0m\u001b[0;34m,\u001b[0m \u001b[0merrors\u001b[0m\u001b[0;34m=\u001b[0m\u001b[0merrors\u001b[0m\u001b[0;34m)\u001b[0m\u001b[0;34m\u001b[0m\u001b[0;34m\u001b[0m\u001b[0m\n\u001b[1;32m   4184\u001b[0m             \u001b[0;32melse\u001b[0m\u001b[0;34m:\u001b[0m\u001b[0;34m\u001b[0m\u001b[0;34m\u001b[0m\u001b[0m\n\u001b[0;32m-> 4185\u001b[0;31m                 \u001b[0mnew_axis\u001b[0m \u001b[0;34m=\u001b[0m \u001b[0maxis\u001b[0m\u001b[0;34m.\u001b[0m\u001b[0mdrop\u001b[0m\u001b[0;34m(\u001b[0m\u001b[0mlabels\u001b[0m\u001b[0;34m,\u001b[0m \u001b[0merrors\u001b[0m\u001b[0;34m=\u001b[0m\u001b[0merrors\u001b[0m\u001b[0;34m)\u001b[0m\u001b[0;34m\u001b[0m\u001b[0;34m\u001b[0m\u001b[0m\n\u001b[0m\u001b[1;32m   4186\u001b[0m             \u001b[0mresult\u001b[0m \u001b[0;34m=\u001b[0m \u001b[0mself\u001b[0m\u001b[0;34m.\u001b[0m\u001b[0mreindex\u001b[0m\u001b[0;34m(\u001b[0m\u001b[0;34m**\u001b[0m\u001b[0;34m{\u001b[0m\u001b[0maxis_name\u001b[0m\u001b[0;34m:\u001b[0m \u001b[0mnew_axis\u001b[0m\u001b[0;34m}\u001b[0m\u001b[0;34m)\u001b[0m\u001b[0;34m\u001b[0m\u001b[0;34m\u001b[0m\u001b[0m\n\u001b[1;32m   4187\u001b[0m \u001b[0;34m\u001b[0m\u001b[0m\n",
      "\u001b[0;32m~/anaconda3/lib/python3.8/site-packages/pandas/core/indexes/base.py\u001b[0m in \u001b[0;36mdrop\u001b[0;34m(self, labels, errors)\u001b[0m\n\u001b[1;32m   6015\u001b[0m         \u001b[0;32mif\u001b[0m \u001b[0mmask\u001b[0m\u001b[0;34m.\u001b[0m\u001b[0many\u001b[0m\u001b[0;34m(\u001b[0m\u001b[0;34m)\u001b[0m\u001b[0;34m:\u001b[0m\u001b[0;34m\u001b[0m\u001b[0;34m\u001b[0m\u001b[0m\n\u001b[1;32m   6016\u001b[0m             \u001b[0;32mif\u001b[0m \u001b[0merrors\u001b[0m \u001b[0;34m!=\u001b[0m \u001b[0;34m\"ignore\"\u001b[0m\u001b[0;34m:\u001b[0m\u001b[0;34m\u001b[0m\u001b[0;34m\u001b[0m\u001b[0m\n\u001b[0;32m-> 6017\u001b[0;31m                 \u001b[0;32mraise\u001b[0m \u001b[0mKeyError\u001b[0m\u001b[0;34m(\u001b[0m\u001b[0;34mf\"{labels[mask]} not found in axis\"\u001b[0m\u001b[0;34m)\u001b[0m\u001b[0;34m\u001b[0m\u001b[0;34m\u001b[0m\u001b[0m\n\u001b[0m\u001b[1;32m   6018\u001b[0m             \u001b[0mindexer\u001b[0m \u001b[0;34m=\u001b[0m \u001b[0mindexer\u001b[0m\u001b[0;34m[\u001b[0m\u001b[0;34m~\u001b[0m\u001b[0mmask\u001b[0m\u001b[0;34m]\u001b[0m\u001b[0;34m\u001b[0m\u001b[0;34m\u001b[0m\u001b[0m\n\u001b[1;32m   6019\u001b[0m         \u001b[0;32mreturn\u001b[0m \u001b[0mself\u001b[0m\u001b[0;34m.\u001b[0m\u001b[0mdelete\u001b[0m\u001b[0;34m(\u001b[0m\u001b[0mindexer\u001b[0m\u001b[0;34m)\u001b[0m\u001b[0;34m\u001b[0m\u001b[0;34m\u001b[0m\u001b[0m\n",
      "\u001b[0;31mKeyError\u001b[0m: \"['label'] not found in axis\""
     ]
    }
   ],
   "source": [
    "X.drop(['label'], axis= 1, inplace= True)"
   ]
  },
  {
   "cell_type": "code",
   "execution_count": 9,
   "metadata": {
    "scrolled": false
   },
   "outputs": [],
   "source": [
    "kmeans = KMeans(n_clusters=6)"
   ]
  },
  {
   "cell_type": "code",
   "execution_count": 10,
   "metadata": {},
   "outputs": [
    {
     "data": {
      "text/html": [
       "<div>\n",
       "<style scoped>\n",
       "    .dataframe tbody tr th:only-of-type {\n",
       "        vertical-align: middle;\n",
       "    }\n",
       "\n",
       "    .dataframe tbody tr th {\n",
       "        vertical-align: top;\n",
       "    }\n",
       "\n",
       "    .dataframe thead th {\n",
       "        text-align: right;\n",
       "    }\n",
       "</style>\n",
       "<table border=\"1\" class=\"dataframe\">\n",
       "  <thead>\n",
       "    <tr style=\"text-align: right;\">\n",
       "      <th></th>\n",
       "      <th>Unnamed: 0</th>\n",
       "      <th>track_id</th>\n",
       "      <th>acousticness</th>\n",
       "      <th>danceability</th>\n",
       "      <th>energy</th>\n",
       "      <th>instrumentalness</th>\n",
       "      <th>liveness</th>\n",
       "      <th>speechiness</th>\n",
       "      <th>tempo</th>\n",
       "      <th>valence</th>\n",
       "      <th>...</th>\n",
       "      <th>Holiday</th>\n",
       "      <th>Salsa</th>\n",
       "      <th>NuJazz</th>\n",
       "      <th>HipHop Beats</th>\n",
       "      <th>Modern Jazz</th>\n",
       "      <th>Turkish</th>\n",
       "      <th>Tango</th>\n",
       "      <th>Fado</th>\n",
       "      <th>Christmas</th>\n",
       "      <th>Instrumental</th>\n",
       "    </tr>\n",
       "  </thead>\n",
       "  <tbody>\n",
       "    <tr>\n",
       "      <th>11234</th>\n",
       "      <td>11234</td>\n",
       "      <td>59252</td>\n",
       "      <td>0.034550</td>\n",
       "      <td>0.562571</td>\n",
       "      <td>0.577579</td>\n",
       "      <td>0.000028</td>\n",
       "      <td>0.243006</td>\n",
       "      <td>0.337121</td>\n",
       "      <td>100.171</td>\n",
       "      <td>0.240919</td>\n",
       "      <td>...</td>\n",
       "      <td>0.0</td>\n",
       "      <td>0.0</td>\n",
       "      <td>0.0</td>\n",
       "      <td>0.0</td>\n",
       "      <td>0.0</td>\n",
       "      <td>0.0</td>\n",
       "      <td>0.0</td>\n",
       "      <td>0.0</td>\n",
       "      <td>0.0</td>\n",
       "      <td>0.0</td>\n",
       "    </tr>\n",
       "    <tr>\n",
       "      <th>10238</th>\n",
       "      <td>10238</td>\n",
       "      <td>47463</td>\n",
       "      <td>0.978110</td>\n",
       "      <td>0.481496</td>\n",
       "      <td>0.163413</td>\n",
       "      <td>0.014302</td>\n",
       "      <td>0.117950</td>\n",
       "      <td>0.447975</td>\n",
       "      <td>171.979</td>\n",
       "      <td>0.519498</td>\n",
       "      <td>...</td>\n",
       "      <td>0.0</td>\n",
       "      <td>0.0</td>\n",
       "      <td>0.0</td>\n",
       "      <td>0.0</td>\n",
       "      <td>0.0</td>\n",
       "      <td>0.0</td>\n",
       "      <td>0.0</td>\n",
       "      <td>0.0</td>\n",
       "      <td>0.0</td>\n",
       "      <td>0.0</td>\n",
       "    </tr>\n",
       "    <tr>\n",
       "      <th>11134</th>\n",
       "      <td>11134</td>\n",
       "      <td>56883</td>\n",
       "      <td>0.000012</td>\n",
       "      <td>0.365231</td>\n",
       "      <td>0.851602</td>\n",
       "      <td>0.083557</td>\n",
       "      <td>0.089210</td>\n",
       "      <td>0.031173</td>\n",
       "      <td>108.848</td>\n",
       "      <td>0.515668</td>\n",
       "      <td>...</td>\n",
       "      <td>0.0</td>\n",
       "      <td>0.0</td>\n",
       "      <td>0.0</td>\n",
       "      <td>0.0</td>\n",
       "      <td>0.0</td>\n",
       "      <td>0.0</td>\n",
       "      <td>0.0</td>\n",
       "      <td>0.0</td>\n",
       "      <td>0.0</td>\n",
       "      <td>0.0</td>\n",
       "    </tr>\n",
       "    <tr>\n",
       "      <th>8809</th>\n",
       "      <td>8809</td>\n",
       "      <td>39536</td>\n",
       "      <td>0.178197</td>\n",
       "      <td>0.400670</td>\n",
       "      <td>0.868561</td>\n",
       "      <td>0.738472</td>\n",
       "      <td>0.109910</td>\n",
       "      <td>0.068722</td>\n",
       "      <td>96.113</td>\n",
       "      <td>0.038607</td>\n",
       "      <td>...</td>\n",
       "      <td>0.0</td>\n",
       "      <td>0.0</td>\n",
       "      <td>0.0</td>\n",
       "      <td>0.0</td>\n",
       "      <td>0.0</td>\n",
       "      <td>0.0</td>\n",
       "      <td>0.0</td>\n",
       "      <td>0.0</td>\n",
       "      <td>0.0</td>\n",
       "      <td>0.0</td>\n",
       "    </tr>\n",
       "    <tr>\n",
       "      <th>6842</th>\n",
       "      <td>6842</td>\n",
       "      <td>29447</td>\n",
       "      <td>0.301083</td>\n",
       "      <td>0.395698</td>\n",
       "      <td>0.722168</td>\n",
       "      <td>0.936578</td>\n",
       "      <td>0.097972</td>\n",
       "      <td>0.043087</td>\n",
       "      <td>141.988</td>\n",
       "      <td>0.109104</td>\n",
       "      <td>...</td>\n",
       "      <td>0.0</td>\n",
       "      <td>0.0</td>\n",
       "      <td>0.0</td>\n",
       "      <td>0.0</td>\n",
       "      <td>0.0</td>\n",
       "      <td>0.0</td>\n",
       "      <td>0.0</td>\n",
       "      <td>0.0</td>\n",
       "      <td>0.0</td>\n",
       "      <td>0.0</td>\n",
       "    </tr>\n",
       "  </tbody>\n",
       "</table>\n",
       "<p>5 rows × 930 columns</p>\n",
       "</div>"
      ],
      "text/plain": [
       "       Unnamed: 0  track_id  acousticness  danceability    energy  \\\n",
       "11234       11234     59252      0.034550      0.562571  0.577579   \n",
       "10238       10238     47463      0.978110      0.481496  0.163413   \n",
       "11134       11134     56883      0.000012      0.365231  0.851602   \n",
       "8809         8809     39536      0.178197      0.400670  0.868561   \n",
       "6842         6842     29447      0.301083      0.395698  0.722168   \n",
       "\n",
       "       instrumentalness  liveness  speechiness    tempo   valence  ...  \\\n",
       "11234          0.000028  0.243006     0.337121  100.171  0.240919  ...   \n",
       "10238          0.014302  0.117950     0.447975  171.979  0.519498  ...   \n",
       "11134          0.083557  0.089210     0.031173  108.848  0.515668  ...   \n",
       "8809           0.738472  0.109910     0.068722   96.113  0.038607  ...   \n",
       "6842           0.936578  0.097972     0.043087  141.988  0.109104  ...   \n",
       "\n",
       "       Holiday  Salsa  NuJazz  HipHop Beats  Modern Jazz  Turkish  Tango  \\\n",
       "11234      0.0    0.0     0.0           0.0          0.0      0.0    0.0   \n",
       "10238      0.0    0.0     0.0           0.0          0.0      0.0    0.0   \n",
       "11134      0.0    0.0     0.0           0.0          0.0      0.0    0.0   \n",
       "8809       0.0    0.0     0.0           0.0          0.0      0.0    0.0   \n",
       "6842       0.0    0.0     0.0           0.0          0.0      0.0    0.0   \n",
       "\n",
       "       Fado  Christmas  Instrumental  \n",
       "11234   0.0        0.0           0.0  \n",
       "10238   0.0        0.0           0.0  \n",
       "11134   0.0        0.0           0.0  \n",
       "8809    0.0        0.0           0.0  \n",
       "6842    0.0        0.0           0.0  \n",
       "\n",
       "[5 rows x 930 columns]"
      ]
     },
     "execution_count": 10,
     "metadata": {},
     "output_type": "execute_result"
    }
   ],
   "source": [
    "Y.head()"
   ]
  },
  {
   "cell_type": "code",
   "execution_count": 11,
   "metadata": {},
   "outputs": [],
   "source": [
    "def fit(df, algo, flag=0):\n",
    "    if flag:\n",
    "        algo.fit(df)\n",
    "    else:\n",
    "         algo.partial_fit(df)          \n",
    "    df['label'] = algo.labels_\n",
    "    return (df, algo)"
   ]
  },
  {
   "cell_type": "code",
   "execution_count": 12,
   "metadata": {},
   "outputs": [],
   "source": [
    "def predict(t, Y):\n",
    "    y_pred = t[1].predict(Y)\n",
    "    mode = pd.Series(y_pred).mode()\n",
    "    return t[0][t[0]['label'] == mode.loc[0]]"
   ]
  },
  {
   "cell_type": "code",
   "execution_count": 13,
   "metadata": {},
   "outputs": [],
   "source": [
    "def recommend(recommendations, meta, Y):\n",
    "    dat = []\n",
    "    for i in Y['track_id']:\n",
    "        dat.append(i)\n",
    "    genre_mode = meta.loc[dat]['genre'].mode()\n",
    "    artist_mode = meta.loc[dat]['artist_name'].mode()\n",
    "    return meta[meta['genre'] == genre_mode.iloc[0]], meta[meta['artist_name'] == artist_mode.iloc[0]], meta.loc[recommendations['track_id']]"
   ]
  },
  {
   "cell_type": "code",
   "execution_count": 14,
   "metadata": {},
   "outputs": [],
   "source": [
    "t = fit(X, kmeans, 1)"
   ]
  },
  {
   "cell_type": "code",
   "execution_count": 15,
   "metadata": {},
   "outputs": [],
   "source": [
    "recommendations = predict(t, Y)"
   ]
  },
  {
   "cell_type": "code",
   "execution_count": 16,
   "metadata": {},
   "outputs": [],
   "source": [
    "output = recommend(recommendations, metadata, Y)"
   ]
  },
  {
   "cell_type": "code",
   "execution_count": 17,
   "metadata": {},
   "outputs": [],
   "source": [
    "genre_recommend, artist_name_recommend, mixed_recommend = output[0], output[1], output[2]"
   ]
  },
  {
   "cell_type": "code",
   "execution_count": 18,
   "metadata": {},
   "outputs": [
    {
     "data": {
      "text/plain": [
       "(3892, 4)"
      ]
     },
     "execution_count": 18,
     "metadata": {},
     "output_type": "execute_result"
    }
   ],
   "source": [
    "genre_recommend.shape"
   ]
  },
  {
   "cell_type": "code",
   "execution_count": 19,
   "metadata": {},
   "outputs": [
    {
     "data": {
      "text/plain": [
       "(52, 4)"
      ]
     },
     "execution_count": 19,
     "metadata": {},
     "output_type": "execute_result"
    }
   ],
   "source": [
    "artist_name_recommend.shape"
   ]
  },
  {
   "cell_type": "code",
   "execution_count": 20,
   "metadata": {},
   "outputs": [
    {
     "data": {
      "text/plain": [
       "(1142, 4)"
      ]
     },
     "execution_count": 20,
     "metadata": {},
     "output_type": "execute_result"
    }
   ],
   "source": [
    "mixed_recommend.shape"
   ]
  },
  {
   "cell_type": "code",
   "execution_count": 21,
   "metadata": {},
   "outputs": [
    {
     "data": {
      "text/html": [
       "<div>\n",
       "<style scoped>\n",
       "    .dataframe tbody tr th:only-of-type {\n",
       "        vertical-align: middle;\n",
       "    }\n",
       "\n",
       "    .dataframe tbody tr th {\n",
       "        vertical-align: top;\n",
       "    }\n",
       "\n",
       "    .dataframe thead th {\n",
       "        text-align: right;\n",
       "    }\n",
       "</style>\n",
       "<table border=\"1\" class=\"dataframe\">\n",
       "  <thead>\n",
       "    <tr style=\"text-align: right;\">\n",
       "      <th></th>\n",
       "      <th>album_title</th>\n",
       "      <th>artist_name</th>\n",
       "      <th>genre</th>\n",
       "      <th>track_title</th>\n",
       "    </tr>\n",
       "    <tr>\n",
       "      <th>track_id</th>\n",
       "      <th></th>\n",
       "      <th></th>\n",
       "      <th></th>\n",
       "      <th></th>\n",
       "    </tr>\n",
       "  </thead>\n",
       "  <tbody>\n",
       "    <tr>\n",
       "      <th>153</th>\n",
       "      <td>Arc and Sender</td>\n",
       "      <td>Arc and Sender</td>\n",
       "      <td>Rock</td>\n",
       "      <td>Hundred-Year Flood</td>\n",
       "    </tr>\n",
       "    <tr>\n",
       "      <th>154</th>\n",
       "      <td>Arc and Sender</td>\n",
       "      <td>Arc and Sender</td>\n",
       "      <td>Rock</td>\n",
       "      <td>Squares And Circles</td>\n",
       "    </tr>\n",
       "    <tr>\n",
       "      <th>155</th>\n",
       "      <td>unreleased demo</td>\n",
       "      <td>Arc and Sender</td>\n",
       "      <td>Rock</td>\n",
       "      <td>Maps of the Stars Homes</td>\n",
       "    </tr>\n",
       "    <tr>\n",
       "      <th>169</th>\n",
       "      <td>Boss of Goth</td>\n",
       "      <td>Argumentix</td>\n",
       "      <td>Rock</td>\n",
       "      <td>Boss of Goth</td>\n",
       "    </tr>\n",
       "    <tr>\n",
       "      <th>170</th>\n",
       "      <td>Nightmarcher</td>\n",
       "      <td>Argumentix</td>\n",
       "      <td>Rock</td>\n",
       "      <td>Industry Standard Massacre</td>\n",
       "    </tr>\n",
       "  </tbody>\n",
       "</table>\n",
       "</div>"
      ],
      "text/plain": [
       "              album_title     artist_name genre                 track_title\n",
       "track_id                                                                   \n",
       "153        Arc and Sender  Arc and Sender  Rock          Hundred-Year Flood\n",
       "154        Arc and Sender  Arc and Sender  Rock         Squares And Circles\n",
       "155       unreleased demo  Arc and Sender  Rock     Maps of the Stars Homes\n",
       "169          Boss of Goth      Argumentix  Rock                Boss of Goth\n",
       "170          Nightmarcher      Argumentix  Rock  Industry Standard Massacre"
      ]
     },
     "execution_count": 21,
     "metadata": {},
     "output_type": "execute_result"
    }
   ],
   "source": [
    "# Genre wise recommendations\n",
    "genre_recommend.head()"
   ]
  },
  {
   "cell_type": "code",
   "execution_count": 22,
   "metadata": {
    "scrolled": true
   },
   "outputs": [
    {
     "data": {
      "text/html": [
       "<div>\n",
       "<style scoped>\n",
       "    .dataframe tbody tr th:only-of-type {\n",
       "        vertical-align: middle;\n",
       "    }\n",
       "\n",
       "    .dataframe tbody tr th {\n",
       "        vertical-align: top;\n",
       "    }\n",
       "\n",
       "    .dataframe thead th {\n",
       "        text-align: right;\n",
       "    }\n",
       "</style>\n",
       "<table border=\"1\" class=\"dataframe\">\n",
       "  <thead>\n",
       "    <tr style=\"text-align: right;\">\n",
       "      <th></th>\n",
       "      <th>album_title</th>\n",
       "      <th>artist_name</th>\n",
       "      <th>genre</th>\n",
       "      <th>track_title</th>\n",
       "    </tr>\n",
       "    <tr>\n",
       "      <th>track_id</th>\n",
       "      <th></th>\n",
       "      <th></th>\n",
       "      <th></th>\n",
       "      <th></th>\n",
       "    </tr>\n",
       "  </thead>\n",
       "  <tbody>\n",
       "    <tr>\n",
       "      <th>34660</th>\n",
       "      <td>Zehu</td>\n",
       "      <td>51%</td>\n",
       "      <td>AvantGarde|International|Blues|Jazz|</td>\n",
       "      <td>Hadri Ha'Kat</td>\n",
       "    </tr>\n",
       "    <tr>\n",
       "      <th>34661</th>\n",
       "      <td>Zehu</td>\n",
       "      <td>51%</td>\n",
       "      <td>AvantGarde|International|Blues|Jazz|</td>\n",
       "      <td>Blender Tzivoni</td>\n",
       "    </tr>\n",
       "    <tr>\n",
       "      <th>34662</th>\n",
       "      <td>Zehu</td>\n",
       "      <td>51%</td>\n",
       "      <td>AvantGarde|International|Blues|Jazz|</td>\n",
       "      <td>Naniah</td>\n",
       "    </tr>\n",
       "    <tr>\n",
       "      <th>34663</th>\n",
       "      <td>Zehu</td>\n",
       "      <td>51%</td>\n",
       "      <td>AvantGarde|International|Blues|Jazz|</td>\n",
       "      <td>Yoter Miday</td>\n",
       "    </tr>\n",
       "    <tr>\n",
       "      <th>34664</th>\n",
       "      <td>Zehu</td>\n",
       "      <td>51%</td>\n",
       "      <td>AvantGarde|International|Blues|Jazz|</td>\n",
       "      <td>Yamim, Lielot</td>\n",
       "    </tr>\n",
       "  </tbody>\n",
       "</table>\n",
       "</div>"
      ],
      "text/plain": [
       "         album_title artist_name                                 genre  \\\n",
       "track_id                                                                 \n",
       "34660           Zehu         51%  AvantGarde|International|Blues|Jazz|   \n",
       "34661           Zehu         51%  AvantGarde|International|Blues|Jazz|   \n",
       "34662           Zehu         51%  AvantGarde|International|Blues|Jazz|   \n",
       "34663           Zehu         51%  AvantGarde|International|Blues|Jazz|   \n",
       "34664           Zehu         51%  AvantGarde|International|Blues|Jazz|   \n",
       "\n",
       "              track_title  \n",
       "track_id                   \n",
       "34660        Hadri Ha'Kat  \n",
       "34661     Blender Tzivoni  \n",
       "34662              Naniah  \n",
       "34663         Yoter Miday  \n",
       "34664       Yamim, Lielot  "
      ]
     },
     "execution_count": 22,
     "metadata": {},
     "output_type": "execute_result"
    }
   ],
   "source": [
    "# Artist wise recommendations\n",
    "artist_name_recommend.head()"
   ]
  },
  {
   "cell_type": "code",
   "execution_count": 23,
   "metadata": {},
   "outputs": [
    {
     "data": {
      "text/html": [
       "<div>\n",
       "<style scoped>\n",
       "    .dataframe tbody tr th:only-of-type {\n",
       "        vertical-align: middle;\n",
       "    }\n",
       "\n",
       "    .dataframe tbody tr th {\n",
       "        vertical-align: top;\n",
       "    }\n",
       "\n",
       "    .dataframe thead th {\n",
       "        text-align: right;\n",
       "    }\n",
       "</style>\n",
       "<table border=\"1\" class=\"dataframe\">\n",
       "  <thead>\n",
       "    <tr style=\"text-align: right;\">\n",
       "      <th></th>\n",
       "      <th>album_title</th>\n",
       "      <th>artist_name</th>\n",
       "      <th>genre</th>\n",
       "      <th>track_title</th>\n",
       "    </tr>\n",
       "    <tr>\n",
       "      <th>track_id</th>\n",
       "      <th></th>\n",
       "      <th></th>\n",
       "      <th></th>\n",
       "      <th></th>\n",
       "    </tr>\n",
       "  </thead>\n",
       "  <tbody>\n",
       "    <tr>\n",
       "      <th>19923</th>\n",
       "      <td>Food Miles</td>\n",
       "      <td>THF Drenching</td>\n",
       "      <td>AvantGarde|International|</td>\n",
       "      <td>A Tour Of US Recession</td>\n",
       "    </tr>\n",
       "    <tr>\n",
       "      <th>13675</th>\n",
       "      <td>netBloc Vol. 01: The Opening Salvo</td>\n",
       "      <td>Pablie</td>\n",
       "      <td>AvantGarde|International|</td>\n",
       "      <td>Trying Jazz</td>\n",
       "    </tr>\n",
       "    <tr>\n",
       "      <th>16158</th>\n",
       "      <td>netBloc Vol. 23: We Invented The Compilation</td>\n",
       "      <td>Entertainment for the Braindead</td>\n",
       "      <td>Pop</td>\n",
       "      <td>Animals</td>\n",
       "    </tr>\n",
       "    <tr>\n",
       "      <th>24316</th>\n",
       "      <td>Live at Jetto Festival</td>\n",
       "      <td>Daan Hendriks</td>\n",
       "      <td>AvantGarde|International|</td>\n",
       "      <td>Give Me Your Love (illegal remix)</td>\n",
       "    </tr>\n",
       "    <tr>\n",
       "      <th>21897</th>\n",
       "      <td>Neuro Science EP</td>\n",
       "      <td>B1t Crunch3r vs Killeralien vs Phonetic System</td>\n",
       "      <td>Electronic</td>\n",
       "      <td>Mentalism feat. Dubbwune</td>\n",
       "    </tr>\n",
       "  </tbody>\n",
       "</table>\n",
       "</div>"
      ],
      "text/plain": [
       "                                           album_title  \\\n",
       "track_id                                                 \n",
       "19923                                       Food Miles   \n",
       "13675               netBloc Vol. 01: The Opening Salvo   \n",
       "16158     netBloc Vol. 23: We Invented The Compilation   \n",
       "24316                           Live at Jetto Festival   \n",
       "21897                                 Neuro Science EP   \n",
       "\n",
       "                                             artist_name  \\\n",
       "track_id                                                   \n",
       "19923                                      THF Drenching   \n",
       "13675                                             Pablie   \n",
       "16158                    Entertainment for the Braindead   \n",
       "24316                                      Daan Hendriks   \n",
       "21897     B1t Crunch3r vs Killeralien vs Phonetic System   \n",
       "\n",
       "                              genre                        track_title  \n",
       "track_id                                                                \n",
       "19923     AvantGarde|International|             A Tour Of US Recession  \n",
       "13675     AvantGarde|International|                        Trying Jazz  \n",
       "16158                           Pop                            Animals  \n",
       "24316     AvantGarde|International|  Give Me Your Love (illegal remix)  \n",
       "21897                    Electronic           Mentalism feat. Dubbwune  "
      ]
     },
     "execution_count": 23,
     "metadata": {},
     "output_type": "execute_result"
    }
   ],
   "source": [
    "# Mixed Recommendations\n",
    "mixed_recommend.head()"
   ]
  },
  {
   "cell_type": "code",
   "execution_count": 24,
   "metadata": {},
   "outputs": [
    {
     "data": {
      "text/html": [
       "<div>\n",
       "<style scoped>\n",
       "    .dataframe tbody tr th:only-of-type {\n",
       "        vertical-align: middle;\n",
       "    }\n",
       "\n",
       "    .dataframe tbody tr th {\n",
       "        vertical-align: top;\n",
       "    }\n",
       "\n",
       "    .dataframe thead th {\n",
       "        text-align: right;\n",
       "    }\n",
       "</style>\n",
       "<table border=\"1\" class=\"dataframe\">\n",
       "  <thead>\n",
       "    <tr style=\"text-align: right;\">\n",
       "      <th></th>\n",
       "      <th>Unnamed: 0</th>\n",
       "      <th>track_id</th>\n",
       "      <th>acousticness</th>\n",
       "      <th>danceability</th>\n",
       "      <th>energy</th>\n",
       "      <th>instrumentalness</th>\n",
       "      <th>liveness</th>\n",
       "      <th>speechiness</th>\n",
       "      <th>tempo</th>\n",
       "      <th>valence</th>\n",
       "      <th>...</th>\n",
       "      <th>Salsa</th>\n",
       "      <th>NuJazz</th>\n",
       "      <th>HipHop Beats</th>\n",
       "      <th>Modern Jazz</th>\n",
       "      <th>Turkish</th>\n",
       "      <th>Tango</th>\n",
       "      <th>Fado</th>\n",
       "      <th>Christmas</th>\n",
       "      <th>Instrumental</th>\n",
       "      <th>label</th>\n",
       "    </tr>\n",
       "  </thead>\n",
       "  <tbody>\n",
       "    <tr>\n",
       "      <th>5040</th>\n",
       "      <td>5040</td>\n",
       "      <td>19923</td>\n",
       "      <td>0.670348</td>\n",
       "      <td>0.576863</td>\n",
       "      <td>0.543091</td>\n",
       "      <td>0.967985</td>\n",
       "      <td>0.116525</td>\n",
       "      <td>0.407882</td>\n",
       "      <td>115.695</td>\n",
       "      <td>0.966856</td>\n",
       "      <td>...</td>\n",
       "      <td>0.0</td>\n",
       "      <td>0.0</td>\n",
       "      <td>0.0</td>\n",
       "      <td>0.0</td>\n",
       "      <td>0.0</td>\n",
       "      <td>0.0</td>\n",
       "      <td>0.0</td>\n",
       "      <td>0.0</td>\n",
       "      <td>0.0</td>\n",
       "      <td>2</td>\n",
       "    </tr>\n",
       "    <tr>\n",
       "      <th>3414</th>\n",
       "      <td>3414</td>\n",
       "      <td>13675</td>\n",
       "      <td>0.715131</td>\n",
       "      <td>0.784469</td>\n",
       "      <td>0.357312</td>\n",
       "      <td>0.794843</td>\n",
       "      <td>0.103969</td>\n",
       "      <td>0.068457</td>\n",
       "      <td>90.020</td>\n",
       "      <td>0.802910</td>\n",
       "      <td>...</td>\n",
       "      <td>0.0</td>\n",
       "      <td>0.0</td>\n",
       "      <td>0.0</td>\n",
       "      <td>0.0</td>\n",
       "      <td>0.0</td>\n",
       "      <td>0.0</td>\n",
       "      <td>0.0</td>\n",
       "      <td>0.0</td>\n",
       "      <td>0.0</td>\n",
       "      <td>2</td>\n",
       "    </tr>\n",
       "    <tr>\n",
       "      <th>4109</th>\n",
       "      <td>4109</td>\n",
       "      <td>16158</td>\n",
       "      <td>0.987536</td>\n",
       "      <td>0.454306</td>\n",
       "      <td>0.086323</td>\n",
       "      <td>0.916047</td>\n",
       "      <td>0.139758</td>\n",
       "      <td>0.037731</td>\n",
       "      <td>111.842</td>\n",
       "      <td>0.199447</td>\n",
       "      <td>...</td>\n",
       "      <td>0.0</td>\n",
       "      <td>0.0</td>\n",
       "      <td>0.0</td>\n",
       "      <td>0.0</td>\n",
       "      <td>0.0</td>\n",
       "      <td>0.0</td>\n",
       "      <td>0.0</td>\n",
       "      <td>0.0</td>\n",
       "      <td>0.0</td>\n",
       "      <td>2</td>\n",
       "    </tr>\n",
       "    <tr>\n",
       "      <th>5982</th>\n",
       "      <td>5982</td>\n",
       "      <td>24316</td>\n",
       "      <td>0.091983</td>\n",
       "      <td>0.625877</td>\n",
       "      <td>0.556248</td>\n",
       "      <td>0.818440</td>\n",
       "      <td>0.122404</td>\n",
       "      <td>0.097589</td>\n",
       "      <td>192.024</td>\n",
       "      <td>0.697436</td>\n",
       "      <td>...</td>\n",
       "      <td>0.0</td>\n",
       "      <td>0.0</td>\n",
       "      <td>0.0</td>\n",
       "      <td>0.0</td>\n",
       "      <td>0.0</td>\n",
       "      <td>0.0</td>\n",
       "      <td>0.0</td>\n",
       "      <td>0.0</td>\n",
       "      <td>0.0</td>\n",
       "      <td>2</td>\n",
       "    </tr>\n",
       "    <tr>\n",
       "      <th>5482</th>\n",
       "      <td>5482</td>\n",
       "      <td>21897</td>\n",
       "      <td>0.006060</td>\n",
       "      <td>0.829770</td>\n",
       "      <td>0.937159</td>\n",
       "      <td>0.867768</td>\n",
       "      <td>0.112238</td>\n",
       "      <td>0.089005</td>\n",
       "      <td>140.077</td>\n",
       "      <td>0.607665</td>\n",
       "      <td>...</td>\n",
       "      <td>0.0</td>\n",
       "      <td>0.0</td>\n",
       "      <td>0.0</td>\n",
       "      <td>0.0</td>\n",
       "      <td>0.0</td>\n",
       "      <td>0.0</td>\n",
       "      <td>0.0</td>\n",
       "      <td>0.0</td>\n",
       "      <td>0.0</td>\n",
       "      <td>2</td>\n",
       "    </tr>\n",
       "  </tbody>\n",
       "</table>\n",
       "<p>5 rows × 931 columns</p>\n",
       "</div>"
      ],
      "text/plain": [
       "      Unnamed: 0  track_id  acousticness  danceability    energy  \\\n",
       "5040        5040     19923      0.670348      0.576863  0.543091   \n",
       "3414        3414     13675      0.715131      0.784469  0.357312   \n",
       "4109        4109     16158      0.987536      0.454306  0.086323   \n",
       "5982        5982     24316      0.091983      0.625877  0.556248   \n",
       "5482        5482     21897      0.006060      0.829770  0.937159   \n",
       "\n",
       "      instrumentalness  liveness  speechiness    tempo   valence  ...  Salsa  \\\n",
       "5040          0.967985  0.116525     0.407882  115.695  0.966856  ...    0.0   \n",
       "3414          0.794843  0.103969     0.068457   90.020  0.802910  ...    0.0   \n",
       "4109          0.916047  0.139758     0.037731  111.842  0.199447  ...    0.0   \n",
       "5982          0.818440  0.122404     0.097589  192.024  0.697436  ...    0.0   \n",
       "5482          0.867768  0.112238     0.089005  140.077  0.607665  ...    0.0   \n",
       "\n",
       "      NuJazz  HipHop Beats  Modern Jazz  Turkish  Tango  Fado  Christmas  \\\n",
       "5040     0.0           0.0          0.0      0.0    0.0   0.0        0.0   \n",
       "3414     0.0           0.0          0.0      0.0    0.0   0.0        0.0   \n",
       "4109     0.0           0.0          0.0      0.0    0.0   0.0        0.0   \n",
       "5982     0.0           0.0          0.0      0.0    0.0   0.0        0.0   \n",
       "5482     0.0           0.0          0.0      0.0    0.0   0.0        0.0   \n",
       "\n",
       "      Instrumental  label  \n",
       "5040           0.0      2  \n",
       "3414           0.0      2  \n",
       "4109           0.0      2  \n",
       "5982           0.0      2  \n",
       "5482           0.0      2  \n",
       "\n",
       "[5 rows x 931 columns]"
      ]
     },
     "execution_count": 24,
     "metadata": {},
     "output_type": "execute_result"
    }
   ],
   "source": [
    "recommendations.head()"
   ]
  },
  {
   "cell_type": "code",
   "execution_count": 25,
   "metadata": {},
   "outputs": [
    {
     "data": {
      "text/plain": [
       "51%    52\n",
       "Name: artist_name, dtype: int64"
      ]
     },
     "execution_count": 25,
     "metadata": {},
     "output_type": "execute_result"
    }
   ],
   "source": [
    "artist_name_recommend['artist_name'].value_counts()"
   ]
  },
  {
   "cell_type": "code",
   "execution_count": 26,
   "metadata": {},
   "outputs": [
    {
     "data": {
      "text/plain": [
       "Rock    3892\n",
       "Name: genre, dtype: int64"
      ]
     },
     "execution_count": 26,
     "metadata": {},
     "output_type": "execute_result"
    }
   ],
   "source": [
    "genre_recommend['genre'].value_counts()"
   ]
  },
  {
   "cell_type": "code",
   "execution_count": 27,
   "metadata": {},
   "outputs": [
    {
     "data": {
      "text/plain": [
       "Glove Compartment               65\n",
       "Blah Blah Blah                  62\n",
       "Mors Ontologica                 50\n",
       "Les Baudouins Morts             38\n",
       "Kraus                           35\n",
       "                                ..\n",
       "Alone in 1982                    1\n",
       "Ostrich Tuning                   1\n",
       "The Dalai Lama Rama Fa Fa Fa     1\n",
       "The Rusty Bells                  1\n",
       "Lost Boy                         1\n",
       "Name: artist_name, Length: 725, dtype: int64"
      ]
     },
     "execution_count": 27,
     "metadata": {},
     "output_type": "execute_result"
    }
   ],
   "source": [
    "genre_recommend['artist_name'].value_counts()"
   ]
  },
  {
   "cell_type": "markdown",
   "metadata": {},
   "source": [
    "#### Testing"
   ]
  },
  {
   "cell_type": "code",
   "execution_count": 28,
   "metadata": {},
   "outputs": [],
   "source": [
    "testing = Y.iloc[6:12]['track_id']"
   ]
  },
  {
   "cell_type": "code",
   "execution_count": 29,
   "metadata": {},
   "outputs": [
    {
     "data": {
      "text/plain": [
       "8944     40038\n",
       "10956    52221\n",
       "9872     45139\n",
       "7468     32456\n",
       "8018     34529\n",
       "11034    54282\n",
       "Name: track_id, dtype: int64"
      ]
     },
     "execution_count": 29,
     "metadata": {},
     "output_type": "execute_result"
    }
   ],
   "source": [
    "testing"
   ]
  },
  {
   "cell_type": "code",
   "execution_count": 30,
   "metadata": {},
   "outputs": [],
   "source": [
    "ids = testing.loc[testing.index]"
   ]
  },
  {
   "cell_type": "code",
   "execution_count": 31,
   "metadata": {},
   "outputs": [],
   "source": [
    "songs = metadata.loc[testing.loc[list(testing.index)]]"
   ]
  },
  {
   "cell_type": "code",
   "execution_count": 32,
   "metadata": {},
   "outputs": [
    {
     "data": {
      "text/html": [
       "<div>\n",
       "<style scoped>\n",
       "    .dataframe tbody tr th:only-of-type {\n",
       "        vertical-align: middle;\n",
       "    }\n",
       "\n",
       "    .dataframe tbody tr th {\n",
       "        vertical-align: top;\n",
       "    }\n",
       "\n",
       "    .dataframe thead th {\n",
       "        text-align: right;\n",
       "    }\n",
       "</style>\n",
       "<table border=\"1\" class=\"dataframe\">\n",
       "  <thead>\n",
       "    <tr style=\"text-align: right;\">\n",
       "      <th></th>\n",
       "      <th>album_title</th>\n",
       "      <th>artist_name</th>\n",
       "      <th>genre</th>\n",
       "      <th>track_title</th>\n",
       "    </tr>\n",
       "    <tr>\n",
       "      <th>track_id</th>\n",
       "      <th></th>\n",
       "      <th></th>\n",
       "      <th></th>\n",
       "      <th></th>\n",
       "    </tr>\n",
       "  </thead>\n",
       "  <tbody>\n",
       "    <tr>\n",
       "      <th>40038</th>\n",
       "      <td>Oya Wa Touhoku, Oto Kumori</td>\n",
       "      <td>Hiiragi Fukuda</td>\n",
       "      <td>AvantGarde|International|Blues|</td>\n",
       "      <td>Nisoku Hokou(Bipedal Locomotion)</td>\n",
       "    </tr>\n",
       "    <tr>\n",
       "      <th>52221</th>\n",
       "      <td>Live at WFMU on Beastin' The Airwaves! With Ke...</td>\n",
       "      <td>Grooms</td>\n",
       "      <td>Rock</td>\n",
       "      <td>3D Voices</td>\n",
       "    </tr>\n",
       "    <tr>\n",
       "      <th>45139</th>\n",
       "      <td>netlabelism.com - Compilation 02/11</td>\n",
       "      <td>Photophob</td>\n",
       "      <td>Electronic</td>\n",
       "      <td>Backyard Prophet</td>\n",
       "    </tr>\n",
       "    <tr>\n",
       "      <th>32456</th>\n",
       "      <td>Live at Primavera Sound Festival, 05/27/10</td>\n",
       "      <td>Sic Alps</td>\n",
       "      <td>Rock</td>\n",
       "      <td>Stories</td>\n",
       "    </tr>\n",
       "    <tr>\n",
       "      <th>34529</th>\n",
       "      <td>Sowilo (Double Disc)</td>\n",
       "      <td>Gorowski</td>\n",
       "      <td>Electronic</td>\n",
       "      <td>I'll Get By (Feat. Crepesuzette)</td>\n",
       "    </tr>\n",
       "    <tr>\n",
       "      <th>54282</th>\n",
       "      <td>Live at WFMU on Beastin' The Airwaves with Kei...</td>\n",
       "      <td>Abstract Artimus</td>\n",
       "      <td>Rock</td>\n",
       "      <td>Unearthly Sky</td>\n",
       "    </tr>\n",
       "  </tbody>\n",
       "</table>\n",
       "</div>"
      ],
      "text/plain": [
       "                                                album_title       artist_name  \\\n",
       "track_id                                                                        \n",
       "40038                            Oya Wa Touhoku, Oto Kumori    Hiiragi Fukuda   \n",
       "52221     Live at WFMU on Beastin' The Airwaves! With Ke...            Grooms   \n",
       "45139                   netlabelism.com - Compilation 02/11         Photophob   \n",
       "32456            Live at Primavera Sound Festival, 05/27/10          Sic Alps   \n",
       "34529                                  Sowilo (Double Disc)          Gorowski   \n",
       "54282     Live at WFMU on Beastin' The Airwaves with Kei...  Abstract Artimus   \n",
       "\n",
       "                                    genre                       track_title  \n",
       "track_id                                                                     \n",
       "40038     AvantGarde|International|Blues|  Nisoku Hokou(Bipedal Locomotion)  \n",
       "52221                                Rock                         3D Voices  \n",
       "45139                          Electronic                  Backyard Prophet  \n",
       "32456                                Rock                           Stories  \n",
       "34529                          Electronic  I'll Get By (Feat. Crepesuzette)  \n",
       "54282                                Rock                     Unearthly Sky  "
      ]
     },
     "execution_count": 32,
     "metadata": {},
     "output_type": "execute_result"
    }
   ],
   "source": [
    "songs"
   ]
  },
  {
   "cell_type": "code",
   "execution_count": 33,
   "metadata": {},
   "outputs": [],
   "source": [
    "re = predict(t, Y.iloc[6:12])"
   ]
  },
  {
   "cell_type": "code",
   "execution_count": 34,
   "metadata": {},
   "outputs": [],
   "source": [
    "output = recommend(re, metadata, Y.iloc[6:12])"
   ]
  },
  {
   "cell_type": "code",
   "execution_count": 35,
   "metadata": {},
   "outputs": [],
   "source": [
    "ge_re, ge_ar, ge_mix = output[0], output[1], output[2]"
   ]
  },
  {
   "cell_type": "code",
   "execution_count": 36,
   "metadata": {},
   "outputs": [
    {
     "data": {
      "text/html": [
       "<div>\n",
       "<style scoped>\n",
       "    .dataframe tbody tr th:only-of-type {\n",
       "        vertical-align: middle;\n",
       "    }\n",
       "\n",
       "    .dataframe tbody tr th {\n",
       "        vertical-align: top;\n",
       "    }\n",
       "\n",
       "    .dataframe thead th {\n",
       "        text-align: right;\n",
       "    }\n",
       "</style>\n",
       "<table border=\"1\" class=\"dataframe\">\n",
       "  <thead>\n",
       "    <tr style=\"text-align: right;\">\n",
       "      <th></th>\n",
       "      <th>album_title</th>\n",
       "      <th>artist_name</th>\n",
       "      <th>genre</th>\n",
       "      <th>track_title</th>\n",
       "    </tr>\n",
       "    <tr>\n",
       "      <th>track_id</th>\n",
       "      <th></th>\n",
       "      <th></th>\n",
       "      <th></th>\n",
       "      <th></th>\n",
       "    </tr>\n",
       "  </thead>\n",
       "  <tbody>\n",
       "    <tr>\n",
       "      <th>153</th>\n",
       "      <td>Arc and Sender</td>\n",
       "      <td>Arc and Sender</td>\n",
       "      <td>Rock</td>\n",
       "      <td>Hundred-Year Flood</td>\n",
       "    </tr>\n",
       "    <tr>\n",
       "      <th>154</th>\n",
       "      <td>Arc and Sender</td>\n",
       "      <td>Arc and Sender</td>\n",
       "      <td>Rock</td>\n",
       "      <td>Squares And Circles</td>\n",
       "    </tr>\n",
       "    <tr>\n",
       "      <th>155</th>\n",
       "      <td>unreleased demo</td>\n",
       "      <td>Arc and Sender</td>\n",
       "      <td>Rock</td>\n",
       "      <td>Maps of the Stars Homes</td>\n",
       "    </tr>\n",
       "    <tr>\n",
       "      <th>169</th>\n",
       "      <td>Boss of Goth</td>\n",
       "      <td>Argumentix</td>\n",
       "      <td>Rock</td>\n",
       "      <td>Boss of Goth</td>\n",
       "    </tr>\n",
       "    <tr>\n",
       "      <th>170</th>\n",
       "      <td>Nightmarcher</td>\n",
       "      <td>Argumentix</td>\n",
       "      <td>Rock</td>\n",
       "      <td>Industry Standard Massacre</td>\n",
       "    </tr>\n",
       "  </tbody>\n",
       "</table>\n",
       "</div>"
      ],
      "text/plain": [
       "              album_title     artist_name genre                 track_title\n",
       "track_id                                                                   \n",
       "153        Arc and Sender  Arc and Sender  Rock          Hundred-Year Flood\n",
       "154        Arc and Sender  Arc and Sender  Rock         Squares And Circles\n",
       "155       unreleased demo  Arc and Sender  Rock     Maps of the Stars Homes\n",
       "169          Boss of Goth      Argumentix  Rock                Boss of Goth\n",
       "170          Nightmarcher      Argumentix  Rock  Industry Standard Massacre"
      ]
     },
     "execution_count": 36,
     "metadata": {},
     "output_type": "execute_result"
    }
   ],
   "source": [
    "ge_re.head()"
   ]
  },
  {
   "cell_type": "code",
   "execution_count": 37,
   "metadata": {},
   "outputs": [
    {
     "data": {
      "text/html": [
       "<div>\n",
       "<style scoped>\n",
       "    .dataframe tbody tr th:only-of-type {\n",
       "        vertical-align: middle;\n",
       "    }\n",
       "\n",
       "    .dataframe tbody tr th {\n",
       "        vertical-align: top;\n",
       "    }\n",
       "\n",
       "    .dataframe thead th {\n",
       "        text-align: right;\n",
       "    }\n",
       "</style>\n",
       "<table border=\"1\" class=\"dataframe\">\n",
       "  <thead>\n",
       "    <tr style=\"text-align: right;\">\n",
       "      <th></th>\n",
       "      <th>album_title</th>\n",
       "      <th>artist_name</th>\n",
       "      <th>genre</th>\n",
       "      <th>track_title</th>\n",
       "    </tr>\n",
       "    <tr>\n",
       "      <th>track_id</th>\n",
       "      <th></th>\n",
       "      <th></th>\n",
       "      <th></th>\n",
       "      <th></th>\n",
       "    </tr>\n",
       "  </thead>\n",
       "  <tbody>\n",
       "    <tr>\n",
       "      <th>54282</th>\n",
       "      <td>Live at WFMU on Beastin' The Airwaves with Kei...</td>\n",
       "      <td>Abstract Artimus</td>\n",
       "      <td>Rock</td>\n",
       "      <td>Unearthly Sky</td>\n",
       "    </tr>\n",
       "    <tr>\n",
       "      <th>54284</th>\n",
       "      <td>Live at WFMU on Beastin' The Airwaves with Kei...</td>\n",
       "      <td>Abstract Artimus</td>\n",
       "      <td>Rock</td>\n",
       "      <td>At Large</td>\n",
       "    </tr>\n",
       "    <tr>\n",
       "      <th>54285</th>\n",
       "      <td>Live at WFMU on Beastin' The Airwaves with Kei...</td>\n",
       "      <td>Abstract Artimus</td>\n",
       "      <td>Rock</td>\n",
       "      <td>Quitters Face</td>\n",
       "    </tr>\n",
       "    <tr>\n",
       "      <th>54286</th>\n",
       "      <td>Live at WFMU on Beastin' The Airwaves with Kei...</td>\n",
       "      <td>Abstract Artimus</td>\n",
       "      <td>Rock</td>\n",
       "      <td>Anger and Envy</td>\n",
       "    </tr>\n",
       "    <tr>\n",
       "      <th>54287</th>\n",
       "      <td>Live at WFMU on Beastin' The Airwaves with Kei...</td>\n",
       "      <td>Abstract Artimus</td>\n",
       "      <td>Rock</td>\n",
       "      <td>27 Club</td>\n",
       "    </tr>\n",
       "    <tr>\n",
       "      <th>54288</th>\n",
       "      <td>Live at WFMU on Beastin' The Airwaves with Kei...</td>\n",
       "      <td>Abstract Artimus</td>\n",
       "      <td>Rock</td>\n",
       "      <td>Torture Chile</td>\n",
       "    </tr>\n",
       "  </tbody>\n",
       "</table>\n",
       "</div>"
      ],
      "text/plain": [
       "                                                album_title       artist_name  \\\n",
       "track_id                                                                        \n",
       "54282     Live at WFMU on Beastin' The Airwaves with Kei...  Abstract Artimus   \n",
       "54284     Live at WFMU on Beastin' The Airwaves with Kei...  Abstract Artimus   \n",
       "54285     Live at WFMU on Beastin' The Airwaves with Kei...  Abstract Artimus   \n",
       "54286     Live at WFMU on Beastin' The Airwaves with Kei...  Abstract Artimus   \n",
       "54287     Live at WFMU on Beastin' The Airwaves with Kei...  Abstract Artimus   \n",
       "54288     Live at WFMU on Beastin' The Airwaves with Kei...  Abstract Artimus   \n",
       "\n",
       "         genre     track_title  \n",
       "track_id                        \n",
       "54282     Rock   Unearthly Sky  \n",
       "54284     Rock        At Large  \n",
       "54285     Rock   Quitters Face  \n",
       "54286     Rock  Anger and Envy  \n",
       "54287     Rock         27 Club  \n",
       "54288     Rock   Torture Chile  "
      ]
     },
     "execution_count": 37,
     "metadata": {},
     "output_type": "execute_result"
    }
   ],
   "source": [
    "ge_ar.head(10)"
   ]
  },
  {
   "cell_type": "code",
   "execution_count": 38,
   "metadata": {},
   "outputs": [
    {
     "data": {
      "text/html": [
       "<div>\n",
       "<style scoped>\n",
       "    .dataframe tbody tr th:only-of-type {\n",
       "        vertical-align: middle;\n",
       "    }\n",
       "\n",
       "    .dataframe tbody tr th {\n",
       "        vertical-align: top;\n",
       "    }\n",
       "\n",
       "    .dataframe thead th {\n",
       "        text-align: right;\n",
       "    }\n",
       "</style>\n",
       "<table border=\"1\" class=\"dataframe\">\n",
       "  <thead>\n",
       "    <tr style=\"text-align: right;\">\n",
       "      <th></th>\n",
       "      <th>album_title</th>\n",
       "      <th>artist_name</th>\n",
       "      <th>genre</th>\n",
       "      <th>track_title</th>\n",
       "    </tr>\n",
       "    <tr>\n",
       "      <th>track_id</th>\n",
       "      <th></th>\n",
       "      <th></th>\n",
       "      <th></th>\n",
       "      <th></th>\n",
       "    </tr>\n",
       "  </thead>\n",
       "  <tbody>\n",
       "    <tr>\n",
       "      <th>17881</th>\n",
       "      <td>Infiltrator</td>\n",
       "      <td>Covox</td>\n",
       "      <td>Electronic</td>\n",
       "      <td>Psychic Youth</td>\n",
       "    </tr>\n",
       "    <tr>\n",
       "      <th>20741</th>\n",
       "      <td>Antique Phonograph Music Program 07/14/2009</td>\n",
       "      <td>Venetian Trio</td>\n",
       "      <td>OldTime|Historic</td>\n",
       "      <td>Evening Chimes</td>\n",
       "    </tr>\n",
       "    <tr>\n",
       "      <th>20576</th>\n",
       "      <td>@ ISSUE 10/22/09</td>\n",
       "      <td>Sim Cain</td>\n",
       "      <td>Blues</td>\n",
       "      <td>One</td>\n",
       "    </tr>\n",
       "    <tr>\n",
       "      <th>5264</th>\n",
       "      <td>Live at WFMU on Mike's Show on 7/11/2002</td>\n",
       "      <td>Dälek</td>\n",
       "      <td>HipHop</td>\n",
       "      <td>Classical Homicide</td>\n",
       "    </tr>\n",
       "    <tr>\n",
       "      <th>19602</th>\n",
       "      <td>Antique Phonograph Music Program 09/22/2009</td>\n",
       "      <td>Billy Murray And Chorus</td>\n",
       "      <td>OldTime|Historic</td>\n",
       "      <td>Underneath the Cotton Moon</td>\n",
       "    </tr>\n",
       "    <tr>\n",
       "      <th>19648</th>\n",
       "      <td>Live on Solid Gold Hell with Sue P. on WFMU 10...</td>\n",
       "      <td>Wizardry</td>\n",
       "      <td>Rock</td>\n",
       "      <td>Wayfarer</td>\n",
       "    </tr>\n",
       "    <tr>\n",
       "      <th>807</th>\n",
       "      <td>Fun With Your New Head</td>\n",
       "      <td>Guinea Worms</td>\n",
       "      <td>Rock</td>\n",
       "      <td>Spider Season</td>\n",
       "    </tr>\n",
       "    <tr>\n",
       "      <th>6469</th>\n",
       "      <td>Keyif Live on WFMU from the 2009 Golden Festiv...</td>\n",
       "      <td>Orkestra Keyif</td>\n",
       "      <td>International</td>\n",
       "      <td>Derya'da Deryaliklar</td>\n",
       "    </tr>\n",
       "    <tr>\n",
       "      <th>23801</th>\n",
       "      <td>Blub</td>\n",
       "      <td>Bulb</td>\n",
       "      <td>AvantGarde|International|</td>\n",
       "      <td>La marche de l'ours</td>\n",
       "    </tr>\n",
       "    <tr>\n",
       "      <th>1917</th>\n",
       "      <td>The Philadelphia Parking Authority Must Die</td>\n",
       "      <td>The Twin Atlas</td>\n",
       "      <td>Folk</td>\n",
       "      <td>Inverted Torches</td>\n",
       "    </tr>\n",
       "  </tbody>\n",
       "</table>\n",
       "</div>"
      ],
      "text/plain": [
       "                                                album_title  \\\n",
       "track_id                                                      \n",
       "17881                                           Infiltrator   \n",
       "20741           Antique Phonograph Music Program 07/14/2009   \n",
       "20576                                      @ ISSUE 10/22/09   \n",
       "5264               Live at WFMU on Mike's Show on 7/11/2002   \n",
       "19602           Antique Phonograph Music Program 09/22/2009   \n",
       "19648     Live on Solid Gold Hell with Sue P. on WFMU 10...   \n",
       "807                                  Fun With Your New Head   \n",
       "6469      Keyif Live on WFMU from the 2009 Golden Festiv...   \n",
       "23801                                                  Blub   \n",
       "1917            The Philadelphia Parking Authority Must Die   \n",
       "\n",
       "                      artist_name                      genre  \\\n",
       "track_id                                                       \n",
       "17881                       Covox                 Electronic   \n",
       "20741               Venetian Trio           OldTime|Historic   \n",
       "20576                    Sim Cain                      Blues   \n",
       "5264                        Dälek                     HipHop   \n",
       "19602     Billy Murray And Chorus           OldTime|Historic   \n",
       "19648                    Wizardry                       Rock   \n",
       "807                  Guinea Worms                       Rock   \n",
       "6469               Orkestra Keyif              International   \n",
       "23801                        Bulb  AvantGarde|International|   \n",
       "1917               The Twin Atlas                       Folk   \n",
       "\n",
       "                         track_title  \n",
       "track_id                              \n",
       "17881                  Psychic Youth  \n",
       "20741                 Evening Chimes  \n",
       "20576                            One  \n",
       "5264              Classical Homicide  \n",
       "19602     Underneath the Cotton Moon  \n",
       "19648                       Wayfarer  \n",
       "807                    Spider Season  \n",
       "6469            Derya'da Deryaliklar  \n",
       "23801            La marche de l'ours  \n",
       "1917                Inverted Torches  "
      ]
     },
     "execution_count": 38,
     "metadata": {},
     "output_type": "execute_result"
    }
   ],
   "source": [
    "ge_mix.head(10)"
   ]
  },
  {
   "cell_type": "code",
   "execution_count": 39,
   "metadata": {},
   "outputs": [
    {
     "data": {
      "text/plain": [
       "(3892, 4)"
      ]
     },
     "execution_count": 39,
     "metadata": {},
     "output_type": "execute_result"
    }
   ],
   "source": [
    "ge_re.shape"
   ]
  },
  {
   "cell_type": "code",
   "execution_count": 40,
   "metadata": {},
   "outputs": [
    {
     "data": {
      "text/plain": [
       "(6, 4)"
      ]
     },
     "execution_count": 40,
     "metadata": {},
     "output_type": "execute_result"
    }
   ],
   "source": [
    "ge_ar.shape"
   ]
  },
  {
   "cell_type": "code",
   "execution_count": 41,
   "metadata": {},
   "outputs": [
    {
     "data": {
      "text/plain": [
       "(2807, 4)"
      ]
     },
     "execution_count": 41,
     "metadata": {},
     "output_type": "execute_result"
    }
   ],
   "source": [
    "ge_mix.shape"
   ]
  },
  {
   "cell_type": "markdown",
   "metadata": {},
   "source": [
    "### Model Selection - MiniBatchKMeans"
   ]
  },
  {
   "cell_type": "code",
   "execution_count": 42,
   "metadata": {},
   "outputs": [],
   "source": [
    "from sklearn.cluster import MiniBatchKMeans"
   ]
  },
  {
   "cell_type": "code",
   "execution_count": 43,
   "metadata": {},
   "outputs": [],
   "source": [
    "mini = MiniBatchKMeans(n_clusters = 6)"
   ]
  },
  {
   "cell_type": "code",
   "execution_count": 44,
   "metadata": {},
   "outputs": [],
   "source": [
    "X.drop('label', axis=1, inplace=True)"
   ]
  },
  {
   "cell_type": "code",
   "execution_count": 45,
   "metadata": {},
   "outputs": [],
   "source": [
    "# Let's divide the intital dataset into pieces to demonstrate online learning\n",
    "part_1, part_2, part_3 = X.iloc[0: 2000], X.iloc[2000:4000], X.iloc[4000:6000]"
   ]
  },
  {
   "cell_type": "code",
   "execution_count": 46,
   "metadata": {},
   "outputs": [
    {
     "name": "stderr",
     "output_type": "stream",
     "text": [
      "/tmp/ipykernel_609834/669684851.py:6: SettingWithCopyWarning: \n",
      "A value is trying to be set on a copy of a slice from a DataFrame.\n",
      "Try using .loc[row_indexer,col_indexer] = value instead\n",
      "\n",
      "See the caveats in the documentation: https://pandas.pydata.org/pandas-docs/stable/user_guide/indexing.html#returning-a-view-versus-a-copy\n",
      "  df['label'] = algo.labels_\n",
      "/tmp/ipykernel_609834/669684851.py:6: SettingWithCopyWarning: \n",
      "A value is trying to be set on a copy of a slice from a DataFrame.\n",
      "Try using .loc[row_indexer,col_indexer] = value instead\n",
      "\n",
      "See the caveats in the documentation: https://pandas.pydata.org/pandas-docs/stable/user_guide/indexing.html#returning-a-view-versus-a-copy\n",
      "  df['label'] = algo.labels_\n",
      "/tmp/ipykernel_609834/669684851.py:6: SettingWithCopyWarning: \n",
      "A value is trying to be set on a copy of a slice from a DataFrame.\n",
      "Try using .loc[row_indexer,col_indexer] = value instead\n",
      "\n",
      "See the caveats in the documentation: https://pandas.pydata.org/pandas-docs/stable/user_guide/indexing.html#returning-a-view-versus-a-copy\n",
      "  df['label'] = algo.labels_\n"
     ]
    }
   ],
   "source": [
    "for i in [part_1, part_2, part_3]:\n",
    "    t = fit(i, mini)\n",
    "    mini = t[1]\n",
    "    i = t[0]"
   ]
  },
  {
   "cell_type": "code",
   "execution_count": 47,
   "metadata": {},
   "outputs": [],
   "source": [
    "X = pd.concat([part_1, part_2, part_3])"
   ]
  },
  {
   "cell_type": "code",
   "execution_count": 48,
   "metadata": {},
   "outputs": [
    {
     "data": {
      "text/plain": [
       "Index(['Unnamed: 0', 'track_id', 'acousticness', 'danceability', 'energy',\n",
       "       'instrumentalness', 'liveness', 'speechiness', 'tempo', 'valence',\n",
       "       ...\n",
       "       'Salsa', 'NuJazz', 'HipHop Beats', 'Modern Jazz', 'Turkish', 'Tango',\n",
       "       'Fado', 'Christmas', 'Instrumental', 'label'],\n",
       "      dtype='object', length=931)"
      ]
     },
     "execution_count": 48,
     "metadata": {},
     "output_type": "execute_result"
    }
   ],
   "source": [
    "X.columns"
   ]
  },
  {
   "cell_type": "code",
   "execution_count": 49,
   "metadata": {},
   "outputs": [
    {
     "data": {
      "text/html": [
       "<div>\n",
       "<style scoped>\n",
       "    .dataframe tbody tr th:only-of-type {\n",
       "        vertical-align: middle;\n",
       "    }\n",
       "\n",
       "    .dataframe tbody tr th {\n",
       "        vertical-align: top;\n",
       "    }\n",
       "\n",
       "    .dataframe thead th {\n",
       "        text-align: right;\n",
       "    }\n",
       "</style>\n",
       "<table border=\"1\" class=\"dataframe\">\n",
       "  <thead>\n",
       "    <tr style=\"text-align: right;\">\n",
       "      <th></th>\n",
       "      <th>Unnamed: 0</th>\n",
       "      <th>track_id</th>\n",
       "      <th>acousticness</th>\n",
       "      <th>danceability</th>\n",
       "      <th>energy</th>\n",
       "      <th>instrumentalness</th>\n",
       "      <th>liveness</th>\n",
       "      <th>speechiness</th>\n",
       "      <th>tempo</th>\n",
       "      <th>valence</th>\n",
       "      <th>...</th>\n",
       "      <th>Salsa</th>\n",
       "      <th>NuJazz</th>\n",
       "      <th>HipHop Beats</th>\n",
       "      <th>Modern Jazz</th>\n",
       "      <th>Turkish</th>\n",
       "      <th>Tango</th>\n",
       "      <th>Fado</th>\n",
       "      <th>Christmas</th>\n",
       "      <th>Instrumental</th>\n",
       "      <th>label</th>\n",
       "    </tr>\n",
       "  </thead>\n",
       "  <tbody>\n",
       "    <tr>\n",
       "      <th>2329</th>\n",
       "      <td>2329</td>\n",
       "      <td>9787</td>\n",
       "      <td>0.032210</td>\n",
       "      <td>0.446872</td>\n",
       "      <td>0.809473</td>\n",
       "      <td>0.340068</td>\n",
       "      <td>0.233547</td>\n",
       "      <td>0.115823</td>\n",
       "      <td>125.668</td>\n",
       "      <td>0.344056</td>\n",
       "      <td>...</td>\n",
       "      <td>0.0</td>\n",
       "      <td>0.0</td>\n",
       "      <td>0.0</td>\n",
       "      <td>0.0</td>\n",
       "      <td>0.0</td>\n",
       "      <td>0.0</td>\n",
       "      <td>0.0</td>\n",
       "      <td>0.0</td>\n",
       "      <td>0.0</td>\n",
       "      <td>5</td>\n",
       "    </tr>\n",
       "    <tr>\n",
       "      <th>3820</th>\n",
       "      <td>3820</td>\n",
       "      <td>15136</td>\n",
       "      <td>0.247748</td>\n",
       "      <td>0.067595</td>\n",
       "      <td>0.443744</td>\n",
       "      <td>0.969501</td>\n",
       "      <td>0.129950</td>\n",
       "      <td>0.049286</td>\n",
       "      <td>175.511</td>\n",
       "      <td>0.079550</td>\n",
       "      <td>...</td>\n",
       "      <td>0.0</td>\n",
       "      <td>0.0</td>\n",
       "      <td>0.0</td>\n",
       "      <td>0.0</td>\n",
       "      <td>0.0</td>\n",
       "      <td>0.0</td>\n",
       "      <td>0.0</td>\n",
       "      <td>0.0</td>\n",
       "      <td>0.0</td>\n",
       "      <td>5</td>\n",
       "    </tr>\n",
       "    <tr>\n",
       "      <th>488</th>\n",
       "      <td>488</td>\n",
       "      <td>1272</td>\n",
       "      <td>0.635033</td>\n",
       "      <td>0.247340</td>\n",
       "      <td>0.999023</td>\n",
       "      <td>0.885709</td>\n",
       "      <td>0.204760</td>\n",
       "      <td>0.079676</td>\n",
       "      <td>189.539</td>\n",
       "      <td>0.031650</td>\n",
       "      <td>...</td>\n",
       "      <td>0.0</td>\n",
       "      <td>0.0</td>\n",
       "      <td>0.0</td>\n",
       "      <td>0.0</td>\n",
       "      <td>0.0</td>\n",
       "      <td>0.0</td>\n",
       "      <td>0.0</td>\n",
       "      <td>0.0</td>\n",
       "      <td>0.0</td>\n",
       "      <td>5</td>\n",
       "    </tr>\n",
       "  </tbody>\n",
       "</table>\n",
       "<p>3 rows × 931 columns</p>\n",
       "</div>"
      ],
      "text/plain": [
       "      Unnamed: 0  track_id  acousticness  danceability    energy  \\\n",
       "2329        2329      9787      0.032210      0.446872  0.809473   \n",
       "3820        3820     15136      0.247748      0.067595  0.443744   \n",
       "488          488      1272      0.635033      0.247340  0.999023   \n",
       "\n",
       "      instrumentalness  liveness  speechiness    tempo   valence  ...  Salsa  \\\n",
       "2329          0.340068  0.233547     0.115823  125.668  0.344056  ...    0.0   \n",
       "3820          0.969501  0.129950     0.049286  175.511  0.079550  ...    0.0   \n",
       "488           0.885709  0.204760     0.079676  189.539  0.031650  ...    0.0   \n",
       "\n",
       "      NuJazz  HipHop Beats  Modern Jazz  Turkish  Tango  Fado  Christmas  \\\n",
       "2329     0.0           0.0          0.0      0.0    0.0   0.0        0.0   \n",
       "3820     0.0           0.0          0.0      0.0    0.0   0.0        0.0   \n",
       "488      0.0           0.0          0.0      0.0    0.0   0.0        0.0   \n",
       "\n",
       "      Instrumental  label  \n",
       "2329           0.0      5  \n",
       "3820           0.0      5  \n",
       "488            0.0      5  \n",
       "\n",
       "[3 rows x 931 columns]"
      ]
     },
     "execution_count": 49,
     "metadata": {},
     "output_type": "execute_result"
    }
   ],
   "source": [
    "X.head(3)"
   ]
  },
  {
   "cell_type": "code",
   "execution_count": 50,
   "metadata": {},
   "outputs": [
    {
     "data": {
      "text/plain": [
       "0    2836\n",
       "3    1189\n",
       "5     946\n",
       "1     833\n",
       "2     195\n",
       "4       1\n",
       "Name: label, dtype: int64"
      ]
     },
     "execution_count": 50,
     "metadata": {},
     "output_type": "execute_result"
    }
   ],
   "source": [
    "X['label'].value_counts()"
   ]
  },
  {
   "cell_type": "code",
   "execution_count": 51,
   "metadata": {
    "scrolled": true
   },
   "outputs": [],
   "source": [
    "recommendations = predict((X, mini), Y)"
   ]
  },
  {
   "cell_type": "code",
   "execution_count": null,
   "metadata": {},
   "outputs": [],
   "source": [
    "output = recommend(recommendations, metadata, Y)"
   ]
  },
  {
   "cell_type": "code",
   "execution_count": null,
   "metadata": {},
   "outputs": [],
   "source": [
    "genre_recommend_mini, artist_name_recommend_mini, mixed_mini = output[0], output[1], output[2]"
   ]
  },
  {
   "cell_type": "code",
   "execution_count": null,
   "metadata": {},
   "outputs": [],
   "source": [
    "genre_recommend_mini.shape"
   ]
  },
  {
   "cell_type": "code",
   "execution_count": null,
   "metadata": {},
   "outputs": [],
   "source": [
    "artist_name_recommend_mini.shape"
   ]
  },
  {
   "cell_type": "code",
   "execution_count": null,
   "metadata": {},
   "outputs": [],
   "source": [
    "# Genre wise recommendations\n",
    "genre_recommend_mini.head()"
   ]
  },
  {
   "cell_type": "code",
   "execution_count": null,
   "metadata": {},
   "outputs": [],
   "source": [
    "# Artist wise recommendations\n",
    "artist_name_recommend_mini.head()"
   ]
  },
  {
   "cell_type": "code",
   "execution_count": null,
   "metadata": {},
   "outputs": [],
   "source": [
    "# Mixed Recommendations\n",
    "mixed_mini.head()"
   ]
  },
  {
   "cell_type": "markdown",
   "metadata": {},
   "source": [
    "### Model Selection - Birch"
   ]
  },
  {
   "cell_type": "code",
   "execution_count": null,
   "metadata": {},
   "outputs": [],
   "source": [
    "from sklearn.cluster import Birch"
   ]
  },
  {
   "cell_type": "code",
   "execution_count": null,
   "metadata": {},
   "outputs": [],
   "source": [
    "birch = Birch(n_clusters = 6)"
   ]
  },
  {
   "cell_type": "code",
   "execution_count": null,
   "metadata": {},
   "outputs": [],
   "source": [
    "X.drop('label', axis=1, inplace=True)"
   ]
  },
  {
   "cell_type": "code",
   "execution_count": null,
   "metadata": {},
   "outputs": [],
   "source": [
    "# Let's divide the intital dataset into pieces to demonstrate online learning\n",
    "part_1, part_2, part_3 = X.iloc[0: 2000], X.iloc[2000:4000], X.iloc[4000:6000]"
   ]
  },
  {
   "cell_type": "code",
   "execution_count": null,
   "metadata": {},
   "outputs": [],
   "source": [
    "for i in [part_1, part_2, part_3]:\n",
    "    t = fit(i, birch)\n",
    "    mini = t[1]\n",
    "    i = t[0]"
   ]
  },
  {
   "cell_type": "code",
   "execution_count": null,
   "metadata": {},
   "outputs": [],
   "source": [
    "X = pd.concat([part_1, part_2, part_3])"
   ]
  },
  {
   "cell_type": "code",
   "execution_count": null,
   "metadata": {},
   "outputs": [],
   "source": [
    "X.columns"
   ]
  },
  {
   "cell_type": "code",
   "execution_count": null,
   "metadata": {},
   "outputs": [],
   "source": [
    "X.head(3)"
   ]
  },
  {
   "cell_type": "code",
   "execution_count": null,
   "metadata": {},
   "outputs": [],
   "source": [
    "X['label'].value_counts()"
   ]
  },
  {
   "cell_type": "code",
   "execution_count": null,
   "metadata": {
    "scrolled": true
   },
   "outputs": [],
   "source": [
    "recommendations = predict((X, birch), Y)"
   ]
  },
  {
   "cell_type": "code",
   "execution_count": null,
   "metadata": {},
   "outputs": [],
   "source": [
    "output = recommend(recommendations, metadata, Y)"
   ]
  },
  {
   "cell_type": "code",
   "execution_count": null,
   "metadata": {},
   "outputs": [],
   "source": [
    "genre_recommend_birch, artist_name_recommend_birch, mixed_birch = output[0], output[1], output[2]"
   ]
  },
  {
   "cell_type": "code",
   "execution_count": null,
   "metadata": {},
   "outputs": [],
   "source": [
    "genre_recommend_birch.shape"
   ]
  },
  {
   "cell_type": "code",
   "execution_count": null,
   "metadata": {},
   "outputs": [],
   "source": [
    "artist_name_recommend_birch.shape"
   ]
  },
  {
   "cell_type": "code",
   "execution_count": null,
   "metadata": {},
   "outputs": [],
   "source": [
    "# Genre wise recommendations\n",
    "genre_recommend_birch.head()"
   ]
  },
  {
   "cell_type": "code",
   "execution_count": null,
   "metadata": {},
   "outputs": [],
   "source": [
    "# Artist wise recommendations\n",
    "artist_name_recommend_birch.head()"
   ]
  },
  {
   "cell_type": "code",
   "execution_count": null,
   "metadata": {},
   "outputs": [],
   "source": [
    "# Mixed Recommendations\n",
    "mixed_birch.head()"
   ]
  }
 ],
 "metadata": {
  "kernelspec": {
   "display_name": "Python 3 (ipykernel)",
   "language": "python",
   "name": "python3"
  },
  "language_info": {
   "codemirror_mode": {
    "name": "ipython",
    "version": 3
   },
   "file_extension": ".py",
   "mimetype": "text/x-python",
   "name": "python",
   "nbconvert_exporter": "python",
   "pygments_lexer": "ipython3",
   "version": "3.8.8"
  }
 },
 "nbformat": 4,
 "nbformat_minor": 2
}
