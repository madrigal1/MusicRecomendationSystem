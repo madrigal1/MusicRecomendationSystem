{
 "cells": [
  {
   "cell_type": "markdown",
   "metadata": {},
   "source": [
    "## Music Recommendation System (Data Processing and Analysis)"
   ]
  },
  {
   "cell_type": "markdown",
   "metadata": {},
   "source": [
    "### Framing the Problem"
   ]
  },
  {
   "cell_type": "markdown",
   "metadata": {},
   "source": [
    "This project is aimed upon building a music recommendation system that gives the user recommendations on music based on his music taste by analysing his previously heard music and playlist. This project is done in two ways, using 'User - to - User Recommendation' and 'Item - to - Item Recommendation'. Birch, MiniBatchKMeans and KMeans algorithms are being used along with 'Surprise' module to compute the similarity between recommendations and user's already existing playlist for evaluation"
   ]
  },
  {
   "cell_type": "markdown",
   "metadata": {},
   "source": [
    "### Obtaining Data"
   ]
  },
  {
   "cell_type": "code",
   "execution_count": 7,
   "metadata": {},
   "outputs": [],
   "source": [
    "import pandas as pd\n",
    "import numpy as np\n",
    "import matplotlib.pyplot as plt\n",
    "import seaborn as sns\n",
    "import math\n",
    "import os\n",
    "import missingno as ms\n",
    "%matplotlib inline"
   ]
  },
  {
   "cell_type": "code",
   "execution_count": 8,
   "metadata": {},
   "outputs": [],
   "source": [
    "pd.set_option('display.max_rows', 20)\n",
    "pd.set_option('display.max_columns', 10)"
   ]
  },
  {
   "cell_type": "code",
   "execution_count": 9,
   "metadata": {},
   "outputs": [
    {
     "name": "stdout",
     "output_type": "stream",
     "text": [
      "/home/gokulkurup/root/MusicRecomendationSystem/datasets/raw/fma_metadata\n"
     ]
    }
   ],
   "source": [
    "curr_dir = os.path.join(os.getcwd(),\"datasets\",\"raw\",\"fma_metadata\")\n",
    "print(curr_dir)"
   ]
  },
  {
   "cell_type": "code",
   "execution_count": 10,
   "metadata": {},
   "outputs": [
    {
     "name": "stderr",
     "output_type": "stream",
     "text": [
      "/home/gokulkurup/.local/lib/python3.9/site-packages/IPython/core/interactiveshell.py:3444: DtypeWarning: Columns (0,1,2,3,4,5,6,7,8,11,13,16,17,18,19,20,21,22,23,24,25,26,27,28,29,30,31,32,33,34,35,36,37,38,39,40,41,42,43,44,45,46,47,48,49,50,51,52,53,54,55,56,57,58,59,60,61,62,63,64,65,66,67,68,69,70,71,72,73,74,75,76,77,78,79,80,81,82,83,84,85,86,87,88,89,90,91,92,93,94,95,96,97,98,99,100,101,102,103,104,105,106,107,108,109,110,111,112,113,114,115,116,117,118,119,120,121,122,123,124,125,126,127,128,129,130,131,132,133,134,135,136,137,138,139,140,141,142,143,144,145,146,147,148,149,150,151,152,153,154,155,156,157,158,159,160,161,162,163,164,165,166,167,168,169,170,171,172,173,174,175,176,177,178,179,180,181,182,183,184,185,186,187,188,189,190,191,192,193,194,195,196,197,198,199,200,201,202,203,204,205,206,207,208,209,210,211,212,213,214,215,216,217,218,219,220,221,222,223,224,225,226,227,228,229,230,231,232,233,234,235,236,237,238,239,240,241,242,243,244,245,246,247,248,249) have mixed types.Specify dtype option on import or set low_memory=False.\n",
      "  exec(code_obj, self.user_global_ns, self.user_ns)\n",
      "/home/gokulkurup/.local/lib/python3.9/site-packages/IPython/core/interactiveshell.py:3444: DtypeWarning: Columns (0,1,2,3,4,5,6,7,8,9,10,11,12,13,14,15,16,17,18,19,20,21,22,23,24,25,26,27,28,29,30,31,32,33,34,35,36,37,38,39,40,41,42,43,44,45,46,47,48,49,50,51,52,53,54,55,56,57,58,59,60,61,62,63,64,65,66,67,68,69,70,71,72,73,74,75,76,77,78,79,80,81,82,83,84,85,86,87,88,89,90,91,92,93,94,95,96,97,98,99,100,101,102,103,104,105,106,107,108,109,110,111,112,113,114,115,116,117,118,119,120,121,122,123,124,125,126,127,128,129,130,131,132,133,134,135,136,137,138,139,140,141,142,143,144,145,146,147,148,149,150,151,152,153,154,155,156,157,158,159,160,161,162,163,164,165,166,167,168,169,170,171,172,173,174,175,176,177,178,179,180,181,182,183,184,185,186,187,188,189,190,191,192,193,194,195,196,197,198,199,200,201,202,203,204,205,206,207,208,209,210,211,212,213,214,215,216,217,218,219,220,221,222,223,224,225,226,227,228,229,230,231,232,233,234,235,236,237,238,239,240,241,242,243,244,245,246,247,248,249,250,251,252,253,254,255,256,257,258,259,260,261,262,263,264,265,266,267,268,269,270,271,272,273,274,275,276,277,278,279,280,281,282,283,284,285,286,287,288,289,290,291,292,293,294,295,296,297,298,299,300,301,302,303,304,305,306,307,308,309,310,311,312,313,314,315,316,317,318,319,320,321,322,323,324,325,326,327,328,329,330,331,332,333,334,335,336,337,338,339,340,341,342,343,344,345,346,347,348,349,350,351,352,353,354,355,356,357,358,359,360,361,362,363,364,365,366,367,368,369,370,371,372,373,374,375,376,377,378,379,380,381,382,383,384,385,386,387,388,389,390,391,392,393,394,395,396,397,398,399,400,401,402,403,404,405,406,407,408,409,410,411,412,413,414,415,416,417,418,419,420,421,422,423,424,425,426,427,428,429,430,431,432,433,434,435,436,437,438,439,440,441,442,443,444,445,446,447,448,449,450,451,452,453,454,455,456,457,458,459,460,461,462,463,464,465,466,467,468,469,470,471,472,473,474,475,476,477,478,479,480,481,482,483,484,485,486,487,488,489,490,491,492,493,494,495,496,497,498,499,500,501,502,503,504,505,506,507,508,509,510,511,512,513,514,515,516,517,518) have mixed types.Specify dtype option on import or set low_memory=False.\n",
      "  exec(code_obj, self.user_global_ns, self.user_ns)\n",
      "/home/gokulkurup/.local/lib/python3.9/site-packages/IPython/core/interactiveshell.py:3444: DtypeWarning: Columns (0,1,5,6,8,12,18,20,21,22,24,33,34,38,39,44,47,49) have mixed types.Specify dtype option on import or set low_memory=False.\n",
      "  exec(code_obj, self.user_global_ns, self.user_ns)\n"
     ]
    }
   ],
   "source": [
    "echonest = pd.read_csv(os.path.join(curr_dir,'echonest.csv'))\n",
    "features = pd.read_csv(os.path.join(curr_dir,'features.csv'))\n",
    "genres = pd.read_csv(os.path.join(curr_dir,'genres.csv'))\n",
    "tracks = pd.read_csv(os.path.join(curr_dir,'tracks.csv'))"
   ]
  },
  {
   "cell_type": "markdown",
   "metadata": {},
   "source": [
    "### Working with 'Echonest' dataset"
   ]
  },
  {
   "cell_type": "markdown",
   "metadata": {},
   "source": [
    "#### Analysing Data"
   ]
  },
  {
   "cell_type": "code",
   "execution_count": 11,
   "metadata": {},
   "outputs": [
    {
     "name": "stdout",
     "output_type": "stream",
     "text": [
      "<class 'pandas.core.frame.DataFrame'>\n",
      "RangeIndex: 13132 entries, 0 to 13131\n",
      "Columns: 250 entries, Unnamed: 0 to echonest.248\n",
      "dtypes: object(250)\n",
      "memory usage: 25.0+ MB\n"
     ]
    }
   ],
   "source": [
    "echonest.info()"
   ]
  },
  {
   "cell_type": "code",
   "execution_count": 12,
   "metadata": {},
   "outputs": [
    {
     "name": "stdout",
     "output_type": "stream",
     "text": [
      "<class 'pandas.core.frame.DataFrame'>\n",
      "RangeIndex: 106577 entries, 0 to 106576\n",
      "Columns: 519 entries, feature to zcr.6\n",
      "dtypes: object(519)\n",
      "memory usage: 422.0+ MB\n"
     ]
    }
   ],
   "source": [
    "features.info()"
   ]
  },
  {
   "cell_type": "code",
   "execution_count": 13,
   "metadata": {},
   "outputs": [
    {
     "name": "stdout",
     "output_type": "stream",
     "text": [
      "<class 'pandas.core.frame.DataFrame'>\n",
      "RangeIndex: 163 entries, 0 to 162\n",
      "Data columns (total 5 columns):\n",
      " #   Column     Non-Null Count  Dtype \n",
      "---  ------     --------------  ----- \n",
      " 0   genre_id   163 non-null    int64 \n",
      " 1   #tracks    163 non-null    int64 \n",
      " 2   parent     163 non-null    int64 \n",
      " 3   title      163 non-null    object\n",
      " 4   top_level  163 non-null    int64 \n",
      "dtypes: int64(4), object(1)\n",
      "memory usage: 6.5+ KB\n"
     ]
    }
   ],
   "source": [
    "genres.info()"
   ]
  },
  {
   "cell_type": "code",
   "execution_count": 14,
   "metadata": {},
   "outputs": [
    {
     "name": "stdout",
     "output_type": "stream",
     "text": [
      "<class 'pandas.core.frame.DataFrame'>\n",
      "RangeIndex: 106576 entries, 0 to 106575\n",
      "Data columns (total 53 columns):\n",
      " #   Column      Non-Null Count   Dtype \n",
      "---  ------      --------------   ----- \n",
      " 0   Unnamed: 0  106575 non-null  object\n",
      " 1   album       106575 non-null  object\n",
      " 2   album.1     103046 non-null  object\n",
      " 3   album.2     70295 non-null   object\n",
      " 4   album.3     15296 non-null   object\n",
      " 5   album.4     106575 non-null  object\n",
      " 6   album.5     106575 non-null  object\n",
      " 7   album.6     83150 non-null   object\n",
      " 8   album.7     106575 non-null  object\n",
      " 9   album.8     18061 non-null   object\n",
      " 10  album.9     106575 non-null  object\n",
      " 11  album.10    105550 non-null  object\n",
      " 12  album.11    106575 non-null  object\n",
      " 13  album.12    100067 non-null  object\n",
      " 14  artist      22712 non-null   object\n",
      " 15  artist.1    5376 non-null    object\n",
      " 16  artist.2    14272 non-null   object\n",
      " 17  artist.3    71157 non-null   object\n",
      " 18  artist.4    106575 non-null  object\n",
      " 19  artist.5    105719 non-null  object\n",
      " 20  artist.6    106575 non-null  object\n",
      " 21  artist.7    106575 non-null  object\n",
      " 22  artist.8    44545 non-null   object\n",
      " 23  artist.9    70211 non-null   object\n",
      " 24  artist.10   44545 non-null   object\n",
      " 25  artist.11   46850 non-null   object\n",
      " 26  artist.12   106575 non-null  object\n",
      " 27  artist.13   13153 non-null   object\n",
      " 28  artist.14   106575 non-null  object\n",
      " 29  artist.15   79257 non-null   object\n",
      " 30  artist.16   5582 non-null    object\n",
      " 31  set         106575 non-null  object\n",
      " 32  set.1       106575 non-null  object\n",
      " 33  track       106575 non-null  object\n",
      " 34  track.1     106575 non-null  object\n",
      " 35  track.2     3671 non-null    object\n",
      " 36  track.3     106575 non-null  object\n",
      " 37  track.4     6160 non-null    object\n",
      " 38  track.5     106575 non-null  object\n",
      " 39  track.6     106575 non-null  object\n",
      " 40  track.7     49599 non-null   object\n",
      " 41  track.8     106575 non-null  object\n",
      " 42  track.9     106575 non-null  object\n",
      " 43  track.10    2350 non-null    object\n",
      " 44  track.11    106575 non-null  object\n",
      " 45  track.12    15025 non-null   object\n",
      " 46  track.13    106488 non-null  object\n",
      " 47  track.14    106575 non-null  object\n",
      " 48  track.15    312 non-null     object\n",
      " 49  track.16    106575 non-null  object\n",
      " 50  track.17    1264 non-null    object\n",
      " 51  track.18    106575 non-null  object\n",
      " 52  track.19    106574 non-null  object\n",
      "dtypes: object(53)\n",
      "memory usage: 43.1+ MB\n"
     ]
    }
   ],
   "source": [
    "tracks.info()"
   ]
  },
  {
   "cell_type": "code",
   "execution_count": 15,
   "metadata": {},
   "outputs": [
    {
     "data": {
      "text/html": [
       "<div>\n",
       "<style scoped>\n",
       "    .dataframe tbody tr th:only-of-type {\n",
       "        vertical-align: middle;\n",
       "    }\n",
       "\n",
       "    .dataframe tbody tr th {\n",
       "        vertical-align: top;\n",
       "    }\n",
       "\n",
       "    .dataframe thead th {\n",
       "        text-align: right;\n",
       "    }\n",
       "</style>\n",
       "<table border=\"1\" class=\"dataframe\">\n",
       "  <thead>\n",
       "    <tr style=\"text-align: right;\">\n",
       "      <th></th>\n",
       "      <th>Unnamed: 0</th>\n",
       "      <th>echonest</th>\n",
       "      <th>echonest.1</th>\n",
       "      <th>echonest.2</th>\n",
       "      <th>echonest.3</th>\n",
       "      <th>...</th>\n",
       "      <th>echonest.244</th>\n",
       "      <th>echonest.245</th>\n",
       "      <th>echonest.246</th>\n",
       "      <th>echonest.247</th>\n",
       "      <th>echonest.248</th>\n",
       "    </tr>\n",
       "  </thead>\n",
       "  <tbody>\n",
       "    <tr>\n",
       "      <th>0</th>\n",
       "      <td>NaN</td>\n",
       "      <td>audio_features</td>\n",
       "      <td>audio_features</td>\n",
       "      <td>audio_features</td>\n",
       "      <td>audio_features</td>\n",
       "      <td>...</td>\n",
       "      <td>temporal_features</td>\n",
       "      <td>temporal_features</td>\n",
       "      <td>temporal_features</td>\n",
       "      <td>temporal_features</td>\n",
       "      <td>temporal_features</td>\n",
       "    </tr>\n",
       "    <tr>\n",
       "      <th>1</th>\n",
       "      <td>NaN</td>\n",
       "      <td>acousticness</td>\n",
       "      <td>danceability</td>\n",
       "      <td>energy</td>\n",
       "      <td>instrumentalness</td>\n",
       "      <td>...</td>\n",
       "      <td>219</td>\n",
       "      <td>220</td>\n",
       "      <td>221</td>\n",
       "      <td>222</td>\n",
       "      <td>223</td>\n",
       "    </tr>\n",
       "    <tr>\n",
       "      <th>2</th>\n",
       "      <td>track_id</td>\n",
       "      <td>NaN</td>\n",
       "      <td>NaN</td>\n",
       "      <td>NaN</td>\n",
       "      <td>NaN</td>\n",
       "      <td>...</td>\n",
       "      <td>NaN</td>\n",
       "      <td>NaN</td>\n",
       "      <td>NaN</td>\n",
       "      <td>NaN</td>\n",
       "      <td>NaN</td>\n",
       "    </tr>\n",
       "    <tr>\n",
       "      <th>3</th>\n",
       "      <td>2</td>\n",
       "      <td>0.4166752327</td>\n",
       "      <td>0.6758939853</td>\n",
       "      <td>0.6344762684</td>\n",
       "      <td>0.0106280683</td>\n",
       "      <td>...</td>\n",
       "      <td>0.0640799999</td>\n",
       "      <td>3.6769599915</td>\n",
       "      <td>3.6128799915</td>\n",
       "      <td>13.3166904449</td>\n",
       "      <td>262.9297485352</td>\n",
       "    </tr>\n",
       "    <tr>\n",
       "      <th>4</th>\n",
       "      <td>3</td>\n",
       "      <td>0.3744077685</td>\n",
       "      <td>0.5286430621</td>\n",
       "      <td>0.8174611317</td>\n",
       "      <td>0.0018511032</td>\n",
       "      <td>...</td>\n",
       "      <td>0.0641300008</td>\n",
       "      <td>6.0827698708</td>\n",
       "      <td>6.0186400414</td>\n",
       "      <td>16.6735477448</td>\n",
       "      <td>325.5810852051</td>\n",
       "    </tr>\n",
       "    <tr>\n",
       "      <th>5</th>\n",
       "      <td>5</td>\n",
       "      <td>0.0435668989</td>\n",
       "      <td>0.7455658702</td>\n",
       "      <td>0.7014699916</td>\n",
       "      <td>0.0006967990</td>\n",
       "      <td>...</td>\n",
       "      <td>0.0601399988</td>\n",
       "      <td>5.9264898300</td>\n",
       "      <td>5.8663496971</td>\n",
       "      <td>16.0138492584</td>\n",
       "      <td>356.7557373047</td>\n",
       "    </tr>\n",
       "    <tr>\n",
       "      <th>6</th>\n",
       "      <td>10</td>\n",
       "      <td>0.9516699648</td>\n",
       "      <td>0.6581786543</td>\n",
       "      <td>0.9245251615</td>\n",
       "      <td>0.9654270154</td>\n",
       "      <td>...</td>\n",
       "      <td>0.0808200017</td>\n",
       "      <td>8.4140100479</td>\n",
       "      <td>8.3331899643</td>\n",
       "      <td>21.3170642853</td>\n",
       "      <td>483.4038085938</td>\n",
       "    </tr>\n",
       "    <tr>\n",
       "      <th>7</th>\n",
       "      <td>134</td>\n",
       "      <td>0.4522173071</td>\n",
       "      <td>0.5132380502</td>\n",
       "      <td>0.5604099311</td>\n",
       "      <td>0.0194426943</td>\n",
       "      <td>...</td>\n",
       "      <td>0.0644000024</td>\n",
       "      <td>11.2670698166</td>\n",
       "      <td>11.2026700974</td>\n",
       "      <td>26.4541797638</td>\n",
       "      <td>751.1477050781</td>\n",
       "    </tr>\n",
       "    <tr>\n",
       "      <th>8</th>\n",
       "      <td>139</td>\n",
       "      <td>0.1065495253</td>\n",
       "      <td>0.2609111726</td>\n",
       "      <td>0.6070668636</td>\n",
       "      <td>0.8350869898</td>\n",
       "      <td>...</td>\n",
       "      <td>0.0640399978</td>\n",
       "      <td>2.4366900921</td>\n",
       "      <td>2.3726501465</td>\n",
       "      <td>3.8970954418</td>\n",
       "      <td>37.8660430908</td>\n",
       "    </tr>\n",
       "    <tr>\n",
       "      <th>9</th>\n",
       "      <td>140</td>\n",
       "      <td>0.3763124975</td>\n",
       "      <td>0.7340790229</td>\n",
       "      <td>0.2656847734</td>\n",
       "      <td>0.6695811237</td>\n",
       "      <td>...</td>\n",
       "      <td>0.0753299966</td>\n",
       "      <td>9.8627195358</td>\n",
       "      <td>9.7873897552</td>\n",
       "      <td>21.9816207886</td>\n",
       "      <td>562.2294311523</td>\n",
       "    </tr>\n",
       "  </tbody>\n",
       "</table>\n",
       "<p>10 rows × 250 columns</p>\n",
       "</div>"
      ],
      "text/plain": [
       "  Unnamed: 0        echonest      echonest.1      echonest.2  \\\n",
       "0        NaN  audio_features  audio_features  audio_features   \n",
       "1        NaN    acousticness    danceability          energy   \n",
       "2   track_id             NaN             NaN             NaN   \n",
       "3          2    0.4166752327    0.6758939853    0.6344762684   \n",
       "4          3    0.3744077685    0.5286430621    0.8174611317   \n",
       "5          5    0.0435668989    0.7455658702    0.7014699916   \n",
       "6         10    0.9516699648    0.6581786543    0.9245251615   \n",
       "7        134    0.4522173071    0.5132380502    0.5604099311   \n",
       "8        139    0.1065495253    0.2609111726    0.6070668636   \n",
       "9        140    0.3763124975    0.7340790229    0.2656847734   \n",
       "\n",
       "         echonest.3  ...       echonest.244       echonest.245  \\\n",
       "0    audio_features  ...  temporal_features  temporal_features   \n",
       "1  instrumentalness  ...                219                220   \n",
       "2               NaN  ...                NaN                NaN   \n",
       "3      0.0106280683  ...       0.0640799999       3.6769599915   \n",
       "4      0.0018511032  ...       0.0641300008       6.0827698708   \n",
       "5      0.0006967990  ...       0.0601399988       5.9264898300   \n",
       "6      0.9654270154  ...       0.0808200017       8.4140100479   \n",
       "7      0.0194426943  ...       0.0644000024      11.2670698166   \n",
       "8      0.8350869898  ...       0.0640399978       2.4366900921   \n",
       "9      0.6695811237  ...       0.0753299966       9.8627195358   \n",
       "\n",
       "        echonest.246       echonest.247       echonest.248  \n",
       "0  temporal_features  temporal_features  temporal_features  \n",
       "1                221                222                223  \n",
       "2                NaN                NaN                NaN  \n",
       "3       3.6128799915      13.3166904449     262.9297485352  \n",
       "4       6.0186400414      16.6735477448     325.5810852051  \n",
       "5       5.8663496971      16.0138492584     356.7557373047  \n",
       "6       8.3331899643      21.3170642853     483.4038085938  \n",
       "7      11.2026700974      26.4541797638     751.1477050781  \n",
       "8       2.3726501465       3.8970954418      37.8660430908  \n",
       "9       9.7873897552      21.9816207886     562.2294311523  \n",
       "\n",
       "[10 rows x 250 columns]"
      ]
     },
     "execution_count": 15,
     "metadata": {},
     "output_type": "execute_result"
    }
   ],
   "source": [
    "echonest.head(10)"
   ]
  },
  {
   "cell_type": "markdown",
   "metadata": {},
   "source": [
    "#### Feature Engineering"
   ]
  },
  {
   "cell_type": "code",
   "execution_count": 16,
   "metadata": {},
   "outputs": [
    {
     "data": {
      "text/plain": [
       "<AxesSubplot:>"
      ]
     },
     "execution_count": 16,
     "metadata": {},
     "output_type": "execute_result"
    },
    {
     "data": {
      "image/png": "[encoded data removed]",
      "text/plain": [
       "<Figure size 1800x720 with 2 Axes>"
      ]
     },
     "metadata": {
      "needs_background": "light"
     },
     "output_type": "display_data"
    }
   ],
   "source": [
    "ms.matrix(echonest)"
   ]
  },
  {
   "cell_type": "code",
   "execution_count": 17,
   "metadata": {},
   "outputs": [],
   "source": [
    "echonest.drop(['echonest.8', 'echonest.9', 'echonest.15', 'echonest.16', 'echonest.17', 'echonest.18', 'echonest.19'], axis=1, inplace=True)"
   ]
  },
  {
   "cell_type": "code",
   "execution_count": 18,
   "metadata": {},
   "outputs": [
    {
     "data": {
      "text/html": [
       "<div>\n",
       "<style scoped>\n",
       "    .dataframe tbody tr th:only-of-type {\n",
       "        vertical-align: middle;\n",
       "    }\n",
       "\n",
       "    .dataframe tbody tr th {\n",
       "        vertical-align: top;\n",
       "    }\n",
       "\n",
       "    .dataframe thead th {\n",
       "        text-align: right;\n",
       "    }\n",
       "</style>\n",
       "<table border=\"1\" class=\"dataframe\">\n",
       "  <thead>\n",
       "    <tr style=\"text-align: right;\">\n",
       "      <th></th>\n",
       "      <th>Unnamed: 0</th>\n",
       "      <th>echonest</th>\n",
       "      <th>echonest.1</th>\n",
       "      <th>echonest.2</th>\n",
       "      <th>echonest.3</th>\n",
       "      <th>...</th>\n",
       "      <th>echonest.244</th>\n",
       "      <th>echonest.245</th>\n",
       "      <th>echonest.246</th>\n",
       "      <th>echonest.247</th>\n",
       "      <th>echonest.248</th>\n",
       "    </tr>\n",
       "  </thead>\n",
       "  <tbody>\n",
       "    <tr>\n",
       "      <th>13117</th>\n",
       "      <td>124818</td>\n",
       "      <td>0.092864</td>\n",
       "      <td>0.64608</td>\n",
       "      <td>0.772</td>\n",
       "      <td>0.569069</td>\n",
       "      <td>...</td>\n",
       "      <td>0.06354</td>\n",
       "      <td>2.19379</td>\n",
       "      <td>2.13025</td>\n",
       "      <td>5.541705</td>\n",
       "      <td>56.199059</td>\n",
       "    </tr>\n",
       "    <tr>\n",
       "      <th>13118</th>\n",
       "      <td>124819</td>\n",
       "      <td>0.212196</td>\n",
       "      <td>0.691758</td>\n",
       "      <td>0.801736</td>\n",
       "      <td>0.426629</td>\n",
       "      <td>...</td>\n",
       "      <td>0.06376</td>\n",
       "      <td>1.20807</td>\n",
       "      <td>1.14431</td>\n",
       "      <td>2.036453</td>\n",
       "      <td>7.25809</td>\n",
       "    </tr>\n",
       "    <tr>\n",
       "      <th>13119</th>\n",
       "      <td>124820</td>\n",
       "      <td>0.059584</td>\n",
       "      <td>0.702435</td>\n",
       "      <td>0.622037</td>\n",
       "      <td>0.099508</td>\n",
       "      <td>...</td>\n",
       "      <td>0.0624</td>\n",
       "      <td>1.20707</td>\n",
       "      <td>1.14467</td>\n",
       "      <td>2.145525</td>\n",
       "      <td>6.819393</td>\n",
       "    </tr>\n",
       "    <tr>\n",
       "      <th>13120</th>\n",
       "      <td>124850</td>\n",
       "      <td>0.105487</td>\n",
       "      <td>0.690411</td>\n",
       "      <td>0.546009</td>\n",
       "      <td>0.266321</td>\n",
       "      <td>...</td>\n",
       "      <td>0.06363</td>\n",
       "      <td>0.80522</td>\n",
       "      <td>0.74159</td>\n",
       "      <td>0.567929</td>\n",
       "      <td>1.35165</td>\n",
       "    </tr>\n",
       "    <tr>\n",
       "      <th>13121</th>\n",
       "      <td>124851</td>\n",
       "      <td>0.034877</td>\n",
       "      <td>0.641127</td>\n",
       "      <td>0.594074</td>\n",
       "      <td>0.478906</td>\n",
       "      <td>...</td>\n",
       "      <td>0.06367</td>\n",
       "      <td>0.99778</td>\n",
       "      <td>0.93411</td>\n",
       "      <td>1.569256</td>\n",
       "      <td>6.007699</td>\n",
       "    </tr>\n",
       "    <tr>\n",
       "      <th>13122</th>\n",
       "      <td>124852</td>\n",
       "      <td>0.702553</td>\n",
       "      <td>0.7289</td>\n",
       "      <td>0.590636</td>\n",
       "      <td>0.41506</td>\n",
       "      <td>...</td>\n",
       "      <td>0.06331</td>\n",
       "      <td>1.06667</td>\n",
       "      <td>1.00336</td>\n",
       "      <td>2.174237</td>\n",
       "      <td>11.556788</td>\n",
       "    </tr>\n",
       "    <tr>\n",
       "      <th>13123</th>\n",
       "      <td>124853</td>\n",
       "      <td>0.020307</td>\n",
       "      <td>0.689575</td>\n",
       "      <td>0.676306</td>\n",
       "      <td>0.891817</td>\n",
       "      <td>...</td>\n",
       "      <td>0.06045</td>\n",
       "      <td>0.89438</td>\n",
       "      <td>0.83393</td>\n",
       "      <td>1.494897</td>\n",
       "      <td>7.501858</td>\n",
       "    </tr>\n",
       "    <tr>\n",
       "      <th>13124</th>\n",
       "      <td>124854</td>\n",
       "      <td>0.026545</td>\n",
       "      <td>0.667363</td>\n",
       "      <td>0.657399</td>\n",
       "      <td>0.364107</td>\n",
       "      <td>...</td>\n",
       "      <td>0.06458</td>\n",
       "      <td>2.84526</td>\n",
       "      <td>2.78068</td>\n",
       "      <td>7.680386</td>\n",
       "      <td>138.16658</td>\n",
       "    </tr>\n",
       "    <tr>\n",
       "      <th>13125</th>\n",
       "      <td>124855</td>\n",
       "      <td>0.160281</td>\n",
       "      <td>0.604249</td>\n",
       "      <td>0.554242</td>\n",
       "      <td>0.728696</td>\n",
       "      <td>...</td>\n",
       "      <td>0.06363</td>\n",
       "      <td>1.08476</td>\n",
       "      <td>1.02113</td>\n",
       "      <td>1.830207</td>\n",
       "      <td>7.012114</td>\n",
       "    </tr>\n",
       "    <tr>\n",
       "      <th>13126</th>\n",
       "      <td>124856</td>\n",
       "      <td>0.112268</td>\n",
       "      <td>0.581255</td>\n",
       "      <td>0.665963</td>\n",
       "      <td>0.853041</td>\n",
       "      <td>...</td>\n",
       "      <td>0.06086</td>\n",
       "      <td>3.4971</td>\n",
       "      <td>3.43624</td>\n",
       "      <td>7.827642</td>\n",
       "      <td>138.703949</td>\n",
       "    </tr>\n",
       "    <tr>\n",
       "      <th>13127</th>\n",
       "      <td>124857</td>\n",
       "      <td>0.007592</td>\n",
       "      <td>0.790364</td>\n",
       "      <td>0.719288</td>\n",
       "      <td>0.853114</td>\n",
       "      <td>...</td>\n",
       "      <td>0.06395</td>\n",
       "      <td>2.04073</td>\n",
       "      <td>1.97678</td>\n",
       "      <td>8.144532</td>\n",
       "      <td>147.040405</td>\n",
       "    </tr>\n",
       "    <tr>\n",
       "      <th>13128</th>\n",
       "      <td>124862</td>\n",
       "      <td>0.041498</td>\n",
       "      <td>0.843077</td>\n",
       "      <td>0.536496</td>\n",
       "      <td>0.865151</td>\n",
       "      <td>...</td>\n",
       "      <td>0.0624</td>\n",
       "      <td>0.92236</td>\n",
       "      <td>0.85996</td>\n",
       "      <td>1.794739</td>\n",
       "      <td>6.321268</td>\n",
       "    </tr>\n",
       "    <tr>\n",
       "      <th>13129</th>\n",
       "      <td>124863</td>\n",
       "      <td>0.000124</td>\n",
       "      <td>0.609686</td>\n",
       "      <td>0.895136</td>\n",
       "      <td>0.846624</td>\n",
       "      <td>...</td>\n",
       "      <td>0.06222</td>\n",
       "      <td>2.25116</td>\n",
       "      <td>2.18894</td>\n",
       "      <td>5.578341</td>\n",
       "      <td>89.180328</td>\n",
       "    </tr>\n",
       "    <tr>\n",
       "      <th>13130</th>\n",
       "      <td>124864</td>\n",
       "      <td>0.327576</td>\n",
       "      <td>0.574426</td>\n",
       "      <td>0.548327</td>\n",
       "      <td>0.452867</td>\n",
       "      <td>...</td>\n",
       "      <td>0.0639</td>\n",
       "      <td>1.48744</td>\n",
       "      <td>1.42354</td>\n",
       "      <td>2.173092</td>\n",
       "      <td>12.503966</td>\n",
       "    </tr>\n",
       "    <tr>\n",
       "      <th>13131</th>\n",
       "      <td>124911</td>\n",
       "      <td>0.993606</td>\n",
       "      <td>0.499339</td>\n",
       "      <td>0.050622</td>\n",
       "      <td>0.945677</td>\n",
       "      <td>...</td>\n",
       "      <td>0.0683</td>\n",
       "      <td>16.559731</td>\n",
       "      <td>16.49143</td>\n",
       "      <td>15.169022</td>\n",
       "      <td>302.94635</td>\n",
       "    </tr>\n",
       "  </tbody>\n",
       "</table>\n",
       "<p>15 rows × 243 columns</p>\n",
       "</div>"
      ],
      "text/plain": [
       "      Unnamed: 0  echonest echonest.1 echonest.2 echonest.3  ... echonest.244  \\\n",
       "13117     124818  0.092864    0.64608      0.772   0.569069  ...      0.06354   \n",
       "13118     124819  0.212196   0.691758   0.801736   0.426629  ...      0.06376   \n",
       "13119     124820  0.059584   0.702435   0.622037   0.099508  ...       0.0624   \n",
       "13120     124850  0.105487   0.690411   0.546009   0.266321  ...      0.06363   \n",
       "13121     124851  0.034877   0.641127   0.594074   0.478906  ...      0.06367   \n",
       "13122     124852  0.702553     0.7289   0.590636    0.41506  ...      0.06331   \n",
       "13123     124853  0.020307   0.689575   0.676306   0.891817  ...      0.06045   \n",
       "13124     124854  0.026545   0.667363   0.657399   0.364107  ...      0.06458   \n",
       "13125     124855  0.160281   0.604249   0.554242   0.728696  ...      0.06363   \n",
       "13126     124856  0.112268   0.581255   0.665963   0.853041  ...      0.06086   \n",
       "13127     124857  0.007592   0.790364   0.719288   0.853114  ...      0.06395   \n",
       "13128     124862  0.041498   0.843077   0.536496   0.865151  ...       0.0624   \n",
       "13129     124863  0.000124   0.609686   0.895136   0.846624  ...      0.06222   \n",
       "13130     124864  0.327576   0.574426   0.548327   0.452867  ...       0.0639   \n",
       "13131     124911  0.993606   0.499339   0.050622   0.945677  ...       0.0683   \n",
       "\n",
       "      echonest.245 echonest.246 echonest.247 echonest.248  \n",
       "13117      2.19379      2.13025     5.541705    56.199059  \n",
       "13118      1.20807      1.14431     2.036453      7.25809  \n",
       "13119      1.20707      1.14467     2.145525     6.819393  \n",
       "13120      0.80522      0.74159     0.567929      1.35165  \n",
       "13121      0.99778      0.93411     1.569256     6.007699  \n",
       "13122      1.06667      1.00336     2.174237    11.556788  \n",
       "13123      0.89438      0.83393     1.494897     7.501858  \n",
       "13124      2.84526      2.78068     7.680386    138.16658  \n",
       "13125      1.08476      1.02113     1.830207     7.012114  \n",
       "13126       3.4971      3.43624     7.827642   138.703949  \n",
       "13127      2.04073      1.97678     8.144532   147.040405  \n",
       "13128      0.92236      0.85996     1.794739     6.321268  \n",
       "13129      2.25116      2.18894     5.578341    89.180328  \n",
       "13130      1.48744      1.42354     2.173092    12.503966  \n",
       "13131    16.559731     16.49143    15.169022    302.94635  \n",
       "\n",
       "[15 rows x 243 columns]"
      ]
     },
     "execution_count": 18,
     "metadata": {},
     "output_type": "execute_result"
    }
   ],
   "source": [
    "echonest.tail(15)"
   ]
  },
  {
   "cell_type": "code",
   "execution_count": 19,
   "metadata": {},
   "outputs": [
    {
     "data": {
      "text/plain": [
       "<AxesSubplot:>"
      ]
     },
     "execution_count": 19,
     "metadata": {},
     "output_type": "execute_result"
    },
    {
     "data": {
      "image/png": "[encoded data removed]",
      "text/plain": [
       "<Figure size 1800x720 with 2 Axes>"
      ]
     },
     "metadata": {
      "needs_background": "light"
     },
     "output_type": "display_data"
    }
   ],
   "source": [
    "ms.matrix(echonest.iloc[:, 0:15])"
   ]
  },
  {
   "cell_type": "code",
   "execution_count": 20,
   "metadata": {},
   "outputs": [],
   "source": [
    "echonest.drop(['echonest.10', 'echonest.11', 'echonest.12'], axis=1, inplace=True)"
   ]
  },
  {
   "cell_type": "code",
   "execution_count": 21,
   "metadata": {},
   "outputs": [
    {
     "data": {
      "text/plain": [
       "<AxesSubplot:>"
      ]
     },
     "execution_count": 21,
     "metadata": {},
     "output_type": "execute_result"
    },
    {
     "data": {
      "image/png": "[encoded data removed]",
      "text/plain": [
       "<Figure size 1800x720 with 2 Axes>"
      ]
     },
     "metadata": {
      "needs_background": "light"
     },
     "output_type": "display_data"
    }
   ],
   "source": [
    "ms.matrix(echonest)"
   ]
  },
  {
   "cell_type": "code",
   "execution_count": 22,
   "metadata": {},
   "outputs": [
    {
     "data": {
      "text/html": [
       "<div>\n",
       "<style scoped>\n",
       "    .dataframe tbody tr th:only-of-type {\n",
       "        vertical-align: middle;\n",
       "    }\n",
       "\n",
       "    .dataframe tbody tr th {\n",
       "        vertical-align: top;\n",
       "    }\n",
       "\n",
       "    .dataframe thead th {\n",
       "        text-align: right;\n",
       "    }\n",
       "</style>\n",
       "<table border=\"1\" class=\"dataframe\">\n",
       "  <thead>\n",
       "    <tr style=\"text-align: right;\">\n",
       "      <th></th>\n",
       "      <th>Unnamed: 0</th>\n",
       "      <th>echonest</th>\n",
       "      <th>echonest.1</th>\n",
       "      <th>echonest.2</th>\n",
       "      <th>echonest.3</th>\n",
       "      <th>...</th>\n",
       "      <th>echonest.244</th>\n",
       "      <th>echonest.245</th>\n",
       "      <th>echonest.246</th>\n",
       "      <th>echonest.247</th>\n",
       "      <th>echonest.248</th>\n",
       "    </tr>\n",
       "  </thead>\n",
       "  <tbody>\n",
       "    <tr>\n",
       "      <th>0</th>\n",
       "      <td>NaN</td>\n",
       "      <td>audio_features</td>\n",
       "      <td>audio_features</td>\n",
       "      <td>audio_features</td>\n",
       "      <td>audio_features</td>\n",
       "      <td>...</td>\n",
       "      <td>temporal_features</td>\n",
       "      <td>temporal_features</td>\n",
       "      <td>temporal_features</td>\n",
       "      <td>temporal_features</td>\n",
       "      <td>temporal_features</td>\n",
       "    </tr>\n",
       "    <tr>\n",
       "      <th>1</th>\n",
       "      <td>NaN</td>\n",
       "      <td>acousticness</td>\n",
       "      <td>danceability</td>\n",
       "      <td>energy</td>\n",
       "      <td>instrumentalness</td>\n",
       "      <td>...</td>\n",
       "      <td>219</td>\n",
       "      <td>220</td>\n",
       "      <td>221</td>\n",
       "      <td>222</td>\n",
       "      <td>223</td>\n",
       "    </tr>\n",
       "    <tr>\n",
       "      <th>2</th>\n",
       "      <td>track_id</td>\n",
       "      <td>NaN</td>\n",
       "      <td>NaN</td>\n",
       "      <td>NaN</td>\n",
       "      <td>NaN</td>\n",
       "      <td>...</td>\n",
       "      <td>NaN</td>\n",
       "      <td>NaN</td>\n",
       "      <td>NaN</td>\n",
       "      <td>NaN</td>\n",
       "      <td>NaN</td>\n",
       "    </tr>\n",
       "    <tr>\n",
       "      <th>3</th>\n",
       "      <td>2</td>\n",
       "      <td>0.4166752327</td>\n",
       "      <td>0.6758939853</td>\n",
       "      <td>0.6344762684</td>\n",
       "      <td>0.0106280683</td>\n",
       "      <td>...</td>\n",
       "      <td>0.0640799999</td>\n",
       "      <td>3.6769599915</td>\n",
       "      <td>3.6128799915</td>\n",
       "      <td>13.3166904449</td>\n",
       "      <td>262.9297485352</td>\n",
       "    </tr>\n",
       "    <tr>\n",
       "      <th>4</th>\n",
       "      <td>3</td>\n",
       "      <td>0.3744077685</td>\n",
       "      <td>0.5286430621</td>\n",
       "      <td>0.8174611317</td>\n",
       "      <td>0.0018511032</td>\n",
       "      <td>...</td>\n",
       "      <td>0.0641300008</td>\n",
       "      <td>6.0827698708</td>\n",
       "      <td>6.0186400414</td>\n",
       "      <td>16.6735477448</td>\n",
       "      <td>325.5810852051</td>\n",
       "    </tr>\n",
       "    <tr>\n",
       "      <th>5</th>\n",
       "      <td>5</td>\n",
       "      <td>0.0435668989</td>\n",
       "      <td>0.7455658702</td>\n",
       "      <td>0.7014699916</td>\n",
       "      <td>0.0006967990</td>\n",
       "      <td>...</td>\n",
       "      <td>0.0601399988</td>\n",
       "      <td>5.9264898300</td>\n",
       "      <td>5.8663496971</td>\n",
       "      <td>16.0138492584</td>\n",
       "      <td>356.7557373047</td>\n",
       "    </tr>\n",
       "    <tr>\n",
       "      <th>6</th>\n",
       "      <td>10</td>\n",
       "      <td>0.9516699648</td>\n",
       "      <td>0.6581786543</td>\n",
       "      <td>0.9245251615</td>\n",
       "      <td>0.9654270154</td>\n",
       "      <td>...</td>\n",
       "      <td>0.0808200017</td>\n",
       "      <td>8.4140100479</td>\n",
       "      <td>8.3331899643</td>\n",
       "      <td>21.3170642853</td>\n",
       "      <td>483.4038085938</td>\n",
       "    </tr>\n",
       "    <tr>\n",
       "      <th>7</th>\n",
       "      <td>134</td>\n",
       "      <td>0.4522173071</td>\n",
       "      <td>0.5132380502</td>\n",
       "      <td>0.5604099311</td>\n",
       "      <td>0.0194426943</td>\n",
       "      <td>...</td>\n",
       "      <td>0.0644000024</td>\n",
       "      <td>11.2670698166</td>\n",
       "      <td>11.2026700974</td>\n",
       "      <td>26.4541797638</td>\n",
       "      <td>751.1477050781</td>\n",
       "    </tr>\n",
       "    <tr>\n",
       "      <th>8</th>\n",
       "      <td>139</td>\n",
       "      <td>0.1065495253</td>\n",
       "      <td>0.2609111726</td>\n",
       "      <td>0.6070668636</td>\n",
       "      <td>0.8350869898</td>\n",
       "      <td>...</td>\n",
       "      <td>0.0640399978</td>\n",
       "      <td>2.4366900921</td>\n",
       "      <td>2.3726501465</td>\n",
       "      <td>3.8970954418</td>\n",
       "      <td>37.8660430908</td>\n",
       "    </tr>\n",
       "    <tr>\n",
       "      <th>9</th>\n",
       "      <td>140</td>\n",
       "      <td>0.3763124975</td>\n",
       "      <td>0.7340790229</td>\n",
       "      <td>0.2656847734</td>\n",
       "      <td>0.6695811237</td>\n",
       "      <td>...</td>\n",
       "      <td>0.0753299966</td>\n",
       "      <td>9.8627195358</td>\n",
       "      <td>9.7873897552</td>\n",
       "      <td>21.9816207886</td>\n",
       "      <td>562.2294311523</td>\n",
       "    </tr>\n",
       "  </tbody>\n",
       "</table>\n",
       "<p>10 rows × 240 columns</p>\n",
       "</div>"
      ],
      "text/plain": [
       "  Unnamed: 0        echonest      echonest.1      echonest.2  \\\n",
       "0        NaN  audio_features  audio_features  audio_features   \n",
       "1        NaN    acousticness    danceability          energy   \n",
       "2   track_id             NaN             NaN             NaN   \n",
       "3          2    0.4166752327    0.6758939853    0.6344762684   \n",
       "4          3    0.3744077685    0.5286430621    0.8174611317   \n",
       "5          5    0.0435668989    0.7455658702    0.7014699916   \n",
       "6         10    0.9516699648    0.6581786543    0.9245251615   \n",
       "7        134    0.4522173071    0.5132380502    0.5604099311   \n",
       "8        139    0.1065495253    0.2609111726    0.6070668636   \n",
       "9        140    0.3763124975    0.7340790229    0.2656847734   \n",
       "\n",
       "         echonest.3  ...       echonest.244       echonest.245  \\\n",
       "0    audio_features  ...  temporal_features  temporal_features   \n",
       "1  instrumentalness  ...                219                220   \n",
       "2               NaN  ...                NaN                NaN   \n",
       "3      0.0106280683  ...       0.0640799999       3.6769599915   \n",
       "4      0.0018511032  ...       0.0641300008       6.0827698708   \n",
       "5      0.0006967990  ...       0.0601399988       5.9264898300   \n",
       "6      0.9654270154  ...       0.0808200017       8.4140100479   \n",
       "7      0.0194426943  ...       0.0644000024      11.2670698166   \n",
       "8      0.8350869898  ...       0.0640399978       2.4366900921   \n",
       "9      0.6695811237  ...       0.0753299966       9.8627195358   \n",
       "\n",
       "        echonest.246       echonest.247       echonest.248  \n",
       "0  temporal_features  temporal_features  temporal_features  \n",
       "1                221                222                223  \n",
       "2                NaN                NaN                NaN  \n",
       "3       3.6128799915      13.3166904449     262.9297485352  \n",
       "4       6.0186400414      16.6735477448     325.5810852051  \n",
       "5       5.8663496971      16.0138492584     356.7557373047  \n",
       "6       8.3331899643      21.3170642853     483.4038085938  \n",
       "7      11.2026700974      26.4541797638     751.1477050781  \n",
       "8       2.3726501465       3.8970954418      37.8660430908  \n",
       "9       9.7873897552      21.9816207886     562.2294311523  \n",
       "\n",
       "[10 rows x 240 columns]"
      ]
     },
     "execution_count": 22,
     "metadata": {},
     "output_type": "execute_result"
    }
   ],
   "source": [
    "echonest.head(10)"
   ]
  },
  {
   "cell_type": "code",
   "execution_count": 23,
   "metadata": {},
   "outputs": [],
   "source": [
    "echonest.drop(0, axis=0, inplace=True)"
   ]
  },
  {
   "cell_type": "code",
   "execution_count": 24,
   "metadata": {},
   "outputs": [
    {
     "data": {
      "text/plain": [
       "nan"
      ]
     },
     "execution_count": 24,
     "metadata": {},
     "output_type": "execute_result"
    }
   ],
   "source": [
    "echonest.iloc[0, 0]"
   ]
  },
  {
   "cell_type": "code",
   "execution_count": 25,
   "metadata": {},
   "outputs": [
    {
     "data": {
      "text/plain": [
       "'track_id'"
      ]
     },
     "execution_count": 25,
     "metadata": {},
     "output_type": "execute_result"
    }
   ],
   "source": [
    "echonest.iloc[1, 0]"
   ]
  },
  {
   "cell_type": "code",
   "execution_count": 26,
   "metadata": {},
   "outputs": [],
   "source": [
    "echonest.iloc[0, 0] = echonest.iloc[1, 0]"
   ]
  },
  {
   "cell_type": "code",
   "execution_count": 27,
   "metadata": {},
   "outputs": [
    {
     "data": {
      "text/html": [
       "<div>\n",
       "<style scoped>\n",
       "    .dataframe tbody tr th:only-of-type {\n",
       "        vertical-align: middle;\n",
       "    }\n",
       "\n",
       "    .dataframe tbody tr th {\n",
       "        vertical-align: top;\n",
       "    }\n",
       "\n",
       "    .dataframe thead th {\n",
       "        text-align: right;\n",
       "    }\n",
       "</style>\n",
       "<table border=\"1\" class=\"dataframe\">\n",
       "  <thead>\n",
       "    <tr style=\"text-align: right;\">\n",
       "      <th></th>\n",
       "      <th>Unnamed: 0</th>\n",
       "      <th>echonest</th>\n",
       "      <th>echonest.1</th>\n",
       "      <th>echonest.2</th>\n",
       "      <th>echonest.3</th>\n",
       "      <th>...</th>\n",
       "      <th>echonest.244</th>\n",
       "      <th>echonest.245</th>\n",
       "      <th>echonest.246</th>\n",
       "      <th>echonest.247</th>\n",
       "      <th>echonest.248</th>\n",
       "    </tr>\n",
       "  </thead>\n",
       "  <tbody>\n",
       "    <tr>\n",
       "      <th>1</th>\n",
       "      <td>track_id</td>\n",
       "      <td>acousticness</td>\n",
       "      <td>danceability</td>\n",
       "      <td>energy</td>\n",
       "      <td>instrumentalness</td>\n",
       "      <td>...</td>\n",
       "      <td>219</td>\n",
       "      <td>220</td>\n",
       "      <td>221</td>\n",
       "      <td>222</td>\n",
       "      <td>223</td>\n",
       "    </tr>\n",
       "    <tr>\n",
       "      <th>2</th>\n",
       "      <td>track_id</td>\n",
       "      <td>NaN</td>\n",
       "      <td>NaN</td>\n",
       "      <td>NaN</td>\n",
       "      <td>NaN</td>\n",
       "      <td>...</td>\n",
       "      <td>NaN</td>\n",
       "      <td>NaN</td>\n",
       "      <td>NaN</td>\n",
       "      <td>NaN</td>\n",
       "      <td>NaN</td>\n",
       "    </tr>\n",
       "    <tr>\n",
       "      <th>3</th>\n",
       "      <td>2</td>\n",
       "      <td>0.4166752327</td>\n",
       "      <td>0.6758939853</td>\n",
       "      <td>0.6344762684</td>\n",
       "      <td>0.0106280683</td>\n",
       "      <td>...</td>\n",
       "      <td>0.0640799999</td>\n",
       "      <td>3.6769599915</td>\n",
       "      <td>3.6128799915</td>\n",
       "      <td>13.3166904449</td>\n",
       "      <td>262.9297485352</td>\n",
       "    </tr>\n",
       "    <tr>\n",
       "      <th>4</th>\n",
       "      <td>3</td>\n",
       "      <td>0.3744077685</td>\n",
       "      <td>0.5286430621</td>\n",
       "      <td>0.8174611317</td>\n",
       "      <td>0.0018511032</td>\n",
       "      <td>...</td>\n",
       "      <td>0.0641300008</td>\n",
       "      <td>6.0827698708</td>\n",
       "      <td>6.0186400414</td>\n",
       "      <td>16.6735477448</td>\n",
       "      <td>325.5810852051</td>\n",
       "    </tr>\n",
       "    <tr>\n",
       "      <th>5</th>\n",
       "      <td>5</td>\n",
       "      <td>0.0435668989</td>\n",
       "      <td>0.7455658702</td>\n",
       "      <td>0.7014699916</td>\n",
       "      <td>0.0006967990</td>\n",
       "      <td>...</td>\n",
       "      <td>0.0601399988</td>\n",
       "      <td>5.9264898300</td>\n",
       "      <td>5.8663496971</td>\n",
       "      <td>16.0138492584</td>\n",
       "      <td>356.7557373047</td>\n",
       "    </tr>\n",
       "  </tbody>\n",
       "</table>\n",
       "<p>5 rows × 240 columns</p>\n",
       "</div>"
      ],
      "text/plain": [
       "  Unnamed: 0      echonest    echonest.1    echonest.2        echonest.3  ...  \\\n",
       "1   track_id  acousticness  danceability        energy  instrumentalness  ...   \n",
       "2   track_id           NaN           NaN           NaN               NaN  ...   \n",
       "3          2  0.4166752327  0.6758939853  0.6344762684      0.0106280683  ...   \n",
       "4          3  0.3744077685  0.5286430621  0.8174611317      0.0018511032  ...   \n",
       "5          5  0.0435668989  0.7455658702  0.7014699916      0.0006967990  ...   \n",
       "\n",
       "   echonest.244  echonest.245  echonest.246   echonest.247    echonest.248  \n",
       "1           219           220           221            222             223  \n",
       "2           NaN           NaN           NaN            NaN             NaN  \n",
       "3  0.0640799999  3.6769599915  3.6128799915  13.3166904449  262.9297485352  \n",
       "4  0.0641300008  6.0827698708  6.0186400414  16.6735477448  325.5810852051  \n",
       "5  0.0601399988  5.9264898300  5.8663496971  16.0138492584  356.7557373047  \n",
       "\n",
       "[5 rows x 240 columns]"
      ]
     },
     "execution_count": 27,
     "metadata": {},
     "output_type": "execute_result"
    }
   ],
   "source": [
    "echonest.head()"
   ]
  },
  {
   "cell_type": "code",
   "execution_count": 28,
   "metadata": {},
   "outputs": [],
   "source": [
    "echonest.drop(2, axis=0, inplace=True)"
   ]
  },
  {
   "cell_type": "code",
   "execution_count": 29,
   "metadata": {},
   "outputs": [],
   "source": [
    "echonest.columns = echonest.iloc[0]"
   ]
  },
  {
   "cell_type": "code",
   "execution_count": 30,
   "metadata": {},
   "outputs": [
    {
     "data": {
      "text/html": [
       "<div>\n",
       "<style scoped>\n",
       "    .dataframe tbody tr th:only-of-type {\n",
       "        vertical-align: middle;\n",
       "    }\n",
       "\n",
       "    .dataframe tbody tr th {\n",
       "        vertical-align: top;\n",
       "    }\n",
       "\n",
       "    .dataframe thead th {\n",
       "        text-align: right;\n",
       "    }\n",
       "</style>\n",
       "<table border=\"1\" class=\"dataframe\">\n",
       "  <thead>\n",
       "    <tr style=\"text-align: right;\">\n",
       "      <th>1</th>\n",
       "      <th>track_id</th>\n",
       "      <th>acousticness</th>\n",
       "      <th>danceability</th>\n",
       "      <th>energy</th>\n",
       "      <th>instrumentalness</th>\n",
       "      <th>...</th>\n",
       "      <th>219</th>\n",
       "      <th>220</th>\n",
       "      <th>221</th>\n",
       "      <th>222</th>\n",
       "      <th>223</th>\n",
       "    </tr>\n",
       "  </thead>\n",
       "  <tbody>\n",
       "    <tr>\n",
       "      <th>1</th>\n",
       "      <td>track_id</td>\n",
       "      <td>acousticness</td>\n",
       "      <td>danceability</td>\n",
       "      <td>energy</td>\n",
       "      <td>instrumentalness</td>\n",
       "      <td>...</td>\n",
       "      <td>219</td>\n",
       "      <td>220</td>\n",
       "      <td>221</td>\n",
       "      <td>222</td>\n",
       "      <td>223</td>\n",
       "    </tr>\n",
       "    <tr>\n",
       "      <th>3</th>\n",
       "      <td>2</td>\n",
       "      <td>0.4166752327</td>\n",
       "      <td>0.6758939853</td>\n",
       "      <td>0.6344762684</td>\n",
       "      <td>0.0106280683</td>\n",
       "      <td>...</td>\n",
       "      <td>0.0640799999</td>\n",
       "      <td>3.6769599915</td>\n",
       "      <td>3.6128799915</td>\n",
       "      <td>13.3166904449</td>\n",
       "      <td>262.9297485352</td>\n",
       "    </tr>\n",
       "    <tr>\n",
       "      <th>4</th>\n",
       "      <td>3</td>\n",
       "      <td>0.3744077685</td>\n",
       "      <td>0.5286430621</td>\n",
       "      <td>0.8174611317</td>\n",
       "      <td>0.0018511032</td>\n",
       "      <td>...</td>\n",
       "      <td>0.0641300008</td>\n",
       "      <td>6.0827698708</td>\n",
       "      <td>6.0186400414</td>\n",
       "      <td>16.6735477448</td>\n",
       "      <td>325.5810852051</td>\n",
       "    </tr>\n",
       "    <tr>\n",
       "      <th>5</th>\n",
       "      <td>5</td>\n",
       "      <td>0.0435668989</td>\n",
       "      <td>0.7455658702</td>\n",
       "      <td>0.7014699916</td>\n",
       "      <td>0.0006967990</td>\n",
       "      <td>...</td>\n",
       "      <td>0.0601399988</td>\n",
       "      <td>5.9264898300</td>\n",
       "      <td>5.8663496971</td>\n",
       "      <td>16.0138492584</td>\n",
       "      <td>356.7557373047</td>\n",
       "    </tr>\n",
       "    <tr>\n",
       "      <th>6</th>\n",
       "      <td>10</td>\n",
       "      <td>0.9516699648</td>\n",
       "      <td>0.6581786543</td>\n",
       "      <td>0.9245251615</td>\n",
       "      <td>0.9654270154</td>\n",
       "      <td>...</td>\n",
       "      <td>0.0808200017</td>\n",
       "      <td>8.4140100479</td>\n",
       "      <td>8.3331899643</td>\n",
       "      <td>21.3170642853</td>\n",
       "      <td>483.4038085938</td>\n",
       "    </tr>\n",
       "  </tbody>\n",
       "</table>\n",
       "<p>5 rows × 240 columns</p>\n",
       "</div>"
      ],
      "text/plain": [
       "1  track_id  acousticness  danceability        energy  instrumentalness  ...  \\\n",
       "1  track_id  acousticness  danceability        energy  instrumentalness  ...   \n",
       "3         2  0.4166752327  0.6758939853  0.6344762684      0.0106280683  ...   \n",
       "4         3  0.3744077685  0.5286430621  0.8174611317      0.0018511032  ...   \n",
       "5         5  0.0435668989  0.7455658702  0.7014699916      0.0006967990  ...   \n",
       "6        10  0.9516699648  0.6581786543  0.9245251615      0.9654270154  ...   \n",
       "\n",
       "1           219           220           221            222             223  \n",
       "1           219           220           221            222             223  \n",
       "3  0.0640799999  3.6769599915  3.6128799915  13.3166904449  262.9297485352  \n",
       "4  0.0641300008  6.0827698708  6.0186400414  16.6735477448  325.5810852051  \n",
       "5  0.0601399988  5.9264898300  5.8663496971  16.0138492584  356.7557373047  \n",
       "6  0.0808200017  8.4140100479  8.3331899643  21.3170642853  483.4038085938  \n",
       "\n",
       "[5 rows x 240 columns]"
      ]
     },
     "execution_count": 30,
     "metadata": {},
     "output_type": "execute_result"
    }
   ],
   "source": [
    "echonest.head()"
   ]
  },
  {
   "cell_type": "code",
   "execution_count": 31,
   "metadata": {},
   "outputs": [],
   "source": [
    "echonest.drop(1, axis=0, inplace=True)"
   ]
  },
  {
   "cell_type": "code",
   "execution_count": 32,
   "metadata": {},
   "outputs": [
    {
     "data": {
      "text/html": [
       "<div>\n",
       "<style scoped>\n",
       "    .dataframe tbody tr th:only-of-type {\n",
       "        vertical-align: middle;\n",
       "    }\n",
       "\n",
       "    .dataframe tbody tr th {\n",
       "        vertical-align: top;\n",
       "    }\n",
       "\n",
       "    .dataframe thead th {\n",
       "        text-align: right;\n",
       "    }\n",
       "</style>\n",
       "<table border=\"1\" class=\"dataframe\">\n",
       "  <thead>\n",
       "    <tr style=\"text-align: right;\">\n",
       "      <th>1</th>\n",
       "      <th>track_id</th>\n",
       "      <th>acousticness</th>\n",
       "      <th>danceability</th>\n",
       "      <th>energy</th>\n",
       "      <th>instrumentalness</th>\n",
       "      <th>...</th>\n",
       "      <th>219</th>\n",
       "      <th>220</th>\n",
       "      <th>221</th>\n",
       "      <th>222</th>\n",
       "      <th>223</th>\n",
       "    </tr>\n",
       "  </thead>\n",
       "  <tbody>\n",
       "    <tr>\n",
       "      <th>3</th>\n",
       "      <td>2</td>\n",
       "      <td>0.4166752327</td>\n",
       "      <td>0.6758939853</td>\n",
       "      <td>0.6344762684</td>\n",
       "      <td>0.0106280683</td>\n",
       "      <td>...</td>\n",
       "      <td>0.0640799999</td>\n",
       "      <td>3.6769599915</td>\n",
       "      <td>3.6128799915</td>\n",
       "      <td>13.3166904449</td>\n",
       "      <td>262.9297485352</td>\n",
       "    </tr>\n",
       "    <tr>\n",
       "      <th>4</th>\n",
       "      <td>3</td>\n",
       "      <td>0.3744077685</td>\n",
       "      <td>0.5286430621</td>\n",
       "      <td>0.8174611317</td>\n",
       "      <td>0.0018511032</td>\n",
       "      <td>...</td>\n",
       "      <td>0.0641300008</td>\n",
       "      <td>6.0827698708</td>\n",
       "      <td>6.0186400414</td>\n",
       "      <td>16.6735477448</td>\n",
       "      <td>325.5810852051</td>\n",
       "    </tr>\n",
       "    <tr>\n",
       "      <th>5</th>\n",
       "      <td>5</td>\n",
       "      <td>0.0435668989</td>\n",
       "      <td>0.7455658702</td>\n",
       "      <td>0.7014699916</td>\n",
       "      <td>0.0006967990</td>\n",
       "      <td>...</td>\n",
       "      <td>0.0601399988</td>\n",
       "      <td>5.9264898300</td>\n",
       "      <td>5.8663496971</td>\n",
       "      <td>16.0138492584</td>\n",
       "      <td>356.7557373047</td>\n",
       "    </tr>\n",
       "    <tr>\n",
       "      <th>6</th>\n",
       "      <td>10</td>\n",
       "      <td>0.9516699648</td>\n",
       "      <td>0.6581786543</td>\n",
       "      <td>0.9245251615</td>\n",
       "      <td>0.9654270154</td>\n",
       "      <td>...</td>\n",
       "      <td>0.0808200017</td>\n",
       "      <td>8.4140100479</td>\n",
       "      <td>8.3331899643</td>\n",
       "      <td>21.3170642853</td>\n",
       "      <td>483.4038085938</td>\n",
       "    </tr>\n",
       "    <tr>\n",
       "      <th>7</th>\n",
       "      <td>134</td>\n",
       "      <td>0.4522173071</td>\n",
       "      <td>0.5132380502</td>\n",
       "      <td>0.5604099311</td>\n",
       "      <td>0.0194426943</td>\n",
       "      <td>...</td>\n",
       "      <td>0.0644000024</td>\n",
       "      <td>11.2670698166</td>\n",
       "      <td>11.2026700974</td>\n",
       "      <td>26.4541797638</td>\n",
       "      <td>751.1477050781</td>\n",
       "    </tr>\n",
       "  </tbody>\n",
       "</table>\n",
       "<p>5 rows × 240 columns</p>\n",
       "</div>"
      ],
      "text/plain": [
       "1 track_id  acousticness  danceability        energy instrumentalness  ...  \\\n",
       "3        2  0.4166752327  0.6758939853  0.6344762684     0.0106280683  ...   \n",
       "4        3  0.3744077685  0.5286430621  0.8174611317     0.0018511032  ...   \n",
       "5        5  0.0435668989  0.7455658702  0.7014699916     0.0006967990  ...   \n",
       "6       10  0.9516699648  0.6581786543  0.9245251615     0.9654270154  ...   \n",
       "7      134  0.4522173071  0.5132380502  0.5604099311     0.0194426943  ...   \n",
       "\n",
       "1           219            220            221            222             223  \n",
       "3  0.0640799999   3.6769599915   3.6128799915  13.3166904449  262.9297485352  \n",
       "4  0.0641300008   6.0827698708   6.0186400414  16.6735477448  325.5810852051  \n",
       "5  0.0601399988   5.9264898300   5.8663496971  16.0138492584  356.7557373047  \n",
       "6  0.0808200017   8.4140100479   8.3331899643  21.3170642853  483.4038085938  \n",
       "7  0.0644000024  11.2670698166  11.2026700974  26.4541797638  751.1477050781  \n",
       "\n",
       "[5 rows x 240 columns]"
      ]
     },
     "execution_count": 32,
     "metadata": {},
     "output_type": "execute_result"
    }
   ],
   "source": [
    "echonest.head()"
   ]
  },
  {
   "cell_type": "code",
   "execution_count": 33,
   "metadata": {},
   "outputs": [],
   "source": [
    "echonest.reset_index(inplace=True)"
   ]
  },
  {
   "cell_type": "code",
   "execution_count": 34,
   "metadata": {},
   "outputs": [],
   "source": [
    "echonest.drop('index', inplace=True, axis=1)"
   ]
  },
  {
   "cell_type": "code",
   "execution_count": 35,
   "metadata": {},
   "outputs": [
    {
     "data": {
      "text/html": [
       "<div>\n",
       "<style scoped>\n",
       "    .dataframe tbody tr th:only-of-type {\n",
       "        vertical-align: middle;\n",
       "    }\n",
       "\n",
       "    .dataframe tbody tr th {\n",
       "        vertical-align: top;\n",
       "    }\n",
       "\n",
       "    .dataframe thead th {\n",
       "        text-align: right;\n",
       "    }\n",
       "</style>\n",
       "<table border=\"1\" class=\"dataframe\">\n",
       "  <thead>\n",
       "    <tr style=\"text-align: right;\">\n",
       "      <th>1</th>\n",
       "      <th>track_id</th>\n",
       "      <th>acousticness</th>\n",
       "      <th>danceability</th>\n",
       "      <th>energy</th>\n",
       "      <th>instrumentalness</th>\n",
       "      <th>...</th>\n",
       "      <th>219</th>\n",
       "      <th>220</th>\n",
       "      <th>221</th>\n",
       "      <th>222</th>\n",
       "      <th>223</th>\n",
       "    </tr>\n",
       "  </thead>\n",
       "  <tbody>\n",
       "    <tr>\n",
       "      <th>0</th>\n",
       "      <td>2</td>\n",
       "      <td>0.4166752327</td>\n",
       "      <td>0.6758939853</td>\n",
       "      <td>0.6344762684</td>\n",
       "      <td>0.0106280683</td>\n",
       "      <td>...</td>\n",
       "      <td>0.0640799999</td>\n",
       "      <td>3.6769599915</td>\n",
       "      <td>3.6128799915</td>\n",
       "      <td>13.3166904449</td>\n",
       "      <td>262.9297485352</td>\n",
       "    </tr>\n",
       "    <tr>\n",
       "      <th>1</th>\n",
       "      <td>3</td>\n",
       "      <td>0.3744077685</td>\n",
       "      <td>0.5286430621</td>\n",
       "      <td>0.8174611317</td>\n",
       "      <td>0.0018511032</td>\n",
       "      <td>...</td>\n",
       "      <td>0.0641300008</td>\n",
       "      <td>6.0827698708</td>\n",
       "      <td>6.0186400414</td>\n",
       "      <td>16.6735477448</td>\n",
       "      <td>325.5810852051</td>\n",
       "    </tr>\n",
       "    <tr>\n",
       "      <th>2</th>\n",
       "      <td>5</td>\n",
       "      <td>0.0435668989</td>\n",
       "      <td>0.7455658702</td>\n",
       "      <td>0.7014699916</td>\n",
       "      <td>0.0006967990</td>\n",
       "      <td>...</td>\n",
       "      <td>0.0601399988</td>\n",
       "      <td>5.9264898300</td>\n",
       "      <td>5.8663496971</td>\n",
       "      <td>16.0138492584</td>\n",
       "      <td>356.7557373047</td>\n",
       "    </tr>\n",
       "    <tr>\n",
       "      <th>3</th>\n",
       "      <td>10</td>\n",
       "      <td>0.9516699648</td>\n",
       "      <td>0.6581786543</td>\n",
       "      <td>0.9245251615</td>\n",
       "      <td>0.9654270154</td>\n",
       "      <td>...</td>\n",
       "      <td>0.0808200017</td>\n",
       "      <td>8.4140100479</td>\n",
       "      <td>8.3331899643</td>\n",
       "      <td>21.3170642853</td>\n",
       "      <td>483.4038085938</td>\n",
       "    </tr>\n",
       "    <tr>\n",
       "      <th>4</th>\n",
       "      <td>134</td>\n",
       "      <td>0.4522173071</td>\n",
       "      <td>0.5132380502</td>\n",
       "      <td>0.5604099311</td>\n",
       "      <td>0.0194426943</td>\n",
       "      <td>...</td>\n",
       "      <td>0.0644000024</td>\n",
       "      <td>11.2670698166</td>\n",
       "      <td>11.2026700974</td>\n",
       "      <td>26.4541797638</td>\n",
       "      <td>751.1477050781</td>\n",
       "    </tr>\n",
       "  </tbody>\n",
       "</table>\n",
       "<p>5 rows × 240 columns</p>\n",
       "</div>"
      ],
      "text/plain": [
       "1 track_id  acousticness  danceability        energy instrumentalness  ...  \\\n",
       "0        2  0.4166752327  0.6758939853  0.6344762684     0.0106280683  ...   \n",
       "1        3  0.3744077685  0.5286430621  0.8174611317     0.0018511032  ...   \n",
       "2        5  0.0435668989  0.7455658702  0.7014699916     0.0006967990  ...   \n",
       "3       10  0.9516699648  0.6581786543  0.9245251615     0.9654270154  ...   \n",
       "4      134  0.4522173071  0.5132380502  0.5604099311     0.0194426943  ...   \n",
       "\n",
       "1           219            220            221            222             223  \n",
       "0  0.0640799999   3.6769599915   3.6128799915  13.3166904449  262.9297485352  \n",
       "1  0.0641300008   6.0827698708   6.0186400414  16.6735477448  325.5810852051  \n",
       "2  0.0601399988   5.9264898300   5.8663496971  16.0138492584  356.7557373047  \n",
       "3  0.0808200017   8.4140100479   8.3331899643  21.3170642853  483.4038085938  \n",
       "4  0.0644000024  11.2670698166  11.2026700974  26.4541797638  751.1477050781  \n",
       "\n",
       "[5 rows x 240 columns]"
      ]
     },
     "execution_count": 35,
     "metadata": {},
     "output_type": "execute_result"
    }
   ],
   "source": [
    "echonest.head()"
   ]
  },
  {
   "cell_type": "code",
   "execution_count": 36,
   "metadata": {},
   "outputs": [
    {
     "data": {
      "text/plain": [
       "str"
      ]
     },
     "execution_count": 36,
     "metadata": {},
     "output_type": "execute_result"
    }
   ],
   "source": [
    "type(echonest['acousticness'][0])"
   ]
  },
  {
   "cell_type": "code",
   "execution_count": 37,
   "metadata": {},
   "outputs": [],
   "source": [
    "def convert_to_float(df, columns):\n",
    "    for i in columns:\n",
    "        df[i] = df[i].astype('float')\n",
    "    return df"
   ]
  },
  {
   "cell_type": "code",
   "execution_count": 38,
   "metadata": {},
   "outputs": [],
   "source": [
    "echonest = convert_to_float(echonest, set(echonest.columns) - set(['track_id', 'artist_name', 'release']))"
   ]
  },
  {
   "cell_type": "code",
   "execution_count": 39,
   "metadata": {},
   "outputs": [
    {
     "data": {
      "text/html": [
       "<div>\n",
       "<style scoped>\n",
       "    .dataframe tbody tr th:only-of-type {\n",
       "        vertical-align: middle;\n",
       "    }\n",
       "\n",
       "    .dataframe tbody tr th {\n",
       "        vertical-align: top;\n",
       "    }\n",
       "\n",
       "    .dataframe thead th {\n",
       "        text-align: right;\n",
       "    }\n",
       "</style>\n",
       "<table border=\"1\" class=\"dataframe\">\n",
       "  <thead>\n",
       "    <tr style=\"text-align: right;\">\n",
       "      <th>1</th>\n",
       "      <th>track_id</th>\n",
       "      <th>acousticness</th>\n",
       "      <th>danceability</th>\n",
       "      <th>energy</th>\n",
       "      <th>instrumentalness</th>\n",
       "      <th>...</th>\n",
       "      <th>219</th>\n",
       "      <th>220</th>\n",
       "      <th>221</th>\n",
       "      <th>222</th>\n",
       "      <th>223</th>\n",
       "    </tr>\n",
       "  </thead>\n",
       "  <tbody>\n",
       "    <tr>\n",
       "      <th>0</th>\n",
       "      <td>2</td>\n",
       "      <td>0.416675</td>\n",
       "      <td>0.675894</td>\n",
       "      <td>0.634476</td>\n",
       "      <td>0.010628</td>\n",
       "      <td>...</td>\n",
       "      <td>0.06408</td>\n",
       "      <td>3.67696</td>\n",
       "      <td>3.61288</td>\n",
       "      <td>13.316690</td>\n",
       "      <td>262.929749</td>\n",
       "    </tr>\n",
       "    <tr>\n",
       "      <th>1</th>\n",
       "      <td>3</td>\n",
       "      <td>0.374408</td>\n",
       "      <td>0.528643</td>\n",
       "      <td>0.817461</td>\n",
       "      <td>0.001851</td>\n",
       "      <td>...</td>\n",
       "      <td>0.06413</td>\n",
       "      <td>6.08277</td>\n",
       "      <td>6.01864</td>\n",
       "      <td>16.673548</td>\n",
       "      <td>325.581085</td>\n",
       "    </tr>\n",
       "    <tr>\n",
       "      <th>2</th>\n",
       "      <td>5</td>\n",
       "      <td>0.043567</td>\n",
       "      <td>0.745566</td>\n",
       "      <td>0.701470</td>\n",
       "      <td>0.000697</td>\n",
       "      <td>...</td>\n",
       "      <td>0.06014</td>\n",
       "      <td>5.92649</td>\n",
       "      <td>5.86635</td>\n",
       "      <td>16.013849</td>\n",
       "      <td>356.755737</td>\n",
       "    </tr>\n",
       "    <tr>\n",
       "      <th>3</th>\n",
       "      <td>10</td>\n",
       "      <td>0.951670</td>\n",
       "      <td>0.658179</td>\n",
       "      <td>0.924525</td>\n",
       "      <td>0.965427</td>\n",
       "      <td>...</td>\n",
       "      <td>0.08082</td>\n",
       "      <td>8.41401</td>\n",
       "      <td>8.33319</td>\n",
       "      <td>21.317064</td>\n",
       "      <td>483.403809</td>\n",
       "    </tr>\n",
       "    <tr>\n",
       "      <th>4</th>\n",
       "      <td>134</td>\n",
       "      <td>0.452217</td>\n",
       "      <td>0.513238</td>\n",
       "      <td>0.560410</td>\n",
       "      <td>0.019443</td>\n",
       "      <td>...</td>\n",
       "      <td>0.06440</td>\n",
       "      <td>11.26707</td>\n",
       "      <td>11.20267</td>\n",
       "      <td>26.454180</td>\n",
       "      <td>751.147705</td>\n",
       "    </tr>\n",
       "  </tbody>\n",
       "</table>\n",
       "<p>5 rows × 240 columns</p>\n",
       "</div>"
      ],
      "text/plain": [
       "1 track_id  acousticness  danceability    energy  instrumentalness  ...  \\\n",
       "0        2      0.416675      0.675894  0.634476          0.010628  ...   \n",
       "1        3      0.374408      0.528643  0.817461          0.001851  ...   \n",
       "2        5      0.043567      0.745566  0.701470          0.000697  ...   \n",
       "3       10      0.951670      0.658179  0.924525          0.965427  ...   \n",
       "4      134      0.452217      0.513238  0.560410          0.019443  ...   \n",
       "\n",
       "1      219       220       221        222         223  \n",
       "0  0.06408   3.67696   3.61288  13.316690  262.929749  \n",
       "1  0.06413   6.08277   6.01864  16.673548  325.581085  \n",
       "2  0.06014   5.92649   5.86635  16.013849  356.755737  \n",
       "3  0.08082   8.41401   8.33319  21.317064  483.403809  \n",
       "4  0.06440  11.26707  11.20267  26.454180  751.147705  \n",
       "\n",
       "[5 rows x 240 columns]"
      ]
     },
     "execution_count": 39,
     "metadata": {},
     "output_type": "execute_result"
    }
   ],
   "source": [
    "echonest.head()"
   ]
  },
  {
   "cell_type": "code",
   "execution_count": 40,
   "metadata": {},
   "outputs": [
    {
     "name": "stdout",
     "output_type": "stream",
     "text": [
      "<class 'pandas.core.frame.DataFrame'>\n",
      "RangeIndex: 13129 entries, 0 to 13128\n",
      "Columns: 240 entries, track_id to 223\n",
      "dtypes: float64(237), object(3)\n",
      "memory usage: 24.0+ MB\n"
     ]
    }
   ],
   "source": [
    "echonest.info()"
   ]
  },
  {
   "cell_type": "markdown",
   "metadata": {},
   "source": [
    "### Working with 'Features' dataset"
   ]
  },
  {
   "cell_type": "markdown",
   "metadata": {},
   "source": [
    "#### Analysing Data"
   ]
  },
  {
   "cell_type": "code",
   "execution_count": 41,
   "metadata": {},
   "outputs": [
    {
     "name": "stdout",
     "output_type": "stream",
     "text": [
      "<class 'pandas.core.frame.DataFrame'>\n",
      "RangeIndex: 106577 entries, 0 to 106576\n",
      "Columns: 519 entries, feature to zcr.6\n",
      "dtypes: object(519)\n",
      "memory usage: 422.0+ MB\n"
     ]
    }
   ],
   "source": [
    "features.info()"
   ]
  },
  {
   "cell_type": "code",
   "execution_count": 42,
   "metadata": {},
   "outputs": [
    {
     "data": {
      "text/html": [
       "<div>\n",
       "<style scoped>\n",
       "    .dataframe tbody tr th:only-of-type {\n",
       "        vertical-align: middle;\n",
       "    }\n",
       "\n",
       "    .dataframe tbody tr th {\n",
       "        vertical-align: top;\n",
       "    }\n",
       "\n",
       "    .dataframe thead th {\n",
       "        text-align: right;\n",
       "    }\n",
       "</style>\n",
       "<table border=\"1\" class=\"dataframe\">\n",
       "  <thead>\n",
       "    <tr style=\"text-align: right;\">\n",
       "      <th></th>\n",
       "      <th>feature</th>\n",
       "      <th>chroma_cens</th>\n",
       "      <th>chroma_cens.1</th>\n",
       "      <th>chroma_cens.2</th>\n",
       "      <th>chroma_cens.3</th>\n",
       "      <th>...</th>\n",
       "      <th>zcr.2</th>\n",
       "      <th>zcr.3</th>\n",
       "      <th>zcr.4</th>\n",
       "      <th>zcr.5</th>\n",
       "      <th>zcr.6</th>\n",
       "    </tr>\n",
       "  </thead>\n",
       "  <tbody>\n",
       "    <tr>\n",
       "      <th>0</th>\n",
       "      <td>statistics</td>\n",
       "      <td>kurtosis</td>\n",
       "      <td>kurtosis</td>\n",
       "      <td>kurtosis</td>\n",
       "      <td>kurtosis</td>\n",
       "      <td>...</td>\n",
       "      <td>mean</td>\n",
       "      <td>median</td>\n",
       "      <td>min</td>\n",
       "      <td>skew</td>\n",
       "      <td>std</td>\n",
       "    </tr>\n",
       "    <tr>\n",
       "      <th>1</th>\n",
       "      <td>number</td>\n",
       "      <td>01</td>\n",
       "      <td>02</td>\n",
       "      <td>03</td>\n",
       "      <td>04</td>\n",
       "      <td>...</td>\n",
       "      <td>01</td>\n",
       "      <td>01</td>\n",
       "      <td>01</td>\n",
       "      <td>01</td>\n",
       "      <td>01</td>\n",
       "    </tr>\n",
       "    <tr>\n",
       "      <th>2</th>\n",
       "      <td>track_id</td>\n",
       "      <td>NaN</td>\n",
       "      <td>NaN</td>\n",
       "      <td>NaN</td>\n",
       "      <td>NaN</td>\n",
       "      <td>...</td>\n",
       "      <td>NaN</td>\n",
       "      <td>NaN</td>\n",
       "      <td>NaN</td>\n",
       "      <td>NaN</td>\n",
       "      <td>NaN</td>\n",
       "    </tr>\n",
       "    <tr>\n",
       "      <th>3</th>\n",
       "      <td>2</td>\n",
       "      <td>7.1806526184e+00</td>\n",
       "      <td>5.2303090096e+00</td>\n",
       "      <td>2.4932080507e-01</td>\n",
       "      <td>1.3476201296e+00</td>\n",
       "      <td>...</td>\n",
       "      <td>8.5629448295e-02</td>\n",
       "      <td>7.1289062500e-02</td>\n",
       "      <td>0.0000000000e+00</td>\n",
       "      <td>2.0898721218e+00</td>\n",
       "      <td>6.1448108405e-02</td>\n",
       "    </tr>\n",
       "    <tr>\n",
       "      <th>4</th>\n",
       "      <td>3</td>\n",
       "      <td>1.8889633417e+00</td>\n",
       "      <td>7.6053929329e-01</td>\n",
       "      <td>3.4529656172e-01</td>\n",
       "      <td>2.2952005863e+00</td>\n",
       "      <td>...</td>\n",
       "      <td>8.4578499198e-02</td>\n",
       "      <td>6.3964843750e-02</td>\n",
       "      <td>0.0000000000e+00</td>\n",
       "      <td>1.7167237997e+00</td>\n",
       "      <td>6.9330163300e-02</td>\n",
       "    </tr>\n",
       "    <tr>\n",
       "      <th>5</th>\n",
       "      <td>5</td>\n",
       "      <td>5.2756297588e-01</td>\n",
       "      <td>-7.7654317021e-02</td>\n",
       "      <td>-2.7961030602e-01</td>\n",
       "      <td>6.8588310480e-01</td>\n",
       "      <td>...</td>\n",
       "      <td>5.3114086390e-02</td>\n",
       "      <td>4.1503906250e-02</td>\n",
       "      <td>0.0000000000e+00</td>\n",
       "      <td>2.1933031082e+00</td>\n",
       "      <td>4.4860601425e-02</td>\n",
       "    </tr>\n",
       "    <tr>\n",
       "      <th>6</th>\n",
       "      <td>10</td>\n",
       "      <td>3.7022454739e+00</td>\n",
       "      <td>-2.9119303823e-01</td>\n",
       "      <td>2.1967420578e+00</td>\n",
       "      <td>-2.3444947600e-01</td>\n",
       "      <td>...</td>\n",
       "      <td>7.7514506876e-02</td>\n",
       "      <td>7.1777343750e-02</td>\n",
       "      <td>0.0000000000e+00</td>\n",
       "      <td>3.5423245430e+00</td>\n",
       "      <td>4.0800448507e-02</td>\n",
       "    </tr>\n",
       "    <tr>\n",
       "      <th>7</th>\n",
       "      <td>20</td>\n",
       "      <td>-1.9383698702e-01</td>\n",
       "      <td>-1.9852678478e-01</td>\n",
       "      <td>2.0154602826e-01</td>\n",
       "      <td>2.5855624676e-01</td>\n",
       "      <td>...</td>\n",
       "      <td>4.7224905342e-02</td>\n",
       "      <td>4.0039062500e-02</td>\n",
       "      <td>9.7656250000e-04</td>\n",
       "      <td>3.1898307800e+00</td>\n",
       "      <td>3.0992921442e-02</td>\n",
       "    </tr>\n",
       "    <tr>\n",
       "      <th>8</th>\n",
       "      <td>26</td>\n",
       "      <td>-6.9953453541e-01</td>\n",
       "      <td>-6.8415790796e-01</td>\n",
       "      <td>4.8824872822e-02</td>\n",
       "      <td>4.2658798397e-02</td>\n",
       "      <td>...</td>\n",
       "      <td>1.8387714401e-02</td>\n",
       "      <td>1.5625000000e-02</td>\n",
       "      <td>0.0000000000e+00</td>\n",
       "      <td>4.6905956268e+00</td>\n",
       "      <td>1.4598459937e-02</td>\n",
       "    </tr>\n",
       "    <tr>\n",
       "      <th>9</th>\n",
       "      <td>30</td>\n",
       "      <td>-7.2148716450e-01</td>\n",
       "      <td>-8.4855991602e-01</td>\n",
       "      <td>8.9090377092e-01</td>\n",
       "      <td>8.8619679213e-02</td>\n",
       "      <td>...</td>\n",
       "      <td>5.4416511208e-02</td>\n",
       "      <td>3.6132812500e-02</td>\n",
       "      <td>2.4414062500e-03</td>\n",
       "      <td>2.2447082996e+00</td>\n",
       "      <td>5.2673552185e-02</td>\n",
       "    </tr>\n",
       "  </tbody>\n",
       "</table>\n",
       "<p>10 rows × 519 columns</p>\n",
       "</div>"
      ],
      "text/plain": [
       "      feature        chroma_cens      chroma_cens.1      chroma_cens.2  \\\n",
       "0  statistics           kurtosis           kurtosis           kurtosis   \n",
       "1      number                 01                 02                 03   \n",
       "2    track_id                NaN                NaN                NaN   \n",
       "3           2   7.1806526184e+00   5.2303090096e+00   2.4932080507e-01   \n",
       "4           3   1.8889633417e+00   7.6053929329e-01   3.4529656172e-01   \n",
       "5           5   5.2756297588e-01  -7.7654317021e-02  -2.7961030602e-01   \n",
       "6          10   3.7022454739e+00  -2.9119303823e-01   2.1967420578e+00   \n",
       "7          20  -1.9383698702e-01  -1.9852678478e-01   2.0154602826e-01   \n",
       "8          26  -6.9953453541e-01  -6.8415790796e-01   4.8824872822e-02   \n",
       "9          30  -7.2148716450e-01  -8.4855991602e-01   8.9090377092e-01   \n",
       "\n",
       "       chroma_cens.3  ...             zcr.2             zcr.3  \\\n",
       "0           kurtosis  ...              mean            median   \n",
       "1                 04  ...                01                01   \n",
       "2                NaN  ...               NaN               NaN   \n",
       "3   1.3476201296e+00  ...  8.5629448295e-02  7.1289062500e-02   \n",
       "4   2.2952005863e+00  ...  8.4578499198e-02  6.3964843750e-02   \n",
       "5   6.8588310480e-01  ...  5.3114086390e-02  4.1503906250e-02   \n",
       "6  -2.3444947600e-01  ...  7.7514506876e-02  7.1777343750e-02   \n",
       "7   2.5855624676e-01  ...  4.7224905342e-02  4.0039062500e-02   \n",
       "8   4.2658798397e-02  ...  1.8387714401e-02  1.5625000000e-02   \n",
       "9   8.8619679213e-02  ...  5.4416511208e-02  3.6132812500e-02   \n",
       "\n",
       "              zcr.4             zcr.5             zcr.6  \n",
       "0               min              skew               std  \n",
       "1                01                01                01  \n",
       "2               NaN               NaN               NaN  \n",
       "3  0.0000000000e+00  2.0898721218e+00  6.1448108405e-02  \n",
       "4  0.0000000000e+00  1.7167237997e+00  6.9330163300e-02  \n",
       "5  0.0000000000e+00  2.1933031082e+00  4.4860601425e-02  \n",
       "6  0.0000000000e+00  3.5423245430e+00  4.0800448507e-02  \n",
       "7  9.7656250000e-04  3.1898307800e+00  3.0992921442e-02  \n",
       "8  0.0000000000e+00  4.6905956268e+00  1.4598459937e-02  \n",
       "9  2.4414062500e-03  2.2447082996e+00  5.2673552185e-02  \n",
       "\n",
       "[10 rows x 519 columns]"
      ]
     },
     "execution_count": 42,
     "metadata": {},
     "output_type": "execute_result"
    }
   ],
   "source": [
    "features.head(10)"
   ]
  },
  {
   "cell_type": "code",
   "execution_count": 43,
   "metadata": {},
   "outputs": [
    {
     "data": {
      "text/plain": [
       "<AxesSubplot:>"
      ]
     },
     "execution_count": 43,
     "metadata": {},
     "output_type": "execute_result"
    },
    {
     "data": {
      "image/png": "[encoded data removed]",
      "text/plain": [
       "<Figure size 1800x720 with 2 Axes>"
      ]
     },
     "metadata": {
      "needs_background": "light"
     },
     "output_type": "display_data"
    }
   ],
   "source": [
    "ms.matrix(features.iloc[:, 21:40])"
   ]
  },
  {
   "cell_type": "markdown",
   "metadata": {},
   "source": [
    "#### Feature Engineering"
   ]
  },
  {
   "cell_type": "code",
   "execution_count": 44,
   "metadata": {},
   "outputs": [],
   "source": [
    "features.iloc[0,0] = features.iloc[2, 0]"
   ]
  },
  {
   "cell_type": "code",
   "execution_count": 45,
   "metadata": {},
   "outputs": [
    {
     "data": {
      "text/html": [
       "<div>\n",
       "<style scoped>\n",
       "    .dataframe tbody tr th:only-of-type {\n",
       "        vertical-align: middle;\n",
       "    }\n",
       "\n",
       "    .dataframe tbody tr th {\n",
       "        vertical-align: top;\n",
       "    }\n",
       "\n",
       "    .dataframe thead th {\n",
       "        text-align: right;\n",
       "    }\n",
       "</style>\n",
       "<table border=\"1\" class=\"dataframe\">\n",
       "  <thead>\n",
       "    <tr style=\"text-align: right;\">\n",
       "      <th></th>\n",
       "      <th>feature</th>\n",
       "      <th>chroma_cens</th>\n",
       "      <th>chroma_cens.1</th>\n",
       "      <th>chroma_cens.2</th>\n",
       "      <th>chroma_cens.3</th>\n",
       "      <th>...</th>\n",
       "      <th>zcr.2</th>\n",
       "      <th>zcr.3</th>\n",
       "      <th>zcr.4</th>\n",
       "      <th>zcr.5</th>\n",
       "      <th>zcr.6</th>\n",
       "    </tr>\n",
       "  </thead>\n",
       "  <tbody>\n",
       "    <tr>\n",
       "      <th>0</th>\n",
       "      <td>track_id</td>\n",
       "      <td>kurtosis</td>\n",
       "      <td>kurtosis</td>\n",
       "      <td>kurtosis</td>\n",
       "      <td>kurtosis</td>\n",
       "      <td>...</td>\n",
       "      <td>mean</td>\n",
       "      <td>median</td>\n",
       "      <td>min</td>\n",
       "      <td>skew</td>\n",
       "      <td>std</td>\n",
       "    </tr>\n",
       "    <tr>\n",
       "      <th>1</th>\n",
       "      <td>number</td>\n",
       "      <td>01</td>\n",
       "      <td>02</td>\n",
       "      <td>03</td>\n",
       "      <td>04</td>\n",
       "      <td>...</td>\n",
       "      <td>01</td>\n",
       "      <td>01</td>\n",
       "      <td>01</td>\n",
       "      <td>01</td>\n",
       "      <td>01</td>\n",
       "    </tr>\n",
       "    <tr>\n",
       "      <th>2</th>\n",
       "      <td>track_id</td>\n",
       "      <td>NaN</td>\n",
       "      <td>NaN</td>\n",
       "      <td>NaN</td>\n",
       "      <td>NaN</td>\n",
       "      <td>...</td>\n",
       "      <td>NaN</td>\n",
       "      <td>NaN</td>\n",
       "      <td>NaN</td>\n",
       "      <td>NaN</td>\n",
       "      <td>NaN</td>\n",
       "    </tr>\n",
       "  </tbody>\n",
       "</table>\n",
       "<p>3 rows × 519 columns</p>\n",
       "</div>"
      ],
      "text/plain": [
       "    feature chroma_cens chroma_cens.1 chroma_cens.2 chroma_cens.3  ... zcr.2  \\\n",
       "0  track_id    kurtosis      kurtosis      kurtosis      kurtosis  ...  mean   \n",
       "1    number          01            02            03            04  ...    01   \n",
       "2  track_id         NaN           NaN           NaN           NaN  ...   NaN   \n",
       "\n",
       "    zcr.3 zcr.4 zcr.5 zcr.6  \n",
       "0  median   min  skew   std  \n",
       "1      01    01    01    01  \n",
       "2     NaN   NaN   NaN   NaN  \n",
       "\n",
       "[3 rows x 519 columns]"
      ]
     },
     "execution_count": 45,
     "metadata": {},
     "output_type": "execute_result"
    }
   ],
   "source": [
    "features.head(3)"
   ]
  },
  {
   "cell_type": "code",
   "execution_count": 46,
   "metadata": {},
   "outputs": [],
   "source": [
    "features.drop(2, inplace=True)"
   ]
  },
  {
   "cell_type": "code",
   "execution_count": 47,
   "metadata": {},
   "outputs": [
    {
     "data": {
      "text/plain": [
       "519"
      ]
     },
     "execution_count": 47,
     "metadata": {},
     "output_type": "execute_result"
    }
   ],
   "source": [
    "len(features.columns)"
   ]
  },
  {
   "cell_type": "code",
   "execution_count": 48,
   "metadata": {},
   "outputs": [
    {
     "data": {
      "text/plain": [
       "519"
      ]
     },
     "execution_count": 48,
     "metadata": {},
     "output_type": "execute_result"
    }
   ],
   "source": [
    "len(features.iloc[0])"
   ]
  },
  {
   "cell_type": "code",
   "execution_count": 49,
   "metadata": {},
   "outputs": [],
   "source": [
    "def combine_two_rows(df):\n",
    "    columns = list(df.columns)\n",
    "    for i in range(0, 519):\n",
    "        columns[i] = columns[i] + \" \" + df.iloc[0, i]\n",
    "    return columns"
   ]
  },
  {
   "cell_type": "code",
   "execution_count": 50,
   "metadata": {},
   "outputs": [],
   "source": [
    "features.columns = combine_two_rows(features)"
   ]
  },
  {
   "cell_type": "code",
   "execution_count": 51,
   "metadata": {},
   "outputs": [],
   "source": [
    "features.drop([0, 1], inplace=True)"
   ]
  },
  {
   "cell_type": "code",
   "execution_count": 52,
   "metadata": {},
   "outputs": [],
   "source": [
    "features.reset_index(inplace=True)"
   ]
  },
  {
   "cell_type": "code",
   "execution_count": 53,
   "metadata": {},
   "outputs": [],
   "source": [
    "features.drop('index', axis=1, inplace=True)"
   ]
  },
  {
   "cell_type": "code",
   "execution_count": 54,
   "metadata": {},
   "outputs": [
    {
     "data": {
      "text/html": [
       "<div>\n",
       "<style scoped>\n",
       "    .dataframe tbody tr th:only-of-type {\n",
       "        vertical-align: middle;\n",
       "    }\n",
       "\n",
       "    .dataframe tbody tr th {\n",
       "        vertical-align: top;\n",
       "    }\n",
       "\n",
       "    .dataframe thead th {\n",
       "        text-align: right;\n",
       "    }\n",
       "</style>\n",
       "<table border=\"1\" class=\"dataframe\">\n",
       "  <thead>\n",
       "    <tr style=\"text-align: right;\">\n",
       "      <th></th>\n",
       "      <th>feature track_id</th>\n",
       "      <th>chroma_cens kurtosis</th>\n",
       "      <th>chroma_cens.1 kurtosis</th>\n",
       "      <th>chroma_cens.2 kurtosis</th>\n",
       "      <th>chroma_cens.3 kurtosis</th>\n",
       "      <th>...</th>\n",
       "      <th>zcr.2 mean</th>\n",
       "      <th>zcr.3 median</th>\n",
       "      <th>zcr.4 min</th>\n",
       "      <th>zcr.5 skew</th>\n",
       "      <th>zcr.6 std</th>\n",
       "    </tr>\n",
       "  </thead>\n",
       "  <tbody>\n",
       "    <tr>\n",
       "      <th>0</th>\n",
       "      <td>2</td>\n",
       "      <td>7.1806526184e+00</td>\n",
       "      <td>5.2303090096e+00</td>\n",
       "      <td>2.4932080507e-01</td>\n",
       "      <td>1.3476201296e+00</td>\n",
       "      <td>...</td>\n",
       "      <td>8.5629448295e-02</td>\n",
       "      <td>7.1289062500e-02</td>\n",
       "      <td>0.0000000000e+00</td>\n",
       "      <td>2.0898721218e+00</td>\n",
       "      <td>6.1448108405e-02</td>\n",
       "    </tr>\n",
       "    <tr>\n",
       "      <th>1</th>\n",
       "      <td>3</td>\n",
       "      <td>1.8889633417e+00</td>\n",
       "      <td>7.6053929329e-01</td>\n",
       "      <td>3.4529656172e-01</td>\n",
       "      <td>2.2952005863e+00</td>\n",
       "      <td>...</td>\n",
       "      <td>8.4578499198e-02</td>\n",
       "      <td>6.3964843750e-02</td>\n",
       "      <td>0.0000000000e+00</td>\n",
       "      <td>1.7167237997e+00</td>\n",
       "      <td>6.9330163300e-02</td>\n",
       "    </tr>\n",
       "    <tr>\n",
       "      <th>2</th>\n",
       "      <td>5</td>\n",
       "      <td>5.2756297588e-01</td>\n",
       "      <td>-7.7654317021e-02</td>\n",
       "      <td>-2.7961030602e-01</td>\n",
       "      <td>6.8588310480e-01</td>\n",
       "      <td>...</td>\n",
       "      <td>5.3114086390e-02</td>\n",
       "      <td>4.1503906250e-02</td>\n",
       "      <td>0.0000000000e+00</td>\n",
       "      <td>2.1933031082e+00</td>\n",
       "      <td>4.4860601425e-02</td>\n",
       "    </tr>\n",
       "    <tr>\n",
       "      <th>3</th>\n",
       "      <td>10</td>\n",
       "      <td>3.7022454739e+00</td>\n",
       "      <td>-2.9119303823e-01</td>\n",
       "      <td>2.1967420578e+00</td>\n",
       "      <td>-2.3444947600e-01</td>\n",
       "      <td>...</td>\n",
       "      <td>7.7514506876e-02</td>\n",
       "      <td>7.1777343750e-02</td>\n",
       "      <td>0.0000000000e+00</td>\n",
       "      <td>3.5423245430e+00</td>\n",
       "      <td>4.0800448507e-02</td>\n",
       "    </tr>\n",
       "    <tr>\n",
       "      <th>4</th>\n",
       "      <td>20</td>\n",
       "      <td>-1.9383698702e-01</td>\n",
       "      <td>-1.9852678478e-01</td>\n",
       "      <td>2.0154602826e-01</td>\n",
       "      <td>2.5855624676e-01</td>\n",
       "      <td>...</td>\n",
       "      <td>4.7224905342e-02</td>\n",
       "      <td>4.0039062500e-02</td>\n",
       "      <td>9.7656250000e-04</td>\n",
       "      <td>3.1898307800e+00</td>\n",
       "      <td>3.0992921442e-02</td>\n",
       "    </tr>\n",
       "  </tbody>\n",
       "</table>\n",
       "<p>5 rows × 519 columns</p>\n",
       "</div>"
      ],
      "text/plain": [
       "  feature track_id chroma_cens kurtosis chroma_cens.1 kurtosis  \\\n",
       "0                2     7.1806526184e+00       5.2303090096e+00   \n",
       "1                3     1.8889633417e+00       7.6053929329e-01   \n",
       "2                5     5.2756297588e-01      -7.7654317021e-02   \n",
       "3               10     3.7022454739e+00      -2.9119303823e-01   \n",
       "4               20    -1.9383698702e-01      -1.9852678478e-01   \n",
       "\n",
       "  chroma_cens.2 kurtosis chroma_cens.3 kurtosis  ...        zcr.2 mean  \\\n",
       "0       2.4932080507e-01       1.3476201296e+00  ...  8.5629448295e-02   \n",
       "1       3.4529656172e-01       2.2952005863e+00  ...  8.4578499198e-02   \n",
       "2      -2.7961030602e-01       6.8588310480e-01  ...  5.3114086390e-02   \n",
       "3       2.1967420578e+00      -2.3444947600e-01  ...  7.7514506876e-02   \n",
       "4       2.0154602826e-01       2.5855624676e-01  ...  4.7224905342e-02   \n",
       "\n",
       "       zcr.3 median         zcr.4 min        zcr.5 skew         zcr.6 std  \n",
       "0  7.1289062500e-02  0.0000000000e+00  2.0898721218e+00  6.1448108405e-02  \n",
       "1  6.3964843750e-02  0.0000000000e+00  1.7167237997e+00  6.9330163300e-02  \n",
       "2  4.1503906250e-02  0.0000000000e+00  2.1933031082e+00  4.4860601425e-02  \n",
       "3  7.1777343750e-02  0.0000000000e+00  3.5423245430e+00  4.0800448507e-02  \n",
       "4  4.0039062500e-02  9.7656250000e-04  3.1898307800e+00  3.0992921442e-02  \n",
       "\n",
       "[5 rows x 519 columns]"
      ]
     },
     "execution_count": 54,
     "metadata": {},
     "output_type": "execute_result"
    }
   ],
   "source": [
    "features.head()"
   ]
  },
  {
   "cell_type": "code",
   "execution_count": 55,
   "metadata": {},
   "outputs": [],
   "source": [
    "features = features.astype(dtype='float')\n",
    "features['feature track_id'] = features['feature track_id'].astype('int')"
   ]
  },
  {
   "cell_type": "code",
   "execution_count": null,
   "metadata": {},
   "outputs": [],
   "source": [
    "ms.matrix(features)"
   ]
  },
  {
   "cell_type": "code",
   "execution_count": null,
   "metadata": {},
   "outputs": [],
   "source": [
    "features.head(3)"
   ]
  },
  {
   "cell_type": "markdown",
   "metadata": {},
   "source": [
    "### Working with 'Tracks' dataset"
   ]
  },
  {
   "cell_type": "markdown",
   "metadata": {},
   "source": [
    "#### Analysing Data"
   ]
  },
  {
   "cell_type": "code",
   "execution_count": null,
   "metadata": {},
   "outputs": [],
   "source": [
    "tracks.info()"
   ]
  },
  {
   "cell_type": "code",
   "execution_count": null,
   "metadata": {},
   "outputs": [],
   "source": [
    "tracks.head()"
   ]
  },
  {
   "cell_type": "code",
   "execution_count": null,
   "metadata": {},
   "outputs": [],
   "source": [
    "tracks.iloc[0,0] = tracks.iloc[1, 0]"
   ]
  },
  {
   "cell_type": "code",
   "execution_count": null,
   "metadata": {},
   "outputs": [],
   "source": [
    "tracks.drop(1, axis=0, inplace=True)"
   ]
  },
  {
   "cell_type": "code",
   "execution_count": null,
   "metadata": {},
   "outputs": [],
   "source": [
    "tracks.head()"
   ]
  },
  {
   "cell_type": "markdown",
   "metadata": {},
   "source": [
    "#### Feature Engineering"
   ]
  },
  {
   "cell_type": "code",
   "execution_count": null,
   "metadata": {},
   "outputs": [],
   "source": [
    "len(tracks.columns)"
   ]
  },
  {
   "cell_type": "code",
   "execution_count": null,
   "metadata": {},
   "outputs": [],
   "source": [
    "def combine_one_row(df):\n",
    "    columns = list(df.columns)\n",
    "    for i in range(0, 53):\n",
    "        if i == 0:\n",
    "            columns[i] = df.iloc[0, i]\n",
    "        else:\n",
    "            columns[i] = columns[i] + \" \" + df.iloc[0, i]\n",
    "    return columns"
   ]
  },
  {
   "cell_type": "code",
   "execution_count": null,
   "metadata": {},
   "outputs": [],
   "source": [
    "tracks.columns = combine_one_row(tracks)"
   ]
  },
  {
   "cell_type": "code",
   "execution_count": null,
   "metadata": {},
   "outputs": [],
   "source": [
    "tracks.drop(0, inplace=True)"
   ]
  },
  {
   "cell_type": "code",
   "execution_count": null,
   "metadata": {},
   "outputs": [],
   "source": [
    "tracks.reset_index(inplace=True)"
   ]
  },
  {
   "cell_type": "code",
   "execution_count": null,
   "metadata": {},
   "outputs": [],
   "source": [
    "tracks.drop(['index'], axis=1, inplace=True)"
   ]
  },
  {
   "cell_type": "code",
   "execution_count": null,
   "metadata": {},
   "outputs": [],
   "source": [
    "ms.matrix(tracks.iloc[0: 10])"
   ]
  },
  {
   "cell_type": "code",
   "execution_count": null,
   "metadata": {},
   "outputs": [],
   "source": [
    "tracks.head()"
   ]
  },
  {
   "cell_type": "code",
   "execution_count": null,
   "metadata": {},
   "outputs": [],
   "source": [
    "tracks['track.7 genre_top'].value_counts()"
   ]
  },
  {
   "cell_type": "code",
   "execution_count": null,
   "metadata": {},
   "outputs": [],
   "source": [
    "track_title = pd.DataFrame(tracks['track.19 title'])"
   ]
  },
  {
   "cell_type": "code",
   "execution_count": null,
   "metadata": {},
   "outputs": [],
   "source": [
    "track_title['track_id'] = tracks['track_id']"
   ]
  },
  {
   "cell_type": "code",
   "execution_count": null,
   "metadata": {},
   "outputs": [],
   "source": [
    "track_title.head()"
   ]
  },
  {
   "cell_type": "code",
   "execution_count": null,
   "metadata": {},
   "outputs": [],
   "source": [
    "track_title.tail()"
   ]
  },
  {
   "cell_type": "code",
   "execution_count": null,
   "metadata": {},
   "outputs": [],
   "source": [
    "track_title.shape"
   ]
  },
  {
   "cell_type": "code",
   "execution_count": null,
   "metadata": {},
   "outputs": [],
   "source": [
    "tracks.drop(['album comments','album.1 date_created', \n",
    "             'album.2 date_released', 'album.11 tracks', \n",
    "             'album.9 tags', 'album.8 producer', 'album.3 engineer', 'album.6 information',\n",
    "             'artist active_year_begin', 'artist.1 active_year_end', 'artist.2 associated_labels',\n",
    "             'artist.3 bio','artist.4 comments','artist.5 date_created', 'artist.7 id',\n",
    "             'artist.8 latitude','artist.9 location','artist.10 longitude', 'artist.11 members',\n",
    "             'artist.13 related_projects', 'artist.14 tags','artist.15 website','artist.16 wikipedia_page',\n",
    "             'set.1 subset', 'track.1 comments', 'track.2 composer', 'track.3 date_created', 'track.4 date_recorded',\n",
    "             'track.10 information', 'track.13 license', 'track.15 lyricist', 'track.17 publisher', 'track.18 tags',\n",
    "             'track.19 title'], axis=1, inplace=True)"
   ]
  },
  {
   "cell_type": "code",
   "execution_count": null,
   "metadata": {},
   "outputs": [],
   "source": [
    "tracks.info()"
   ]
  },
  {
   "cell_type": "code",
   "execution_count": null,
   "metadata": {},
   "outputs": [],
   "source": [
    "ms.matrix(tracks)"
   ]
  },
  {
   "cell_type": "code",
   "execution_count": null,
   "metadata": {},
   "outputs": [],
   "source": [
    "tracks['album.12 type'].value_counts()"
   ]
  },
  {
   "cell_type": "code",
   "execution_count": null,
   "metadata": {},
   "outputs": [],
   "source": [
    "tracks['album.10 title'].value_counts()"
   ]
  },
  {
   "cell_type": "code",
   "execution_count": null,
   "metadata": {},
   "outputs": [],
   "source": [
    "tracks['album.10 title'].fillna(method='ffill', inplace=True)"
   ]
  },
  {
   "cell_type": "code",
   "execution_count": null,
   "metadata": {},
   "outputs": [],
   "source": [
    "tracks.drop(['track.12 language_code', 'album.12 type'], axis=1, inplace=True)"
   ]
  },
  {
   "cell_type": "code",
   "execution_count": null,
   "metadata": {},
   "outputs": [],
   "source": [
    "tracks.drop('track.9 genres_all', axis=1, inplace=True)"
   ]
  },
  {
   "cell_type": "code",
   "execution_count": null,
   "metadata": {},
   "outputs": [],
   "source": [
    "ms.matrix(tracks)"
   ]
  },
  {
   "cell_type": "code",
   "execution_count": null,
   "metadata": {},
   "outputs": [],
   "source": [
    "tracks['track.8 genres'].unique()"
   ]
  },
  {
   "cell_type": "code",
   "execution_count": null,
   "metadata": {},
   "outputs": [],
   "source": [
    "genres.info()"
   ]
  },
  {
   "cell_type": "code",
   "execution_count": null,
   "metadata": {},
   "outputs": [],
   "source": [
    "type(tracks['track.7 genre_top'].iloc[27])"
   ]
  },
  {
   "cell_type": "code",
   "execution_count": null,
   "metadata": {},
   "outputs": [],
   "source": [
    "def getList(cd):\n",
    "    return cd[1:-1].split(',')"
   ]
  },
  {
   "cell_type": "code",
   "execution_count": null,
   "metadata": {},
   "outputs": [],
   "source": [
    "for i in range(0, 106574):\n",
    "    if type(tracks['track.7 genre_top'][i]) == float:\n",
    "        genre_list = getList(str(tracks['track.8 genres'][i]))\n",
    "        count = len(genre_list)\n",
    "        title = \"\"\n",
    "        for j in range(0, count):\n",
    "            title = title + str(genres['title'][j]) + str('|')\n",
    "        tracks['track.7 genre_top'][i] = title"
   ]
  },
  {
   "cell_type": "markdown",
   "metadata": {},
   "source": [
    "### Working with 'Genre' dataset"
   ]
  },
  {
   "cell_type": "markdown",
   "metadata": {},
   "source": [
    "#### Analysing Data"
   ]
  },
  {
   "cell_type": "code",
   "execution_count": null,
   "metadata": {},
   "outputs": [],
   "source": [
    "genres.info()"
   ]
  },
  {
   "cell_type": "code",
   "execution_count": null,
   "metadata": {},
   "outputs": [],
   "source": [
    "ms.matrix(genres)"
   ]
  },
  {
   "cell_type": "code",
   "execution_count": null,
   "metadata": {},
   "outputs": [],
   "source": [
    "genres.head()"
   ]
  },
  {
   "cell_type": "markdown",
   "metadata": {},
   "source": [
    "#### Feature Engineering"
   ]
  },
  {
   "cell_type": "markdown",
   "metadata": {},
   "source": [
    "Nothing to engineer!"
   ]
  },
  {
   "cell_type": "markdown",
   "metadata": {},
   "source": [
    "### Combining all datasets into a single entity"
   ]
  },
  {
   "cell_type": "markdown",
   "metadata": {},
   "source": [
    "#### Analysing Data"
   ]
  },
  {
   "cell_type": "code",
   "execution_count": null,
   "metadata": {},
   "outputs": [],
   "source": [
    "echonest.info()"
   ]
  },
  {
   "cell_type": "code",
   "execution_count": null,
   "metadata": {},
   "outputs": [],
   "source": [
    "tracks.info()"
   ]
  },
  {
   "cell_type": "code",
   "execution_count": null,
   "metadata": {},
   "outputs": [],
   "source": [
    "tracks.head()"
   ]
  },
  {
   "cell_type": "code",
   "execution_count": null,
   "metadata": {},
   "outputs": [],
   "source": [
    "echonest.head()"
   ]
  },
  {
   "cell_type": "code",
   "execution_count": null,
   "metadata": {},
   "outputs": [],
   "source": [
    "genres.info()"
   ]
  },
  {
   "cell_type": "code",
   "execution_count": null,
   "metadata": {},
   "outputs": [],
   "source": [
    "features.info()"
   ]
  },
  {
   "cell_type": "markdown",
   "metadata": {},
   "source": [
    "#### Feature Engineering"
   ]
  },
  {
   "cell_type": "code",
   "execution_count": null,
   "metadata": {},
   "outputs": [],
   "source": [
    "features.columns = ['track_id'] + list(features.columns[1:])"
   ]
  },
  {
   "cell_type": "code",
   "execution_count": null,
   "metadata": {},
   "outputs": [],
   "source": [
    "features.head()"
   ]
  },
  {
   "cell_type": "code",
   "execution_count": null,
   "metadata": {},
   "outputs": [],
   "source": [
    "type(echonest['track_id'].iloc[0])"
   ]
  },
  {
   "cell_type": "code",
   "execution_count": null,
   "metadata": {},
   "outputs": [],
   "source": [
    "echonest['track_id'] = echonest['track_id'].astype('int')\n",
    "tracks['track_id'] = tracks['track_id'].astype('int')"
   ]
  },
  {
   "cell_type": "code",
   "execution_count": null,
   "metadata": {},
   "outputs": [],
   "source": [
    "features.sort_values(by='track_id', inplace=True)\n",
    "tracks.sort_values(by='track_id', inplace=True)\n",
    "echonest.sort_values(by='track_id', inplace=True)"
   ]
  },
  {
   "cell_type": "code",
   "execution_count": null,
   "metadata": {},
   "outputs": [],
   "source": [
    "features.head()"
   ]
  },
  {
   "cell_type": "code",
   "execution_count": null,
   "metadata": {},
   "outputs": [],
   "source": [
    "tracks.head()"
   ]
  },
  {
   "cell_type": "code",
   "execution_count": null,
   "metadata": {},
   "outputs": [],
   "source": [
    "count = 0\n",
    "for i in range(0, 106574):\n",
    "    if features['track_id'][i] == tracks['track_id'][i]:\n",
    "        count += 1\n",
    "    else:\n",
    "        print(features['track_id'][i], tracks['track_id'][i])"
   ]
  },
  {
   "cell_type": "code",
   "execution_count": null,
   "metadata": {},
   "outputs": [],
   "source": [
    "final = pd.concat([features, tracks.drop('track_id', axis=1)], axis=1)"
   ]
  },
  {
   "cell_type": "code",
   "execution_count": null,
   "metadata": {},
   "outputs": [],
   "source": [
    "final.shape"
   ]
  },
  {
   "cell_type": "code",
   "execution_count": null,
   "metadata": {},
   "outputs": [],
   "source": [
    "final.head()"
   ]
  },
  {
   "cell_type": "code",
   "execution_count": null,
   "metadata": {},
   "outputs": [],
   "source": [
    "echonest.tail(3)"
   ]
  },
  {
   "cell_type": "code",
   "execution_count": null,
   "metadata": {},
   "outputs": [],
   "source": [
    "echonest.drop(['artist_name', 'release'], axis=1, inplace=True)"
   ]
  },
  {
   "cell_type": "code",
   "execution_count": null,
   "metadata": {},
   "outputs": [],
   "source": [
    "tracks.tail(3)"
   ]
  },
  {
   "cell_type": "code",
   "execution_count": null,
   "metadata": {},
   "outputs": [],
   "source": [
    "features.head(1)"
   ]
  },
  {
   "cell_type": "code",
   "execution_count": null,
   "metadata": {},
   "outputs": [],
   "source": [
    "final = echonest.merge(final, on='track_id')"
   ]
  },
  {
   "cell_type": "code",
   "execution_count": null,
   "metadata": {},
   "outputs": [],
   "source": [
    "final.shape"
   ]
  },
  {
   "cell_type": "code",
   "execution_count": null,
   "metadata": {},
   "outputs": [],
   "source": [
    "ms.matrix(final)"
   ]
  },
  {
   "cell_type": "markdown",
   "metadata": {},
   "source": [
    "### Analysing Data"
   ]
  },
  {
   "cell_type": "code",
   "execution_count": null,
   "metadata": {},
   "outputs": [],
   "source": [
    "final.head()"
   ]
  },
  {
   "cell_type": "code",
   "execution_count": null,
   "metadata": {},
   "outputs": [],
   "source": [
    "final.shape"
   ]
  },
  {
   "cell_type": "code",
   "execution_count": null,
   "metadata": {},
   "outputs": [],
   "source": [
    "final.info()"
   ]
  },
  {
   "cell_type": "code",
   "execution_count": null,
   "metadata": {},
   "outputs": [],
   "source": [
    "final.drop('track.8 genres', axis=1, inplace=True)"
   ]
  },
  {
   "cell_type": "code",
   "execution_count": null,
   "metadata": {},
   "outputs": [],
   "source": [
    "final.shape"
   ]
  },
  {
   "cell_type": "code",
   "execution_count": null,
   "metadata": {},
   "outputs": [],
   "source": [
    "final.head()"
   ]
  },
  {
   "cell_type": "code",
   "execution_count": null,
   "metadata": {},
   "outputs": [],
   "source": [
    "final['track.7 genre_top'].value_counts()"
   ]
  },
  {
   "cell_type": "markdown",
   "metadata": {},
   "source": [
    "### Feature Engineering"
   ]
  },
  {
   "cell_type": "code",
   "execution_count": null,
   "metadata": {},
   "outputs": [],
   "source": [
    "def format_strings(x):\n",
    "    if '-' in x:\n",
    "        return ''.join(x.split('-'))\n",
    "    if x.find('/'):\n",
    "        return '|'.join(x.split('/'))\n",
    "    return x"
   ]
  },
  {
   "cell_type": "code",
   "execution_count": null,
   "metadata": {},
   "outputs": [],
   "source": [
    "def modifyString(serie, val):\n",
    "    for i in range(0, val):\n",
    "        if serie[i] == 'Old-Time / Historic':\n",
    "            serie[i] = 'OldTime|Historic'\n",
    "    return serie"
   ]
  },
  {
   "cell_type": "code",
   "execution_count": null,
   "metadata": {},
   "outputs": [],
   "source": [
    "final['track.7 genre_top'] = modifyString(final['track.7 genre_top'], 13129)"
   ]
  },
  {
   "cell_type": "code",
   "execution_count": null,
   "metadata": {},
   "outputs": [],
   "source": [
    "final['track.7 genre_top'] = final['track.7 genre_top'].apply(format_strings)"
   ]
  },
  {
   "cell_type": "code",
   "execution_count": null,
   "metadata": {},
   "outputs": [],
   "source": [
    "final['track.7 genre_top'].value_counts()"
   ]
  },
  {
   "cell_type": "code",
   "execution_count": null,
   "metadata": {},
   "outputs": [],
   "source": [
    "final.head()"
   ]
  },
  {
   "cell_type": "code",
   "execution_count": null,
   "metadata": {},
   "outputs": [],
   "source": [
    "metadata = pd.DataFrame()"
   ]
  },
  {
   "cell_type": "code",
   "execution_count": null,
   "metadata": {},
   "outputs": [],
   "source": [
    "metadata['track_id'] = final['track_id']"
   ]
  },
  {
   "cell_type": "code",
   "execution_count": null,
   "metadata": {},
   "outputs": [],
   "source": [
    "metadata.shape"
   ]
  },
  {
   "cell_type": "code",
   "execution_count": null,
   "metadata": {},
   "outputs": [],
   "source": [
    "track_title.shape"
   ]
  },
  {
   "cell_type": "code",
   "execution_count": null,
   "metadata": {},
   "outputs": [],
   "source": [
    "track_title = track_title.set_index('track_id')"
   ]
  },
  {
   "cell_type": "code",
   "execution_count": null,
   "metadata": {},
   "outputs": [],
   "source": [
    "track_title.head()"
   ]
  },
  {
   "cell_type": "code",
   "execution_count": null,
   "metadata": {},
   "outputs": [],
   "source": [
    "track_title.index = [int(i) for i in track_title.index]"
   ]
  },
  {
   "cell_type": "code",
   "execution_count": null,
   "metadata": {},
   "outputs": [],
   "source": [
    "track_title.head()"
   ]
  },
  {
   "cell_type": "code",
   "execution_count": null,
   "metadata": {},
   "outputs": [],
   "source": [
    "metadata.head()"
   ]
  },
  {
   "cell_type": "code",
   "execution_count": null,
   "metadata": {},
   "outputs": [],
   "source": [
    "metadata['album_title'] = final['album.10 title']"
   ]
  },
  {
   "cell_type": "code",
   "execution_count": null,
   "metadata": {},
   "outputs": [],
   "source": [
    "metadata['artist_name'] = final['artist.12 name']"
   ]
  },
  {
   "cell_type": "code",
   "execution_count": null,
   "metadata": {},
   "outputs": [],
   "source": [
    "metadata['genre'] = final['track.7 genre_top']"
   ]
  },
  {
   "cell_type": "code",
   "execution_count": null,
   "metadata": {},
   "outputs": [],
   "source": [
    "metadata = metadata.set_index('track_id')"
   ]
  },
  {
   "cell_type": "code",
   "execution_count": null,
   "metadata": {},
   "outputs": [],
   "source": [
    "metadata.tail()"
   ]
  },
  {
   "cell_type": "code",
   "execution_count": null,
   "metadata": {},
   "outputs": [],
   "source": [
    "metadata.head()"
   ]
  },
  {
   "cell_type": "code",
   "execution_count": null,
   "metadata": {},
   "outputs": [],
   "source": [
    "metadata['track_title'] = track_title.loc[metadata.index]['track.19 title']"
   ]
  },
  {
   "cell_type": "code",
   "execution_count": null,
   "metadata": {},
   "outputs": [],
   "source": [
    "metadata.tail()"
   ]
  },
  {
   "cell_type": "code",
   "execution_count": null,
   "metadata": {},
   "outputs": [],
   "source": [
    "metadata.head()"
   ]
  },
  {
   "cell_type": "code",
   "execution_count": null,
   "metadata": {},
   "outputs": [],
   "source": [
    "len(metadata[metadata['genre'].isnull()])"
   ]
  },
  {
   "cell_type": "code",
   "execution_count": null,
   "metadata": {},
   "outputs": [],
   "source": [
    "final.drop('album.10 title', axis=1, inplace=True)"
   ]
  },
  {
   "cell_type": "code",
   "execution_count": null,
   "metadata": {},
   "outputs": [],
   "source": [
    "final.head()"
   ]
  },
  {
   "cell_type": "code",
   "execution_count": null,
   "metadata": {},
   "outputs": [],
   "source": [
    "final.info()"
   ]
  },
  {
   "cell_type": "code",
   "execution_count": null,
   "metadata": {},
   "outputs": [],
   "source": [
    "final.drop('artist.12 name', axis=1, inplace=True)"
   ]
  },
  {
   "cell_type": "code",
   "execution_count": null,
   "metadata": {},
   "outputs": [],
   "source": [
    "final.info()"
   ]
  },
  {
   "cell_type": "code",
   "execution_count": null,
   "metadata": {},
   "outputs": [],
   "source": [
    "final.head()"
   ]
  },
  {
   "cell_type": "code",
   "execution_count": null,
   "metadata": {},
   "outputs": [],
   "source": [
    "k = final # Restore point # Removed Label Encoding"
   ]
  },
  {
   "cell_type": "code",
   "execution_count": null,
   "metadata": {},
   "outputs": [],
   "source": [
    "final.head()"
   ]
  },
  {
   "cell_type": "code",
   "execution_count": null,
   "metadata": {},
   "outputs": [],
   "source": [
    "final.drop('set split', axis=1, inplace=True)"
   ]
  },
  {
   "cell_type": "code",
   "execution_count": null,
   "metadata": {},
   "outputs": [],
   "source": [
    "final.info()"
   ]
  },
  {
   "cell_type": "code",
   "execution_count": null,
   "metadata": {},
   "outputs": [],
   "source": [
    "final.info()"
   ]
  },
  {
   "cell_type": "code",
   "execution_count": null,
   "metadata": {},
   "outputs": [],
   "source": [
    "genres['title'].count()"
   ]
  },
  {
   "cell_type": "code",
   "execution_count": null,
   "metadata": {},
   "outputs": [],
   "source": [
    "genre_dummy = pd.DataFrame(data= np.zeros((13129, 163)), columns= list(genres['title'].unique()))"
   ]
  },
  {
   "cell_type": "code",
   "execution_count": null,
   "metadata": {},
   "outputs": [],
   "source": [
    "genre_dummy.head()"
   ]
  },
  {
   "cell_type": "code",
   "execution_count": null,
   "metadata": {},
   "outputs": [],
   "source": [
    "genre_list = pd.Series(data= genre_dummy.columns)"
   ]
  },
  {
   "cell_type": "code",
   "execution_count": null,
   "metadata": {},
   "outputs": [],
   "source": [
    "genre_list = modifyString(genre_list, 163)"
   ]
  },
  {
   "cell_type": "code",
   "execution_count": null,
   "metadata": {},
   "outputs": [],
   "source": [
    "genre_list = genre_list.apply(format_strings)"
   ]
  },
  {
   "cell_type": "code",
   "execution_count": null,
   "metadata": {},
   "outputs": [],
   "source": [
    "genre_dummy.columns= genre_list"
   ]
  },
  {
   "cell_type": "code",
   "execution_count": null,
   "metadata": {},
   "outputs": [],
   "source": [
    "# columns converted successfully"
   ]
  },
  {
   "cell_type": "code",
   "execution_count": null,
   "metadata": {},
   "outputs": [],
   "source": [
    "genre_list = list(genre_list)"
   ]
  },
  {
   "cell_type": "code",
   "execution_count": null,
   "metadata": {},
   "outputs": [],
   "source": [
    "final"
   ]
  },
  {
   "cell_type": "code",
   "execution_count": null,
   "metadata": {},
   "outputs": [],
   "source": [
    "for i in range(0, 13129):\n",
    "    if '|' in final['track.7 genre_top'][i]:\n",
    "        divided_list = str(final['track.7 genre_top'][i]).split('|')\n",
    "        count = len(divided_list)\n",
    "        for j in range(0, count):\n",
    "            if divided_list[j] in genre_list:\n",
    "                location = genre_list.index(divided_list[j])\n",
    "                genre_dummy.iloc[i, location] = 1\n",
    "    else:\n",
    "        location = genre_list.index(final['track.7 genre_top'][i])\n",
    "        genre_dummy.iloc[i, location] = 1"
   ]
  },
  {
   "cell_type": "code",
   "execution_count": null,
   "metadata": {},
   "outputs": [],
   "source": [
    "genre_list.index(final['track.7 genre_top'][0])"
   ]
  },
  {
   "cell_type": "code",
   "execution_count": null,
   "metadata": {},
   "outputs": [],
   "source": [
    "final.drop(['track.7 genre_top'], axis= 1, inplace= True)"
   ]
  },
  {
   "cell_type": "code",
   "execution_count": null,
   "metadata": {},
   "outputs": [],
   "source": [
    "final = pd.concat([final, genre_dummy], axis= 1)"
   ]
  },
  {
   "cell_type": "code",
   "execution_count": null,
   "metadata": {},
   "outputs": [],
   "source": [
    "final.head()"
   ]
  },
  {
   "cell_type": "markdown",
   "metadata": {},
   "source": [
    "### Writing final data to .csv files"
   ]
  },
  {
   "cell_type": "code",
   "execution_count": null,
   "metadata": {},
   "outputs": [],
   "source": [
    "import os\n",
    "\n",
    "if not os.path.isdir(os.path.join('datasets','final')):\n",
    "    os.makedirs(os.path.join('datasets','final'))\n",
    "    \n",
    "metadata.to_csv('datasets/final/metadata.csv')\n",
    "final.to_csv('datasets/final/final.csv')"
   ]
  }
 ],
 "metadata": {
  "kernelspec": {
   "display_name": "m_recomend_pkgs",
   "language": "python",
   "name": "m_recomend_pkgs"
  },
  "language_info": {
   "codemirror_mode": {
    "name": "ipython",
    "version": 3
   },
   "file_extension": ".py",
   "mimetype": "text/x-python",
   "name": "python",
   "nbconvert_exporter": "python",
   "pygments_lexer": "ipython3",
   "version": "3.9.7"
  },
  "notify_time": "5",
  "varInspector": {
   "cols": {
    "lenName": 16,
    "lenType": 16,
    "lenVar": 40
   },
   "kernels_config": {
    "python": {
     "delete_cmd_postfix": "",
     "delete_cmd_prefix": "del ",
     "library": "var_list.py",
     "varRefreshCmd": "print(var_dic_list())"
    },
    "r": {
     "delete_cmd_postfix": ") ",
     "delete_cmd_prefix": "rm(",
     "library": "var_list.r",
     "varRefreshCmd": "cat(var_dic_list()) "
    }
   },
   "types_to_exclude": [
    "module",
    "function",
    "builtin_function_or_method",
    "instance",
    "_Feature"
   ],
   "window_display": false
  }
 },
 "nbformat": 4,
 "nbformat_minor": 2
}
